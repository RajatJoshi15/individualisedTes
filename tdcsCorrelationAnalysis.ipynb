{
 "cells": [
  {
   "attachments": {},
   "cell_type": "markdown",
   "metadata": {},
   "source": [
    "Libraries"
   ]
  },
  {
   "cell_type": "code",
   "execution_count": null,
   "metadata": {},
   "outputs": [],
   "source": [
    "import os\n",
    "import pandas as pd\n",
    "import numpy as np\n",
    "import matplotlib.pyplot as plt\n",
    "import seaborn as sns\n",
    "from scipy import stats"
   ]
  },
  {
   "attachments": {},
   "cell_type": "markdown",
   "metadata": {},
   "source": [
    "Data Frame"
   ]
  },
  {
   "cell_type": "code",
   "execution_count": null,
   "metadata": {},
   "outputs": [],
   "source": [
    "corr_df = pd.read_csv(\"....\") #path to the correlation csv"
   ]
  },
  {
   "cell_type": "code",
   "execution_count": null,
   "metadata": {},
   "outputs": [],
   "source": [
    "fix_blocks = ['fix_block1', 'fix_block2','fix_block3','fix_block4','fix_block5','fix_block6', 'fix_block7','fix_block8']\n",
    "ind_blocks = ['ind_block1', 'ind_block2','ind_block3','ind_block4','ind_block5','ind_block6', 'ind_block7','ind_block8']\n",
    "# "
   ]
  },
  {
   "cell_type": "markdown",
   "metadata": {},
   "source": [
    "CORRELATTION\n"
   ]
  },
  {
   "cell_type": "code",
   "execution_count": null,
   "metadata": {},
   "outputs": [],
   "source": [
    "fix_corr = pd.DataFrame()\n",
    "slope = []\n",
    "r_value = []\n",
    "p_value = []\n",
    "std_err = []\n",
    "intercept = []\n",
    "fitline = []\n",
    "for i in enumerate(fix_blocks):\n",
    "    # cc,pp = pearsonr(corr_df[\"EFI_fix\"], corr_df[i[1]])\n",
    "    slope_, intercept_, r_value_, p_value_, std_err_ = stats.linregress(corr_df[\"EFI_fix\"], corr_df[i[1]])\n",
    "    fitline_ = slope_ * corr_df[\"EFI_fix\"] + intercept_\n",
    "\n",
    "    slope.append(slope_)\n",
    "    r_value.append(r_value_)\n",
    "    p_value.append(p_value_)\n",
    "    std_err.append(std_err_)\n",
    "    intercept.append(intercept_)\n",
    "    fitline.append(fitline_)\n",
    "    \n",
    "\n",
    "fix_corr[\"slope\"] = slope\n",
    "fix_corr[\"p_value\"] = p_value\n",
    "fix_corr[\"r_value\"] = r_value\n",
    "fix_corr[\"std_err\"] = std_err\n",
    "fix_corr[\"intercept\"] = intercept\n",
    "fix_corr[\"fitline\"] = fitline"
   ]
  },
  {
   "cell_type": "code",
   "execution_count": null,
   "metadata": {},
   "outputs": [],
   "source": [
    "ind_corr = pd.DataFrame()\n",
    "slope = []\n",
    "r_value = []\n",
    "p_value = []\n",
    "std_err = []\n",
    "intercept = []\n",
    "fitline = []\n",
    "for i in enumerate(ind_blocks):\n",
    "    # cc,pp = pearsonr(corr_df[\"EFI_fix\"], corr_df[i[1]])\n",
    "    slope_, intercept_, r_value_, p_value_, std_err_ = stats.linregress(corr_df[\"Ind_dose_org\"], corr_df[i[1]])\n",
    "    fitline_ = slope_ * corr_df[\"Ind_dose_org\"] + intercept_\n",
    "\n",
    "    slope.append(slope_)\n",
    "    r_value.append(r_value_)\n",
    "    p_value.append(p_value_)\n",
    "    std_err.append(std_err_)\n",
    "    intercept.append(intercept_)\n",
    "    fitline.append(fitline_)\n",
    "    \n",
    "\n",
    "ind_corr[\"slope\"] = slope\n",
    "ind_corr[\"p_value\"] = p_value\n",
    "ind_corr[\"r_value\"] = r_value\n",
    "ind_corr[\"std_err\"] = std_err\n",
    "ind_corr[\"intercept\"] = intercept\n",
    "ind_corr[\"fitline\"] = fitline"
   ]
  },
  {
   "attachments": {},
   "cell_type": "markdown",
   "metadata": {},
   "source": [
    "calculating fitline for the fixed dose"
   ]
  },
  {
   "cell_type": "code",
   "execution_count": null,
   "metadata": {},
   "outputs": [],
   "source": [
    "block = [\"Block\"+ str(i+1) for i in range(8)]\n",
    "tempDF_fitline_fix = pd.DataFrame(index = block)\n",
    "tempDF_fitline_fix[\"fitline\"] = fix_corr.loc[:,\"fitline\"].to_numpy() \n",
    "subject = [\"sub\" + str(i+1) for i in range(len(corr_df))]\n",
    "data_fitline_fix = pd.DataFrame(index = subject)\n",
    "\n",
    "for i in range(len(tempDF_fitline_fix)):\n",
    "    data_fitline_fix[\"Block\" + str(i+1)] = tempDF_fitline_fix[\"fitline\"][i].to_numpy()\n",
    "    "
   ]
  },
  {
   "attachments": {},
   "cell_type": "markdown",
   "metadata": {},
   "source": [
    "calculating fitline for the individualised dose"
   ]
  },
  {
   "cell_type": "code",
   "execution_count": null,
   "metadata": {},
   "outputs": [],
   "source": [
    "tempDF_fitline_ind = pd.DataFrame(index = block)\n",
    "tempDF_fitline_ind[\"fitline\"] = ind_corr.loc[:,\"fitline\"].to_numpy()\n",
    "subject = [\"sub\" + str(i+1) for i in range(len(corr_df))]\n",
    "data_fitline_ind = pd.DataFrame(index = subject)\n",
    "\n",
    "for i in range(len(tempDF_fitline_ind)):\n",
    "    data_fitline_ind[\"Block\" + str(i+1)] = tempDF_fitline_ind[\"fitline\"][i].to_numpy()\n",
    "    "
   ]
  },
  {
   "cell_type": "markdown",
   "metadata": {},
   "source": [
    "Fixed dose correlation plot"
   ]
  },
  {
   "cell_type": "code",
   "execution_count": null,
   "metadata": {},
   "outputs": [],
   "source": [
    "# plt.figure(figsize=(47,29))\n",
    "fig, axes = plt.subplots(2,4, figsize = (47, 25))\n",
    "ax = axes.flat\n",
    "for i, block in enumerate(ind_blocks):\n",
    "    for _, spine in ax[i].spines.items():\n",
    "        spine.set_visible(False)\n",
    "    ax[i].grid(True, axis = \"y\", color='w', linestyle='-', linewidth=2)\n",
    "    ax[i].patch.set_facecolor('.91')\n",
    "    g = sns.regplot(ax = ax[i], data = corr_df, x = \"EFI_fix\", y = block, scatter_kws={\"s\" : 350},\n",
    "     line_kws = {\"color\": \"red\"})\n",
    "    # plt.plot(corr_df[\"EFI_fix\"].tolist(), data_fitline_fix[\"Block\" + str(i[0]+1)], c = \"red\")\n",
    "    g.set(ylim=(200, 700))\n",
    "    ax[i].xaxis.set_tick_params(labelsize = 30)\n",
    "    ax[i].yaxis.set_tick_params(labelsize = 30)\n",
    "    ax[i].set_ylabel(\"RT (ms)\", fontsize = 42, fontname = \"sans-serif\")\n",
    "    ax[i].set_xlabel(\"E-field Intensity (V/m)\", fontsize = 42, fontname = \"sans-serif\")\n",
    "    ax[i].set_title(\"B\" + block[-5:] + \" (r = {:0.2f}\".format(fix_corr[\"r_value\"][i]) + \", p = {:0.2f})\".format(fix_corr[\"p_value\"][i]), fontsize = 35,fontname = \"sans-serif\")\n",
    "fig.suptitle(\"Electric Field Intensity (V/m) - Performance\", fontsize = 60, fontname = \"serif\")\n",
    "# plt.savefig(r\"/home/friction_15/lab/dissertation/reviewFigures/corr_plots/efi_rtmA.jpg\", format = \"jpg\", dpi = 300)\n",
    "plt.show()    "
   ]
  },
  {
   "cell_type": "markdown",
   "metadata": {},
   "source": [
    "Dose RT correlation plot"
   ]
  },
  {
   "cell_type": "code",
   "execution_count": null,
   "metadata": {},
   "outputs": [],
   "source": [
    "# plt.figure(figsize=(47,29))\n",
    "fig, axes = plt.subplots(2,4, figsize = (47,25))\n",
    "ax = axes.flat\n",
    "# plt.tick_params(axis='both', labelsize=30)\n",
    "for i, block in enumerate(ind_blocks):\n",
    "    for _, spine in ax[i].spines.items():\n",
    "        spine.set_visible(False)\n",
    "    ax[i].grid(True, axis = \"y\", color='w', linestyle='-', linewidth=2)\n",
    "    ax[i].patch.set_facecolor('.91')\n",
    "    g = sns.regplot(ax = ax[i], data = corr_df, x = \"Ind_dose_org\", y = block, scatter_kws={'s':300 }, line_kws = {\"color\": \"red\"})\n",
    "    # plt.plot(corr_df[\"Ind_dose_org\"].tolist(), data_fitline_ind[\"Block\" + str(i[0]+1)], c = \"red\")\n",
    "    g.set(ylim=(200, 700))\n",
    "    ax[i].set_ylabel(\"RT(ms)\", fontsize = 42, fontname = \"sans-serif\")\n",
    "    ax[i].set_xlabel(\"Dose (mA)\", fontsize = 42, fontname = \"sans-serif\")\n",
    "    ax[i].xaxis.set_tick_params(labelsize = 30)\n",
    "    ax[i].yaxis.set_tick_params(labelsize = 30)\n",
    "    ax[i].patch.set_facecolor('.91')\n",
    "    ax[i].set_title(\"B\" + block[-5:] + \" (r = {:0.2f}\".format(ind_corr[\"r_value\"][i]) + \", p = {:0.2f})\".format(ind_corr[\"p_value\"][i]), fontsize = 35, fontname = \"sans-serif\")  \n",
    "fig.suptitle(\"Stimulation Intensity (mA) - Performance\", fontsize = 60, fontname = \"serif\")\n",
    "# plt.savefig(r\"/home/friction_15/lab/dissertation/reviewFigures/corr_plots/dose1mA_rt.jpg\", format = \"jpg\", dpi = 300)\n"
   ]
  }
 ],
 "metadata": {
  "kernelspec": {
   "display_name": "Python 3.9.7 ('base')",
   "language": "python",
   "name": "python3"
  },
  "language_info": {
   "codemirror_mode": {
    "name": "ipython",
    "version": 3
   },
   "file_extension": ".py",
   "mimetype": "text/x-python",
   "name": "python",
   "nbconvert_exporter": "python",
   "pygments_lexer": "ipython3",
   "version": "3.9.7"
  },
  "orig_nbformat": 4,
  "vscode": {
   "interpreter": {
    "hash": "7646d542c936ad5cb0e2a79856d32e94320ebbf9c0d0df29132793802f259745"
   }
  }
 },
 "nbformat": 4,
 "nbformat_minor": 2
}
