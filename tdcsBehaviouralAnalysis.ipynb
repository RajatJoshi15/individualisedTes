{
 "cells": [
  {
   "attachments": {},
   "cell_type": "markdown",
   "metadata": {},
   "source": [
    "Libraries"
   ]
  },
  {
   "cell_type": "code",
   "execution_count": 1,
   "metadata": {},
   "outputs": [],
   "source": [
    "import os\n",
    "import pandas as pd\n",
    "import numpy as np\n",
    "import matplotlib.pyplot as plt\n",
    "from scipy.stats import shapiro\n",
    "import scipy.stats as stats\n",
    "import pingouin as pg\n",
    "import statistics\n",
    "import plotly.graph_objects as go\n",
    "import plotly.express as px \n",
    "import plotly.io as pio"
   ]
  },
  {
   "cell_type": "code",
   "execution_count": null,
   "metadata": {},
   "outputs": [],
   "source": [
    "# Set the filepath and other variables\n",
    "filepath = '/home/rajat_joshi/Documents/lab/tES/experiment/SRTT_SEPARATE/'\n",
    "outliers = ['SUBC3FP2010', 'SUBC3FP2054']\n",
    "blocks = ['Block' + str(i+1) for i in range(8)]\n",
    "\n",
    "# Initialize data containers\n",
    "block_mean = pd.DataFrame(index=blocks)\n",
    "block_norm_cent_mean = pd.DataFrame(index=blocks)\n",
    "block_rt_abs_mean = pd.DataFrame(index=blocks)\n",
    "block_std = pd.DataFrame(index=blocks)\n",
    "block_rt_abs_std = pd.DataFrame(index=blocks)\n",
    "block_rt_abs_er = pd.DataFrame(index=blocks)\n",
    "block_err = pd.DataFrame(index=blocks)\n",
    "block_norm_cent_err = pd.DataFrame(index=blocks)\n",
    "data_files_full = dict()\n",
    "variability_sub_all_blocks = dict()\n",
    "data_files = dict()\n",
    "data_file_cent = dict()\n",
    "upper_bound = dict()\n",
    "lower_bound = dict()\n",
    "error_dict_full = dict()\n",
    "error_dict_block = dict()\n",
    "block_er_mean = pd.DataFrame(index=blocks)\n",
    "block_er_mean_norm = pd.DataFrame(index=blocks)\n",
    "block_er_sem = pd.DataFrame(index=blocks)\n",
    "block_er_sem_norm = pd.DataFrame(index=blocks)\n",
    "anova_file_full = []\n",
    "final_VAR_file = dict()\n",
    "an_learn = []\n",
    "an_learn_cond = []\n",
    "an_learn_sub = []\n",
    "an_learn_nn = []\n",
    "data_files_abs = dict()\n",
    "learn_dict = dict()\n",
    "learn_full = []\n",
    "learn_df = pd.DataFrame()\n",
    "data_files_absRT = dict()\n",
    "data_file_absRT_sub = dict()\n",
    "total_correct_df = pd.DataFrame()\n",
    "timeDuration_df = pd.DataFrame()\n",
    "\n",
    "# Get the list of files in the filepath\n",
    "filepaths = os.listdir(filepath)\n",
    "order = [0, 2, 1]\n",
    "filepaths = [filepaths[i] for i in order]\n",
    "\n",
    "# Iterate over filepaths\n",
    "for file in filepaths:\n",
    "    # Get the list of files in the current directory\n",
    "    files = os.listdir(filepath + file + '/')\n",
    "    \n",
    "    # Exclude outliers from the file list\n",
    "    files_except_outliers = [i for i in files if i[:11] not in outliers]\n",
    "    \n",
    "    # Initialize data containers\n",
    "    final = pd.DataFrame(index=blocks)\n",
    "    final_cent = pd.DataFrame(index=blocks)\n",
    "    final_er_norm = pd.DataFrame(index=blocks)\n",
    "    final_er = pd.DataFrame(index=blocks)\n",
    "    final_er_full = pd.DataFrame(index=['all'])\n",
    "    final_abs = pd.DataFrame(index=blocks)\n",
    "    final_var = pd.DataFrame(index=blocks)\n",
    "    total_correct = []\n",
    "    timeDuration = []\n",
    "\n",
    "    # Iterate over files in the current directory\n",
    "    for indexx, i in enumerate(files_except_outliers):\n",
    "        # Initialize data containers for the current file\n",
    "        anova_file = pd.DataFrame()\n",
    "        filename = i[:13]\n",
    "        \n",
    "        # Determine the skip rows based on the filename\n",
    "        if filename[-1] == '1':\n",
    "            skip_r = 2957\n",
    "        else:\n",
    "            skip_r = 2896\n",
    "\n",
    "        # Read the CSV file\n",
    "        df = pd.read_csv(filepath + file + '/' + i, skiprows=skip_r, delimiter=\"\\t\")\n",
    "\n",
    "        # Process the data\n",
    "        df1 = df[df[\"Code\"].str.len() > 5]  # To separate nan and isi from block\n",
    "\n",
    "        df1[[\"Block\", \"Condition\", \"Target Button\", \"Trial Number\"]] = df1[\"Code\"].str.split(';', expand=True)\n",
    "        df1.drop(\"Code\", axis=1, inplace=True)\n",
    "        cols = [\"Block\", \"Condition\", \"Target Button\", \"Trial Number\"]\n",
    "\n",
    "        for col in reversed(cols):\n",
    "            temp = df1[col].str.strip()\n",
    "            df1.drop(labels=[col], axis=1, inplace=True)\n",
    "            df1.insert(1, col, temp)\n",
    "\n",
    "        cols.remove(\"Condition\")\n",
    "        df1 = df1[df1['Block'] != 'PRACTICE BLOCK']  # Removing practice blocks\n",
    "        for col in cols:\n",
    "            df1[col] = df1[col].str.extract('(\\d+)').astype(int)  # Extract numbers from string\n",
    "        df1[\"RT\"] = df1[\"RT\"] / 10\n",
    "\n",
    "        # Remove incorrect trials and calculate error rates\n",
    "        incorrect = df1[df1[\"Type\"] == \"incorrect\"]\n",
    "        hit = df1[df1[\"Type\"] == \"hit\"]\n",
    "        blockwise_before_drop = hit.groupby(\"Block\").size().reset_index()\n",
    "        blockwise_before_drop.drop('Block', axis=1, inplace=True)\n",
    "        final_er['er_'+filename] = 1 - (blockwise_before_drop.to_numpy() / 120)\n",
    "        final_er_full['er_'+filename] = 1 - (len(hit) / len(df1))\n",
    "        total_correct.append(len(hit))\n",
    "        time = hit[\"Time\"].tolist()\n",
    "        timeDuration.append(time[-1] / 60 / 10000)\n",
    "\n",
    "        # Remove outliers based on RT mean and standard deviation\n",
    "        RT_mean = hit[\"RT\"].mean()\n",
    "        RT_std = hit[\"RT\"].std()\n",
    "        hit.drop(hit[(hit[\"RT\"] > (RT_mean + 3 * RT_std))].index, inplace=True)\n",
    "        \n",
    "        # Calculate blockwise mean and normalize the values\n",
    "        blockwise = hit.groupby(\"Block\")[\"RT\"].mean().reset_index()\n",
    "        blockwise['normal'] = blockwise['RT'] / blockwise.iloc[0]['RT']\n",
    "        final['norm_'+filename] = blockwise['normal'].to_numpy()\n",
    "\n",
    "        # Calculate implicit learning and percent increase across blocks\n",
    "        learn = blockwise.iloc[5]['normal'] - blockwise.iloc[4]['normal']\n",
    "        learn_nn = blockwise.iloc[7]['RT'] - blockwise.iloc[2]['RT']\n",
    "        norm_cent = []\n",
    "\n",
    "        for index, row in blockwise.iterrows():\n",
    "            if index == 0:\n",
    "                norm_cent.append(0)\n",
    "            else:\n",
    "                norm_cent.append((float(row[\"RT\"]) - float(blockwise.iloc[index-1]['RT'])) /\n",
    "                                 abs(float(blockwise.iloc[index-1]['RT'])))\n",
    "\n",
    "        blockwise[\"norm_cent\"] = norm_cent\n",
    "        blockwise['var'] = statistics.variance(blockwise['RT'])\n",
    "        blockwise['var_norm'] = abs(blockwise['normal'] - (blockwise['normal'].mean()))\n",
    "        final_var[filename] = blockwise['var'].to_numpy()\n",
    "        blockwise['ER'] = final_er.mean(axis=1).to_numpy()\n",
    "        blockwise['ER_norm'] = blockwise['ER'] / blockwise.iloc[0]['ER']\n",
    "        final_er_norm['er_norm_'+filename] = blockwise['ER_norm'].to_numpy()\n",
    "        final_abs['rt_abs_'+filename] = blockwise['RT'].to_numpy()\n",
    "        final_cent[\"RT_change\"] = blockwise[\"norm_cent\"].to_numpy()\n",
    "        an_learn.append(learn)\n",
    "        an_learn_nn.append(learn_nn)\n",
    "        an_learn_cond.append(file)\n",
    "        an_learn_sub.append(filename[-4:-2])\n",
    "\n",
    "        learn_df = pd.DataFrame()\n",
    "        learn_df[\"subject\"] = [filename[-4:-2]]\n",
    "        learn_df['learn'] = learn\n",
    "        learn_df[\"learn_nn\"] = learn_nn\n",
    "        learn_df[\"cond\"] = file\n",
    "        learn_full.append(learn_df)\n",
    "\n",
    "        anova_file['subject'] = [filename[-4:-2]] * len(blocks)\n",
    "        anova_file['rt_abs'] = blockwise['RT'].to_numpy()\n",
    "        anova_file['norm_rt'] = blockwise['normal'].to_numpy()\n",
    "        anova_file['er'] = blockwise['ER'].to_numpy()\n",
    "        anova_file['var'] = blockwise['var'].to_numpy()\n",
    "        anova_file['var_norm'] = blockwise['var_norm'].to_numpy()\n",
    "        anova_file['block'] = blocks\n",
    "        anova_file['condition'] = file\n",
    "        anova_file['norm_cent'] = blockwise[\"norm_cent\"]\n",
    "        anova_file_full.append(anova_file)\n",
    "\n",
    "    # Store the calculated results in the respective data containers\n",
    "    q1 = final.quantile(.25, axis=1)\n",
    "    q3 = final.quantile(.75, axis=1)\n",
    "    iqr = q3 - q1\n",
    "    upper_bound[file] = q3 + (1.5 * iqr)\n",
    "    lower_bound[file] = q1 - (1.5 * iqr)\n",
    "    data_files[file] = final.loc[['Block5', 'Block6', 'Block8']].T\n",
    "    data_files_absRT[file] = final_abs.loc[['Block5', 'Block6', 'Block8']].T\n",
    "    data_files_full[file] = final\n",
    "    data_file_absRT_sub[file] = final_abs\n",
    "    final_VAR_file[file] = final_var\n",
    "    data_file_cent[file] = final_cent\n",
    "    block_mean[file] = final.mean(axis=1)\n",
    "    block_norm_cent_mean[file] = final_cent.mean(axis=1)\n",
    "    block_er_mean_norm[file] = final_er_norm.mean(axis=1)\n",
    "    block_rt_abs_mean[file] = final_abs.mean(axis=1)\n",
    "    block_std[file] = final.std(axis=1)\n",
    "    block_rt_abs_std[file] = final_abs.std(axis=1)\n",
    "    block_err[file] = final.sem(axis=1)  # standard error of mean\n",
    "    block_norm_cent_err[file] = final_cent.sem(axis=1)\n",
    "    block_er_sem_norm[file] = final_er_norm.sem(axis=1)\n",
    "    block_rt_abs_er[file] = final_abs.sem(axis=1)\n",
    "    error_dict_block[file] = final_er\n",
    "    block_er_mean[file] = final_er.mean(axis=1)\n",
    "    block_er_sem[file] = final_er.sem(axis=1)\n",
    "    error_dict_full[file] = final_er_full\n",
    "    data_files_abs[file] = final_abs\n",
    "    total_correct_df[file] = total_correct\n",
    "    timeDuration_df[file] = timeDuration\n"
   ]
  },
  {
   "attachments": {},
   "cell_type": "markdown",
   "metadata": {},
   "source": [
    "Generating csvs for ANOVA"
   ]
  },
  {
   "cell_type": "code",
   "execution_count": 3,
   "metadata": {},
   "outputs": [],
   "source": [
    "an_file = pd.concat(anova_file_full)\n",
    "learn_file = pd.concat(learn_full)\n",
    "anova_learn = pd.DataFrame({'Subject': an_learn_sub, 'learning':an_learn, 'learning_nn': an_learn_nn, 'condition': an_learn_cond})\n",
    "# an_file.to_csv(r\"/an_file_session.csv\") "
   ]
  },
  {
   "cell_type": "code",
   "execution_count": 4,
   "metadata": {},
   "outputs": [],
   "source": [
    "learn_cond = anova_learn.groupby('condition')['learning'].apply(list).to_dict()\n",
    "learn_cond_nn = anova_learn.groupby('condition')['learning_nn'].apply(list).to_dict()\n",
    "er_ = an_file.groupby('block')['er'].apply(list).to_dict()\n",
    "# learn_cond.set_index(\"condition\")\n",
    "anova_learn.set_index(\"Subject\",drop = \"index\", inplace = True)\n",
    "anova_learn.sort_index(inplace = True)\n",
    "# anova_learn.to_csv(r\"/anova_learn.csv\")"
   ]
  },
  {
   "attachments": {},
   "cell_type": "markdown",
   "metadata": {},
   "source": [
    "Comparing block 1 data across the stimulation conditions"
   ]
  },
  {
   "cell_type": "code",
   "execution_count": 5,
   "metadata": {},
   "outputs": [
    {
     "name": "stdout",
     "output_type": "stream",
     "text": [
      "          Source         W  ddof1         Q     p-unc\n",
      "Friedman  Within  0.063492      2  2.666667  0.263597\n"
     ]
    }
   ],
   "source": [
    "block1Df = pd.DataFrame({\"Sham\" : data_files_abs[\"Sham\"].iloc[0,:].to_numpy(),\n",
    "                         \"Fixed dose\" : data_files_abs[\"Fixed dose\"].iloc[0,:].to_numpy(),\n",
    "                         \"Individualised dose\" : data_files_abs[\"Individualised dose\"].iloc[0,:].to_numpy()})\n",
    "# block1Df.dropna()\n",
    "# Performing ANOVA- Friedman test\n",
    "result = pg.friedman(block1Df, method = \"chisq\")\n",
    "print(result)"
   ]
  },
  {
   "attachments": {},
   "cell_type": "markdown",
   "metadata": {},
   "source": [
    "Descriptive statistics"
   ]
  },
  {
   "cell_type": "code",
   "execution_count": 6,
   "metadata": {},
   "outputs": [
    {
     "name": "stdout",
     "output_type": "stream",
     "text": [
      "Sham\n",
      " Mean:934.4285714285714\n",
      " SD:16.699016224231382\n",
      " Min :903\n",
      " Max :956\n",
      "\n",
      "Fixed dose\n",
      " Mean:932.9047619047619\n",
      " SD:17.66325214082832\n",
      " Min :894\n",
      " Max :956\n",
      "\n",
      "Individualised dose\n",
      " Mean:932.6666666666666\n",
      " SD:18.251940536100083\n",
      " Min :887\n",
      " Max :955\n",
      "\n"
     ]
    }
   ],
   "source": [
    "# Total trials included in analysis\n",
    "for i, row in total_correct_df.T.iterrows():\n",
    "    print(i)\n",
    "    print(\" Mean:\" + str(row.mean()))\n",
    "    print(\" SD:\" + str(row.std()))\n",
    "    print(\" Min :\" + str(min(row)))\n",
    "    print(\" Max :\" + str(max(row)))\n",
    "    print(\"\")"
   ]
  },
  {
   "cell_type": "code",
   "execution_count": 7,
   "metadata": {},
   "outputs": [
    {
     "name": "stdout",
     "output_type": "stream",
     "text": [
      "Sham\n",
      "Mean: 17.39729650793651\n",
      "SD: 2.0787723111016154\n",
      "\n",
      "Fixed dose\n",
      "Mean: 17.005873968253972\n",
      "SD: 2.275160481655359\n",
      "\n",
      "Individualised dose\n",
      "Mean: 17.009117380952382\n",
      "SD: 1.6434841258670023\n",
      "\n"
     ]
    }
   ],
   "source": [
    "#Total stimulation time for each tDCS condition\n",
    "for i, row in timeDuration_df.T.iterrows():\n",
    "    print(i)\n",
    "    print(\"Mean: \" + str(row.mean()))\n",
    "    print(\"SD: \" + str(row.std()))\n",
    "    print(\"\")"
   ]
  },
  {
   "cell_type": "markdown",
   "metadata": {},
   "source": [
    "z_score across blocks"
   ]
  },
  {
   "cell_type": "code",
   "execution_count": 44,
   "metadata": {},
   "outputs": [
    {
     "data": {
      "application/vnd.plotly.v1+json": {
       "config": {
        "plotlyServerURL": "https://plot.ly"
       },
       "data": [
        {
         "alignmentgroup": "True",
         "boxpoints": "all",
         "fillcolor": "rgba(255,255,255,0)",
         "hoveron": "points",
         "hovertemplate": "<b>%{hovertext}</b><br><br>variable=%{x}<br>value=%{y}<extra></extra>",
         "hovertext": [
          "43",
          "24",
          "27",
          "08",
          "09",
          "16",
          "37",
          "42",
          "45",
          "21",
          "25",
          "41",
          "39",
          "26",
          "36",
          "11",
          "17",
          "38",
          "03",
          "44",
          "22",
          "43",
          "24",
          "27",
          "08",
          "09",
          "16",
          "37",
          "42",
          "45",
          "21",
          "25",
          "41",
          "39",
          "26",
          "36",
          "11",
          "17",
          "38",
          "03",
          "44",
          "22",
          "43",
          "24",
          "27",
          "08",
          "09",
          "16",
          "37",
          "42",
          "45",
          "21",
          "25",
          "41",
          "39",
          "26",
          "36",
          "11",
          "17",
          "38",
          "03",
          "44",
          "22",
          "43",
          "24",
          "27",
          "08",
          "09",
          "16",
          "37",
          "42",
          "45",
          "21",
          "25",
          "41",
          "39",
          "26",
          "36",
          "11",
          "17",
          "38",
          "03",
          "44",
          "22",
          "43",
          "24",
          "27",
          "08",
          "09",
          "16",
          "37",
          "42",
          "45",
          "21",
          "25",
          "41",
          "39",
          "26",
          "36",
          "11",
          "17",
          "38",
          "03",
          "44",
          "22",
          "43",
          "24",
          "27",
          "08",
          "09",
          "16",
          "37",
          "42",
          "45",
          "21",
          "25",
          "41",
          "39",
          "26",
          "36",
          "11",
          "17",
          "38",
          "03",
          "44",
          "22",
          "43",
          "24",
          "27",
          "08",
          "09",
          "16",
          "37",
          "42",
          "45",
          "21",
          "25",
          "41",
          "39",
          "26",
          "36",
          "11",
          "17",
          "38",
          "03",
          "44",
          "22",
          "43",
          "24",
          "27",
          "08",
          "09",
          "16",
          "37",
          "42",
          "45",
          "21",
          "25",
          "41",
          "39",
          "26",
          "36",
          "11",
          "17",
          "38",
          "03",
          "44",
          "22"
         ],
         "legendgroup": "",
         "line": {
          "color": "rgba(255,255,255,0)"
         },
         "marker": {
          "color": "#636efa"
         },
         "name": "",
         "offsetgroup": "",
         "orientation": "v",
         "pointpos": 0,
         "showlegend": false,
         "type": "box",
         "x": [
          "Block1",
          "Block1",
          "Block1",
          "Block1",
          "Block1",
          "Block1",
          "Block1",
          "Block1",
          "Block1",
          "Block1",
          "Block1",
          "Block1",
          "Block1",
          "Block1",
          "Block1",
          "Block1",
          "Block1",
          "Block1",
          "Block1",
          "Block1",
          "Block1",
          "Block2",
          "Block2",
          "Block2",
          "Block2",
          "Block2",
          "Block2",
          "Block2",
          "Block2",
          "Block2",
          "Block2",
          "Block2",
          "Block2",
          "Block2",
          "Block2",
          "Block2",
          "Block2",
          "Block2",
          "Block2",
          "Block2",
          "Block2",
          "Block2",
          "Block3",
          "Block3",
          "Block3",
          "Block3",
          "Block3",
          "Block3",
          "Block3",
          "Block3",
          "Block3",
          "Block3",
          "Block3",
          "Block3",
          "Block3",
          "Block3",
          "Block3",
          "Block3",
          "Block3",
          "Block3",
          "Block3",
          "Block3",
          "Block3",
          "Block4",
          "Block4",
          "Block4",
          "Block4",
          "Block4",
          "Block4",
          "Block4",
          "Block4",
          "Block4",
          "Block4",
          "Block4",
          "Block4",
          "Block4",
          "Block4",
          "Block4",
          "Block4",
          "Block4",
          "Block4",
          "Block4",
          "Block4",
          "Block4",
          "Block5",
          "Block5",
          "Block5",
          "Block5",
          "Block5",
          "Block5",
          "Block5",
          "Block5",
          "Block5",
          "Block5",
          "Block5",
          "Block5",
          "Block5",
          "Block5",
          "Block5",
          "Block5",
          "Block5",
          "Block5",
          "Block5",
          "Block5",
          "Block5",
          "Block6",
          "Block6",
          "Block6",
          "Block6",
          "Block6",
          "Block6",
          "Block6",
          "Block6",
          "Block6",
          "Block6",
          "Block6",
          "Block6",
          "Block6",
          "Block6",
          "Block6",
          "Block6",
          "Block6",
          "Block6",
          "Block6",
          "Block6",
          "Block6",
          "Block7",
          "Block7",
          "Block7",
          "Block7",
          "Block7",
          "Block7",
          "Block7",
          "Block7",
          "Block7",
          "Block7",
          "Block7",
          "Block7",
          "Block7",
          "Block7",
          "Block7",
          "Block7",
          "Block7",
          "Block7",
          "Block7",
          "Block7",
          "Block7",
          "Block8",
          "Block8",
          "Block8",
          "Block8",
          "Block8",
          "Block8",
          "Block8",
          "Block8",
          "Block8",
          "Block8",
          "Block8",
          "Block8",
          "Block8",
          "Block8",
          "Block8",
          "Block8",
          "Block8",
          "Block8",
          "Block8",
          "Block8",
          "Block8"
         ],
         "x0": " ",
         "xaxis": "x",
         "y": [
          null,
          null,
          null,
          null,
          null,
          null,
          null,
          null,
          null,
          null,
          null,
          null,
          null,
          null,
          null,
          null,
          null,
          null,
          null,
          null,
          null,
          -0.32007953346301066,
          -0.8484073254506129,
          -0.30062384474025505,
          -0.052060949870046495,
          1.0202585206408135,
          -0.01611788799422629,
          0.5569796582021062,
          -0.22178713291874969,
          0.1536438125528218,
          -0.5078941370128288,
          -0.3675157481439509,
          0.9181054285927055,
          2.0936542788230623,
          0.27235408257936244,
          -2.220959008991367,
          0.9896458268093553,
          0.9008242951478503,
          -1.1441999519225,
          -0.4891995155436485,
          1.1348415179199143,
          -1.5514623852167375,
          0.9884365646460862,
          -0.5718446456260783,
          -0.023541155259572587,
          0.01177570815855577,
          0.23776354911622866,
          -0.3634639004367287,
          -0.2997652902118646,
          -2.0772973547693474,
          0.2819092511393122,
          -1.2211894919695336,
          1.507187695580921,
          0.09938378919673549,
          1.6960689143410954,
          0.6031908718366713,
          -1.60755249955405,
          1.2945630112503963,
          0.6879666781230619,
          -0.10408244230078176,
          0.019042983832120917,
          0.31323199721325223,
          -1.4717842343064675,
          -0.2495938902388222,
          -0.2212967821581904,
          0.3626027408042738,
          -0.9966013504675908,
          0.6484271025424984,
          -0.1221119798506994,
          -0.7980044719613966,
          -2.127767598213985,
          0.3281167576302839,
          -0.32088533389357005,
          1.3101155528333583,
          0.37581811575306473,
          1.7105928783214588,
          0.7053374527577099,
          -0.8787661255305994,
          1.7347831696995568,
          0.3071220783450111,
          -0.3042248465426321,
          -0.3324406144241624,
          0.6496319509974889,
          -1.7808548064030747,
          -0.47438502560935547,
          0.28815206246302394,
          0.44917738598170076,
          -0.4402428863671792,
          0.35774009100607046,
          0.11937660620180066,
          -1.3542203619001016,
          -2.4754167224637267,
          0.28235619182143284,
          -0.10322036239325831,
          1.2851636690655894,
          0.6701938312081689,
          1.3918341966723558,
          0.8600340236062873,
          -0.9827771302440006,
          1.1511379355759406,
          0.405253097168679,
          0.002010033882670325,
          0.011202678501288076,
          0.467325698058308,
          -1.9106950122356985,
          1.7521429421657433,
          -0.6512005245908585,
          -0.3732623770696932,
          -0.33229650804443567,
          -0.283230359365641,
          -0.54228448655842,
          -0.4123600459861175,
          0.7101203887098226,
          -0.33318495310764945,
          -1.535406433746723,
          0.8309770783432445,
          0.4116311257380701,
          0.47727777094198104,
          0.0022744071563829955,
          -1.3134248110487374,
          2.5543818405129777,
          -0.026737526605735747,
          1.1419402530412848,
          -0.6096579213085179,
          -0.16468909930949424,
          -1.3030107598675376,
          0.7490845080102645,
          -0.155445196058004,
          0.10350749547540697,
          0.44986104151380474,
          0.39595851591338793,
          -0.0933240785254221,
          -1.5938152913362305,
          -2.1118339138205275,
          0.3492374981803034,
          -0.8512262351628013,
          1.282498336499391,
          0.5733548875897126,
          1.3804931265085436,
          0.5919660912776411,
          -1.3154253629997545,
          0.9850609392567963,
          0.4540750608253251,
          0.32696622116721097,
          -0.10168546016363453,
          0.5003923051491038,
          -1.9197004893005003,
          0.9315496127396671,
          -0.194916982004551,
          0.505462521134203,
          -0.13945782200542342,
          0.4475002699180695,
          -0.3960572476599522,
          -2.1779321579011115,
          -0.5446179347512197,
          0.002361801526141641,
          -1.0524298688286224,
          0.7083259066683333,
          0.42346276717397074,
          1.3491808463720274,
          0.7435752624971692,
          -1.2854318334472903,
          1.362789934362493,
          0.44869716072895194,
          0.17508172322252058,
          0.46389262609515974,
          0.48110480304898906,
          -2.2521413888895205
         ],
         "y0": " ",
         "yaxis": "y"
        }
       ],
       "layout": {
        "boxmode": "group",
        "legend": {
         "tracegroupgap": 0
        },
        "margin": {
         "t": 60
        },
        "template": {
         "data": {
          "bar": [
           {
            "error_x": {
             "color": "#2a3f5f"
            },
            "error_y": {
             "color": "#2a3f5f"
            },
            "marker": {
             "line": {
              "color": "#E5ECF6",
              "width": 0.5
             },
             "pattern": {
              "fillmode": "overlay",
              "size": 10,
              "solidity": 0.2
             }
            },
            "type": "bar"
           }
          ],
          "barpolar": [
           {
            "marker": {
             "line": {
              "color": "#E5ECF6",
              "width": 0.5
             },
             "pattern": {
              "fillmode": "overlay",
              "size": 10,
              "solidity": 0.2
             }
            },
            "type": "barpolar"
           }
          ],
          "carpet": [
           {
            "aaxis": {
             "endlinecolor": "#2a3f5f",
             "gridcolor": "white",
             "linecolor": "white",
             "minorgridcolor": "white",
             "startlinecolor": "#2a3f5f"
            },
            "baxis": {
             "endlinecolor": "#2a3f5f",
             "gridcolor": "white",
             "linecolor": "white",
             "minorgridcolor": "white",
             "startlinecolor": "#2a3f5f"
            },
            "type": "carpet"
           }
          ],
          "choropleth": [
           {
            "colorbar": {
             "outlinewidth": 0,
             "ticks": ""
            },
            "type": "choropleth"
           }
          ],
          "contour": [
           {
            "colorbar": {
             "outlinewidth": 0,
             "ticks": ""
            },
            "colorscale": [
             [
              0,
              "#0d0887"
             ],
             [
              0.1111111111111111,
              "#46039f"
             ],
             [
              0.2222222222222222,
              "#7201a8"
             ],
             [
              0.3333333333333333,
              "#9c179e"
             ],
             [
              0.4444444444444444,
              "#bd3786"
             ],
             [
              0.5555555555555556,
              "#d8576b"
             ],
             [
              0.6666666666666666,
              "#ed7953"
             ],
             [
              0.7777777777777778,
              "#fb9f3a"
             ],
             [
              0.8888888888888888,
              "#fdca26"
             ],
             [
              1,
              "#f0f921"
             ]
            ],
            "type": "contour"
           }
          ],
          "contourcarpet": [
           {
            "colorbar": {
             "outlinewidth": 0,
             "ticks": ""
            },
            "type": "contourcarpet"
           }
          ],
          "heatmap": [
           {
            "colorbar": {
             "outlinewidth": 0,
             "ticks": ""
            },
            "colorscale": [
             [
              0,
              "#0d0887"
             ],
             [
              0.1111111111111111,
              "#46039f"
             ],
             [
              0.2222222222222222,
              "#7201a8"
             ],
             [
              0.3333333333333333,
              "#9c179e"
             ],
             [
              0.4444444444444444,
              "#bd3786"
             ],
             [
              0.5555555555555556,
              "#d8576b"
             ],
             [
              0.6666666666666666,
              "#ed7953"
             ],
             [
              0.7777777777777778,
              "#fb9f3a"
             ],
             [
              0.8888888888888888,
              "#fdca26"
             ],
             [
              1,
              "#f0f921"
             ]
            ],
            "type": "heatmap"
           }
          ],
          "heatmapgl": [
           {
            "colorbar": {
             "outlinewidth": 0,
             "ticks": ""
            },
            "colorscale": [
             [
              0,
              "#0d0887"
             ],
             [
              0.1111111111111111,
              "#46039f"
             ],
             [
              0.2222222222222222,
              "#7201a8"
             ],
             [
              0.3333333333333333,
              "#9c179e"
             ],
             [
              0.4444444444444444,
              "#bd3786"
             ],
             [
              0.5555555555555556,
              "#d8576b"
             ],
             [
              0.6666666666666666,
              "#ed7953"
             ],
             [
              0.7777777777777778,
              "#fb9f3a"
             ],
             [
              0.8888888888888888,
              "#fdca26"
             ],
             [
              1,
              "#f0f921"
             ]
            ],
            "type": "heatmapgl"
           }
          ],
          "histogram": [
           {
            "marker": {
             "pattern": {
              "fillmode": "overlay",
              "size": 10,
              "solidity": 0.2
             }
            },
            "type": "histogram"
           }
          ],
          "histogram2d": [
           {
            "colorbar": {
             "outlinewidth": 0,
             "ticks": ""
            },
            "colorscale": [
             [
              0,
              "#0d0887"
             ],
             [
              0.1111111111111111,
              "#46039f"
             ],
             [
              0.2222222222222222,
              "#7201a8"
             ],
             [
              0.3333333333333333,
              "#9c179e"
             ],
             [
              0.4444444444444444,
              "#bd3786"
             ],
             [
              0.5555555555555556,
              "#d8576b"
             ],
             [
              0.6666666666666666,
              "#ed7953"
             ],
             [
              0.7777777777777778,
              "#fb9f3a"
             ],
             [
              0.8888888888888888,
              "#fdca26"
             ],
             [
              1,
              "#f0f921"
             ]
            ],
            "type": "histogram2d"
           }
          ],
          "histogram2dcontour": [
           {
            "colorbar": {
             "outlinewidth": 0,
             "ticks": ""
            },
            "colorscale": [
             [
              0,
              "#0d0887"
             ],
             [
              0.1111111111111111,
              "#46039f"
             ],
             [
              0.2222222222222222,
              "#7201a8"
             ],
             [
              0.3333333333333333,
              "#9c179e"
             ],
             [
              0.4444444444444444,
              "#bd3786"
             ],
             [
              0.5555555555555556,
              "#d8576b"
             ],
             [
              0.6666666666666666,
              "#ed7953"
             ],
             [
              0.7777777777777778,
              "#fb9f3a"
             ],
             [
              0.8888888888888888,
              "#fdca26"
             ],
             [
              1,
              "#f0f921"
             ]
            ],
            "type": "histogram2dcontour"
           }
          ],
          "mesh3d": [
           {
            "colorbar": {
             "outlinewidth": 0,
             "ticks": ""
            },
            "type": "mesh3d"
           }
          ],
          "parcoords": [
           {
            "line": {
             "colorbar": {
              "outlinewidth": 0,
              "ticks": ""
             }
            },
            "type": "parcoords"
           }
          ],
          "pie": [
           {
            "automargin": true,
            "type": "pie"
           }
          ],
          "scatter": [
           {
            "marker": {
             "colorbar": {
              "outlinewidth": 0,
              "ticks": ""
             }
            },
            "type": "scatter"
           }
          ],
          "scatter3d": [
           {
            "line": {
             "colorbar": {
              "outlinewidth": 0,
              "ticks": ""
             }
            },
            "marker": {
             "colorbar": {
              "outlinewidth": 0,
              "ticks": ""
             }
            },
            "type": "scatter3d"
           }
          ],
          "scattercarpet": [
           {
            "marker": {
             "colorbar": {
              "outlinewidth": 0,
              "ticks": ""
             }
            },
            "type": "scattercarpet"
           }
          ],
          "scattergeo": [
           {
            "marker": {
             "colorbar": {
              "outlinewidth": 0,
              "ticks": ""
             }
            },
            "type": "scattergeo"
           }
          ],
          "scattergl": [
           {
            "marker": {
             "colorbar": {
              "outlinewidth": 0,
              "ticks": ""
             }
            },
            "type": "scattergl"
           }
          ],
          "scattermapbox": [
           {
            "marker": {
             "colorbar": {
              "outlinewidth": 0,
              "ticks": ""
             }
            },
            "type": "scattermapbox"
           }
          ],
          "scatterpolar": [
           {
            "marker": {
             "colorbar": {
              "outlinewidth": 0,
              "ticks": ""
             }
            },
            "type": "scatterpolar"
           }
          ],
          "scatterpolargl": [
           {
            "marker": {
             "colorbar": {
              "outlinewidth": 0,
              "ticks": ""
             }
            },
            "type": "scatterpolargl"
           }
          ],
          "scatterternary": [
           {
            "marker": {
             "colorbar": {
              "outlinewidth": 0,
              "ticks": ""
             }
            },
            "type": "scatterternary"
           }
          ],
          "surface": [
           {
            "colorbar": {
             "outlinewidth": 0,
             "ticks": ""
            },
            "colorscale": [
             [
              0,
              "#0d0887"
             ],
             [
              0.1111111111111111,
              "#46039f"
             ],
             [
              0.2222222222222222,
              "#7201a8"
             ],
             [
              0.3333333333333333,
              "#9c179e"
             ],
             [
              0.4444444444444444,
              "#bd3786"
             ],
             [
              0.5555555555555556,
              "#d8576b"
             ],
             [
              0.6666666666666666,
              "#ed7953"
             ],
             [
              0.7777777777777778,
              "#fb9f3a"
             ],
             [
              0.8888888888888888,
              "#fdca26"
             ],
             [
              1,
              "#f0f921"
             ]
            ],
            "type": "surface"
           }
          ],
          "table": [
           {
            "cells": {
             "fill": {
              "color": "#EBF0F8"
             },
             "line": {
              "color": "white"
             }
            },
            "header": {
             "fill": {
              "color": "#C8D4E3"
             },
             "line": {
              "color": "white"
             }
            },
            "type": "table"
           }
          ]
         },
         "layout": {
          "annotationdefaults": {
           "arrowcolor": "#2a3f5f",
           "arrowhead": 0,
           "arrowwidth": 1
          },
          "autotypenumbers": "strict",
          "coloraxis": {
           "colorbar": {
            "outlinewidth": 0,
            "ticks": ""
           }
          },
          "colorscale": {
           "diverging": [
            [
             0,
             "#8e0152"
            ],
            [
             0.1,
             "#c51b7d"
            ],
            [
             0.2,
             "#de77ae"
            ],
            [
             0.3,
             "#f1b6da"
            ],
            [
             0.4,
             "#fde0ef"
            ],
            [
             0.5,
             "#f7f7f7"
            ],
            [
             0.6,
             "#e6f5d0"
            ],
            [
             0.7,
             "#b8e186"
            ],
            [
             0.8,
             "#7fbc41"
            ],
            [
             0.9,
             "#4d9221"
            ],
            [
             1,
             "#276419"
            ]
           ],
           "sequential": [
            [
             0,
             "#0d0887"
            ],
            [
             0.1111111111111111,
             "#46039f"
            ],
            [
             0.2222222222222222,
             "#7201a8"
            ],
            [
             0.3333333333333333,
             "#9c179e"
            ],
            [
             0.4444444444444444,
             "#bd3786"
            ],
            [
             0.5555555555555556,
             "#d8576b"
            ],
            [
             0.6666666666666666,
             "#ed7953"
            ],
            [
             0.7777777777777778,
             "#fb9f3a"
            ],
            [
             0.8888888888888888,
             "#fdca26"
            ],
            [
             1,
             "#f0f921"
            ]
           ],
           "sequentialminus": [
            [
             0,
             "#0d0887"
            ],
            [
             0.1111111111111111,
             "#46039f"
            ],
            [
             0.2222222222222222,
             "#7201a8"
            ],
            [
             0.3333333333333333,
             "#9c179e"
            ],
            [
             0.4444444444444444,
             "#bd3786"
            ],
            [
             0.5555555555555556,
             "#d8576b"
            ],
            [
             0.6666666666666666,
             "#ed7953"
            ],
            [
             0.7777777777777778,
             "#fb9f3a"
            ],
            [
             0.8888888888888888,
             "#fdca26"
            ],
            [
             1,
             "#f0f921"
            ]
           ]
          },
          "colorway": [
           "#636efa",
           "#EF553B",
           "#00cc96",
           "#ab63fa",
           "#FFA15A",
           "#19d3f3",
           "#FF6692",
           "#B6E880",
           "#FF97FF",
           "#FECB52"
          ],
          "font": {
           "color": "#2a3f5f"
          },
          "geo": {
           "bgcolor": "white",
           "lakecolor": "white",
           "landcolor": "#E5ECF6",
           "showlakes": true,
           "showland": true,
           "subunitcolor": "white"
          },
          "hoverlabel": {
           "align": "left"
          },
          "hovermode": "closest",
          "mapbox": {
           "style": "light"
          },
          "paper_bgcolor": "white",
          "plot_bgcolor": "#E5ECF6",
          "polar": {
           "angularaxis": {
            "gridcolor": "white",
            "linecolor": "white",
            "ticks": ""
           },
           "bgcolor": "#E5ECF6",
           "radialaxis": {
            "gridcolor": "white",
            "linecolor": "white",
            "ticks": ""
           }
          },
          "scene": {
           "xaxis": {
            "backgroundcolor": "#E5ECF6",
            "gridcolor": "white",
            "gridwidth": 2,
            "linecolor": "white",
            "showbackground": true,
            "ticks": "",
            "zerolinecolor": "white"
           },
           "yaxis": {
            "backgroundcolor": "#E5ECF6",
            "gridcolor": "white",
            "gridwidth": 2,
            "linecolor": "white",
            "showbackground": true,
            "ticks": "",
            "zerolinecolor": "white"
           },
           "zaxis": {
            "backgroundcolor": "#E5ECF6",
            "gridcolor": "white",
            "gridwidth": 2,
            "linecolor": "white",
            "showbackground": true,
            "ticks": "",
            "zerolinecolor": "white"
           }
          },
          "shapedefaults": {
           "line": {
            "color": "#2a3f5f"
           }
          },
          "ternary": {
           "aaxis": {
            "gridcolor": "white",
            "linecolor": "white",
            "ticks": ""
           },
           "baxis": {
            "gridcolor": "white",
            "linecolor": "white",
            "ticks": ""
           },
           "bgcolor": "#E5ECF6",
           "caxis": {
            "gridcolor": "white",
            "linecolor": "white",
            "ticks": ""
           }
          },
          "title": {
           "x": 0.05
          },
          "xaxis": {
           "automargin": true,
           "gridcolor": "white",
           "linecolor": "white",
           "ticks": "",
           "title": {
            "standoff": 15
           },
           "zerolinecolor": "white",
           "zerolinewidth": 2
          },
          "yaxis": {
           "automargin": true,
           "gridcolor": "white",
           "linecolor": "white",
           "ticks": "",
           "title": {
            "standoff": 15
           },
           "zerolinecolor": "white",
           "zerolinewidth": 2
          }
         }
        },
        "xaxis": {
         "anchor": "y",
         "domain": [
          0,
          1
         ],
         "title": {
          "text": "variable"
         }
        },
        "yaxis": {
         "anchor": "x",
         "domain": [
          0,
          1
         ],
         "title": {
          "text": "Sham"
         }
        }
       }
      }
     },
     "metadata": {},
     "output_type": "display_data"
    },
    {
     "data": {
      "application/vnd.plotly.v1+json": {
       "config": {
        "plotlyServerURL": "https://plot.ly"
       },
       "data": [
        {
         "alignmentgroup": "True",
         "boxpoints": "all",
         "fillcolor": "rgba(255,255,255,0)",
         "hoveron": "points",
         "hovertemplate": "<b>%{hovertext}</b><br><br>variable=%{x}<br>value=%{y}<extra></extra>",
         "hovertext": [
          "24",
          "09",
          "42",
          "03",
          "38",
          "16",
          "17",
          "37",
          "44",
          "36",
          "43",
          "08",
          "41",
          "11",
          "21",
          "27",
          "39",
          "22",
          "25",
          "45",
          "26",
          "24",
          "09",
          "42",
          "03",
          "38",
          "16",
          "17",
          "37",
          "44",
          "36",
          "43",
          "08",
          "41",
          "11",
          "21",
          "27",
          "39",
          "22",
          "25",
          "45",
          "26",
          "24",
          "09",
          "42",
          "03",
          "38",
          "16",
          "17",
          "37",
          "44",
          "36",
          "43",
          "08",
          "41",
          "11",
          "21",
          "27",
          "39",
          "22",
          "25",
          "45",
          "26",
          "24",
          "09",
          "42",
          "03",
          "38",
          "16",
          "17",
          "37",
          "44",
          "36",
          "43",
          "08",
          "41",
          "11",
          "21",
          "27",
          "39",
          "22",
          "25",
          "45",
          "26",
          "24",
          "09",
          "42",
          "03",
          "38",
          "16",
          "17",
          "37",
          "44",
          "36",
          "43",
          "08",
          "41",
          "11",
          "21",
          "27",
          "39",
          "22",
          "25",
          "45",
          "26",
          "24",
          "09",
          "42",
          "03",
          "38",
          "16",
          "17",
          "37",
          "44",
          "36",
          "43",
          "08",
          "41",
          "11",
          "21",
          "27",
          "39",
          "22",
          "25",
          "45",
          "26",
          "24",
          "09",
          "42",
          "03",
          "38",
          "16",
          "17",
          "37",
          "44",
          "36",
          "43",
          "08",
          "41",
          "11",
          "21",
          "27",
          "39",
          "22",
          "25",
          "45",
          "26",
          "24",
          "09",
          "42",
          "03",
          "38",
          "16",
          "17",
          "37",
          "44",
          "36",
          "43",
          "08",
          "41",
          "11",
          "21",
          "27",
          "39",
          "22",
          "25",
          "45",
          "26"
         ],
         "legendgroup": "",
         "line": {
          "color": "rgba(255,255,255,0)"
         },
         "marker": {
          "color": "#636efa"
         },
         "name": "",
         "offsetgroup": "",
         "orientation": "v",
         "pointpos": 0,
         "showlegend": false,
         "type": "box",
         "x": [
          "Block1",
          "Block1",
          "Block1",
          "Block1",
          "Block1",
          "Block1",
          "Block1",
          "Block1",
          "Block1",
          "Block1",
          "Block1",
          "Block1",
          "Block1",
          "Block1",
          "Block1",
          "Block1",
          "Block1",
          "Block1",
          "Block1",
          "Block1",
          "Block1",
          "Block2",
          "Block2",
          "Block2",
          "Block2",
          "Block2",
          "Block2",
          "Block2",
          "Block2",
          "Block2",
          "Block2",
          "Block2",
          "Block2",
          "Block2",
          "Block2",
          "Block2",
          "Block2",
          "Block2",
          "Block2",
          "Block2",
          "Block2",
          "Block2",
          "Block3",
          "Block3",
          "Block3",
          "Block3",
          "Block3",
          "Block3",
          "Block3",
          "Block3",
          "Block3",
          "Block3",
          "Block3",
          "Block3",
          "Block3",
          "Block3",
          "Block3",
          "Block3",
          "Block3",
          "Block3",
          "Block3",
          "Block3",
          "Block3",
          "Block4",
          "Block4",
          "Block4",
          "Block4",
          "Block4",
          "Block4",
          "Block4",
          "Block4",
          "Block4",
          "Block4",
          "Block4",
          "Block4",
          "Block4",
          "Block4",
          "Block4",
          "Block4",
          "Block4",
          "Block4",
          "Block4",
          "Block4",
          "Block4",
          "Block5",
          "Block5",
          "Block5",
          "Block5",
          "Block5",
          "Block5",
          "Block5",
          "Block5",
          "Block5",
          "Block5",
          "Block5",
          "Block5",
          "Block5",
          "Block5",
          "Block5",
          "Block5",
          "Block5",
          "Block5",
          "Block5",
          "Block5",
          "Block5",
          "Block6",
          "Block6",
          "Block6",
          "Block6",
          "Block6",
          "Block6",
          "Block6",
          "Block6",
          "Block6",
          "Block6",
          "Block6",
          "Block6",
          "Block6",
          "Block6",
          "Block6",
          "Block6",
          "Block6",
          "Block6",
          "Block6",
          "Block6",
          "Block6",
          "Block7",
          "Block7",
          "Block7",
          "Block7",
          "Block7",
          "Block7",
          "Block7",
          "Block7",
          "Block7",
          "Block7",
          "Block7",
          "Block7",
          "Block7",
          "Block7",
          "Block7",
          "Block7",
          "Block7",
          "Block7",
          "Block7",
          "Block7",
          "Block7",
          "Block8",
          "Block8",
          "Block8",
          "Block8",
          "Block8",
          "Block8",
          "Block8",
          "Block8",
          "Block8",
          "Block8",
          "Block8",
          "Block8",
          "Block8",
          "Block8",
          "Block8",
          "Block8",
          "Block8",
          "Block8",
          "Block8",
          "Block8",
          "Block8"
         ],
         "x0": " ",
         "xaxis": "x",
         "y": [
          null,
          null,
          null,
          null,
          null,
          null,
          null,
          null,
          null,
          null,
          null,
          null,
          null,
          null,
          null,
          null,
          null,
          null,
          null,
          null,
          null,
          0.3005048154520106,
          1.1429892752736899,
          -1.8997689759614738,
          -0.32205522171197765,
          0.6152821407019694,
          0.3478543175835958,
          -0.543905414650415,
          -0.06026444988659555,
          0.595534813155362,
          1.3607092835405992,
          0.8090542418733991,
          -0.43618597789895336,
          0.36376913330747246,
          -0.48119831631775034,
          -0.9938990501080106,
          0.6867028056757664,
          -2.543164978894942,
          0.11493443834088285,
          -0.8842959914131494,
          0.5365290551047984,
          1.2908740568337376,
          0.2815073638074807,
          1.3233671693169569,
          -2.2642489996414645,
          0.2534459019028274,
          1.1115902192848834,
          0.15902930145328922,
          0.7981422928502446,
          -1.5388593501011774,
          1.0443367312530893,
          0.34192355532643115,
          -0.3628112159261011,
          -0.1965515539895398,
          0.3949566682466173,
          0.47578506308815843,
          -0.877834255547123,
          0.6704296775778348,
          -1.812312753116357,
          -0.7485692253647752,
          -0.6704501650169702,
          0.5533907368048671,
          1.0637328377907953,
          -0.009992459543473529,
          0.5112945309109266,
          -1.7271445466215685,
          0.3824951675918362,
          1.1033821911988524,
          0.03561553638488973,
          1.160969640612082,
          -1.176135480252178,
          1.0756880145127607,
          0.3893426929321416,
          -2.3726268879803096,
          -0.21095609808534957,
          0.5568884188987933,
          0.5185082178315932,
          -0.6792691316323692,
          0.6040396532707214,
          -1.294303166081554,
          -0.8986122225258589,
          0.24618450611975704,
          0.6318391927053313,
          1.1527922297529418,
          0.10448103273218945,
          0.589121256401666,
          -2.3741416045544352,
          0.27668114643115105,
          1.4565648461421676,
          0.08632253260187786,
          1.3365469845492,
          -1.698787260955558,
          0.891301186193679,
          0.4563020836210742,
          -1.093852320908543,
          0.21144766503470525,
          0.4598228871936669,
          0.23237393785227328,
          -0.980715847462683,
          0.3244956287777758,
          -1.0529489517645405,
          -0.7229409107071026,
          -0.37881775240199866,
          0.8508182426254847,
          1.025925218597944,
          -0.25632079043128997,
          1.436330398231323,
          1.5947836006520684,
          -0.09832093821035263,
          0.7973282966804477,
          -1.1986409788657058,
          1.6645690161989997,
          0.29637936916568713,
          -0.13411968977399902,
          0.09039137469679222,
          -0.23717536820681176,
          -0.3485140370096096,
          0.663864248470352,
          0.8975845331610335,
          -2.191870754420643,
          -0.3008448398687938,
          -1.2156437017687056,
          -1.5672247890773776,
          -0.16412180857532957,
          -0.013052917902687027,
          0.2846197768545816,
          0.40786803736025684,
          0.775677460481638,
          -1.354637391498761,
          0.06434761188800614,
          1.1330048126935564,
          -0.22997348207691454,
          0.48394524533315775,
          -1.0589102387100116,
          0.4084318834583737,
          0.9669481307135497,
          -1.7063717722618221,
          -0.44970243178153757,
          0.8842644930528328,
          0.5299616748077131,
          -0.9242286738825329,
          0.5299530471903929,
          -0.7408006913107343,
          -2.331233652810452,
          0.7297311878499205,
          0.9216050010011041,
          0.9601197485022746,
          -0.026391765719408444,
          0.5408346261409275,
          -0.914210240476877,
          0.644160952414193,
          1.421778856629079,
          -0.37180527554117365,
          0.19816183712934324,
          -1.2909879032405647,
          0.9258287503332088,
          0.5688870927753469,
          -1.6896897915197902,
          -0.1261028767171812,
          0.816373248568808,
          0.4532446577902616,
          -0.6687981243205527,
          0.340657754273501,
          -1.1242867022595358,
          -2.3207028759391966,
          0.9832455549553126,
          1.0868805543353954,
          0.5529216703889136
         ],
         "y0": " ",
         "yaxis": "y"
        }
       ],
       "layout": {
        "boxmode": "group",
        "legend": {
         "tracegroupgap": 0
        },
        "margin": {
         "t": 60
        },
        "template": {
         "data": {
          "bar": [
           {
            "error_x": {
             "color": "#2a3f5f"
            },
            "error_y": {
             "color": "#2a3f5f"
            },
            "marker": {
             "line": {
              "color": "#E5ECF6",
              "width": 0.5
             },
             "pattern": {
              "fillmode": "overlay",
              "size": 10,
              "solidity": 0.2
             }
            },
            "type": "bar"
           }
          ],
          "barpolar": [
           {
            "marker": {
             "line": {
              "color": "#E5ECF6",
              "width": 0.5
             },
             "pattern": {
              "fillmode": "overlay",
              "size": 10,
              "solidity": 0.2
             }
            },
            "type": "barpolar"
           }
          ],
          "carpet": [
           {
            "aaxis": {
             "endlinecolor": "#2a3f5f",
             "gridcolor": "white",
             "linecolor": "white",
             "minorgridcolor": "white",
             "startlinecolor": "#2a3f5f"
            },
            "baxis": {
             "endlinecolor": "#2a3f5f",
             "gridcolor": "white",
             "linecolor": "white",
             "minorgridcolor": "white",
             "startlinecolor": "#2a3f5f"
            },
            "type": "carpet"
           }
          ],
          "choropleth": [
           {
            "colorbar": {
             "outlinewidth": 0,
             "ticks": ""
            },
            "type": "choropleth"
           }
          ],
          "contour": [
           {
            "colorbar": {
             "outlinewidth": 0,
             "ticks": ""
            },
            "colorscale": [
             [
              0,
              "#0d0887"
             ],
             [
              0.1111111111111111,
              "#46039f"
             ],
             [
              0.2222222222222222,
              "#7201a8"
             ],
             [
              0.3333333333333333,
              "#9c179e"
             ],
             [
              0.4444444444444444,
              "#bd3786"
             ],
             [
              0.5555555555555556,
              "#d8576b"
             ],
             [
              0.6666666666666666,
              "#ed7953"
             ],
             [
              0.7777777777777778,
              "#fb9f3a"
             ],
             [
              0.8888888888888888,
              "#fdca26"
             ],
             [
              1,
              "#f0f921"
             ]
            ],
            "type": "contour"
           }
          ],
          "contourcarpet": [
           {
            "colorbar": {
             "outlinewidth": 0,
             "ticks": ""
            },
            "type": "contourcarpet"
           }
          ],
          "heatmap": [
           {
            "colorbar": {
             "outlinewidth": 0,
             "ticks": ""
            },
            "colorscale": [
             [
              0,
              "#0d0887"
             ],
             [
              0.1111111111111111,
              "#46039f"
             ],
             [
              0.2222222222222222,
              "#7201a8"
             ],
             [
              0.3333333333333333,
              "#9c179e"
             ],
             [
              0.4444444444444444,
              "#bd3786"
             ],
             [
              0.5555555555555556,
              "#d8576b"
             ],
             [
              0.6666666666666666,
              "#ed7953"
             ],
             [
              0.7777777777777778,
              "#fb9f3a"
             ],
             [
              0.8888888888888888,
              "#fdca26"
             ],
             [
              1,
              "#f0f921"
             ]
            ],
            "type": "heatmap"
           }
          ],
          "heatmapgl": [
           {
            "colorbar": {
             "outlinewidth": 0,
             "ticks": ""
            },
            "colorscale": [
             [
              0,
              "#0d0887"
             ],
             [
              0.1111111111111111,
              "#46039f"
             ],
             [
              0.2222222222222222,
              "#7201a8"
             ],
             [
              0.3333333333333333,
              "#9c179e"
             ],
             [
              0.4444444444444444,
              "#bd3786"
             ],
             [
              0.5555555555555556,
              "#d8576b"
             ],
             [
              0.6666666666666666,
              "#ed7953"
             ],
             [
              0.7777777777777778,
              "#fb9f3a"
             ],
             [
              0.8888888888888888,
              "#fdca26"
             ],
             [
              1,
              "#f0f921"
             ]
            ],
            "type": "heatmapgl"
           }
          ],
          "histogram": [
           {
            "marker": {
             "pattern": {
              "fillmode": "overlay",
              "size": 10,
              "solidity": 0.2
             }
            },
            "type": "histogram"
           }
          ],
          "histogram2d": [
           {
            "colorbar": {
             "outlinewidth": 0,
             "ticks": ""
            },
            "colorscale": [
             [
              0,
              "#0d0887"
             ],
             [
              0.1111111111111111,
              "#46039f"
             ],
             [
              0.2222222222222222,
              "#7201a8"
             ],
             [
              0.3333333333333333,
              "#9c179e"
             ],
             [
              0.4444444444444444,
              "#bd3786"
             ],
             [
              0.5555555555555556,
              "#d8576b"
             ],
             [
              0.6666666666666666,
              "#ed7953"
             ],
             [
              0.7777777777777778,
              "#fb9f3a"
             ],
             [
              0.8888888888888888,
              "#fdca26"
             ],
             [
              1,
              "#f0f921"
             ]
            ],
            "type": "histogram2d"
           }
          ],
          "histogram2dcontour": [
           {
            "colorbar": {
             "outlinewidth": 0,
             "ticks": ""
            },
            "colorscale": [
             [
              0,
              "#0d0887"
             ],
             [
              0.1111111111111111,
              "#46039f"
             ],
             [
              0.2222222222222222,
              "#7201a8"
             ],
             [
              0.3333333333333333,
              "#9c179e"
             ],
             [
              0.4444444444444444,
              "#bd3786"
             ],
             [
              0.5555555555555556,
              "#d8576b"
             ],
             [
              0.6666666666666666,
              "#ed7953"
             ],
             [
              0.7777777777777778,
              "#fb9f3a"
             ],
             [
              0.8888888888888888,
              "#fdca26"
             ],
             [
              1,
              "#f0f921"
             ]
            ],
            "type": "histogram2dcontour"
           }
          ],
          "mesh3d": [
           {
            "colorbar": {
             "outlinewidth": 0,
             "ticks": ""
            },
            "type": "mesh3d"
           }
          ],
          "parcoords": [
           {
            "line": {
             "colorbar": {
              "outlinewidth": 0,
              "ticks": ""
             }
            },
            "type": "parcoords"
           }
          ],
          "pie": [
           {
            "automargin": true,
            "type": "pie"
           }
          ],
          "scatter": [
           {
            "marker": {
             "colorbar": {
              "outlinewidth": 0,
              "ticks": ""
             }
            },
            "type": "scatter"
           }
          ],
          "scatter3d": [
           {
            "line": {
             "colorbar": {
              "outlinewidth": 0,
              "ticks": ""
             }
            },
            "marker": {
             "colorbar": {
              "outlinewidth": 0,
              "ticks": ""
             }
            },
            "type": "scatter3d"
           }
          ],
          "scattercarpet": [
           {
            "marker": {
             "colorbar": {
              "outlinewidth": 0,
              "ticks": ""
             }
            },
            "type": "scattercarpet"
           }
          ],
          "scattergeo": [
           {
            "marker": {
             "colorbar": {
              "outlinewidth": 0,
              "ticks": ""
             }
            },
            "type": "scattergeo"
           }
          ],
          "scattergl": [
           {
            "marker": {
             "colorbar": {
              "outlinewidth": 0,
              "ticks": ""
             }
            },
            "type": "scattergl"
           }
          ],
          "scattermapbox": [
           {
            "marker": {
             "colorbar": {
              "outlinewidth": 0,
              "ticks": ""
             }
            },
            "type": "scattermapbox"
           }
          ],
          "scatterpolar": [
           {
            "marker": {
             "colorbar": {
              "outlinewidth": 0,
              "ticks": ""
             }
            },
            "type": "scatterpolar"
           }
          ],
          "scatterpolargl": [
           {
            "marker": {
             "colorbar": {
              "outlinewidth": 0,
              "ticks": ""
             }
            },
            "type": "scatterpolargl"
           }
          ],
          "scatterternary": [
           {
            "marker": {
             "colorbar": {
              "outlinewidth": 0,
              "ticks": ""
             }
            },
            "type": "scatterternary"
           }
          ],
          "surface": [
           {
            "colorbar": {
             "outlinewidth": 0,
             "ticks": ""
            },
            "colorscale": [
             [
              0,
              "#0d0887"
             ],
             [
              0.1111111111111111,
              "#46039f"
             ],
             [
              0.2222222222222222,
              "#7201a8"
             ],
             [
              0.3333333333333333,
              "#9c179e"
             ],
             [
              0.4444444444444444,
              "#bd3786"
             ],
             [
              0.5555555555555556,
              "#d8576b"
             ],
             [
              0.6666666666666666,
              "#ed7953"
             ],
             [
              0.7777777777777778,
              "#fb9f3a"
             ],
             [
              0.8888888888888888,
              "#fdca26"
             ],
             [
              1,
              "#f0f921"
             ]
            ],
            "type": "surface"
           }
          ],
          "table": [
           {
            "cells": {
             "fill": {
              "color": "#EBF0F8"
             },
             "line": {
              "color": "white"
             }
            },
            "header": {
             "fill": {
              "color": "#C8D4E3"
             },
             "line": {
              "color": "white"
             }
            },
            "type": "table"
           }
          ]
         },
         "layout": {
          "annotationdefaults": {
           "arrowcolor": "#2a3f5f",
           "arrowhead": 0,
           "arrowwidth": 1
          },
          "autotypenumbers": "strict",
          "coloraxis": {
           "colorbar": {
            "outlinewidth": 0,
            "ticks": ""
           }
          },
          "colorscale": {
           "diverging": [
            [
             0,
             "#8e0152"
            ],
            [
             0.1,
             "#c51b7d"
            ],
            [
             0.2,
             "#de77ae"
            ],
            [
             0.3,
             "#f1b6da"
            ],
            [
             0.4,
             "#fde0ef"
            ],
            [
             0.5,
             "#f7f7f7"
            ],
            [
             0.6,
             "#e6f5d0"
            ],
            [
             0.7,
             "#b8e186"
            ],
            [
             0.8,
             "#7fbc41"
            ],
            [
             0.9,
             "#4d9221"
            ],
            [
             1,
             "#276419"
            ]
           ],
           "sequential": [
            [
             0,
             "#0d0887"
            ],
            [
             0.1111111111111111,
             "#46039f"
            ],
            [
             0.2222222222222222,
             "#7201a8"
            ],
            [
             0.3333333333333333,
             "#9c179e"
            ],
            [
             0.4444444444444444,
             "#bd3786"
            ],
            [
             0.5555555555555556,
             "#d8576b"
            ],
            [
             0.6666666666666666,
             "#ed7953"
            ],
            [
             0.7777777777777778,
             "#fb9f3a"
            ],
            [
             0.8888888888888888,
             "#fdca26"
            ],
            [
             1,
             "#f0f921"
            ]
           ],
           "sequentialminus": [
            [
             0,
             "#0d0887"
            ],
            [
             0.1111111111111111,
             "#46039f"
            ],
            [
             0.2222222222222222,
             "#7201a8"
            ],
            [
             0.3333333333333333,
             "#9c179e"
            ],
            [
             0.4444444444444444,
             "#bd3786"
            ],
            [
             0.5555555555555556,
             "#d8576b"
            ],
            [
             0.6666666666666666,
             "#ed7953"
            ],
            [
             0.7777777777777778,
             "#fb9f3a"
            ],
            [
             0.8888888888888888,
             "#fdca26"
            ],
            [
             1,
             "#f0f921"
            ]
           ]
          },
          "colorway": [
           "#636efa",
           "#EF553B",
           "#00cc96",
           "#ab63fa",
           "#FFA15A",
           "#19d3f3",
           "#FF6692",
           "#B6E880",
           "#FF97FF",
           "#FECB52"
          ],
          "font": {
           "color": "#2a3f5f"
          },
          "geo": {
           "bgcolor": "white",
           "lakecolor": "white",
           "landcolor": "#E5ECF6",
           "showlakes": true,
           "showland": true,
           "subunitcolor": "white"
          },
          "hoverlabel": {
           "align": "left"
          },
          "hovermode": "closest",
          "mapbox": {
           "style": "light"
          },
          "paper_bgcolor": "white",
          "plot_bgcolor": "#E5ECF6",
          "polar": {
           "angularaxis": {
            "gridcolor": "white",
            "linecolor": "white",
            "ticks": ""
           },
           "bgcolor": "#E5ECF6",
           "radialaxis": {
            "gridcolor": "white",
            "linecolor": "white",
            "ticks": ""
           }
          },
          "scene": {
           "xaxis": {
            "backgroundcolor": "#E5ECF6",
            "gridcolor": "white",
            "gridwidth": 2,
            "linecolor": "white",
            "showbackground": true,
            "ticks": "",
            "zerolinecolor": "white"
           },
           "yaxis": {
            "backgroundcolor": "#E5ECF6",
            "gridcolor": "white",
            "gridwidth": 2,
            "linecolor": "white",
            "showbackground": true,
            "ticks": "",
            "zerolinecolor": "white"
           },
           "zaxis": {
            "backgroundcolor": "#E5ECF6",
            "gridcolor": "white",
            "gridwidth": 2,
            "linecolor": "white",
            "showbackground": true,
            "ticks": "",
            "zerolinecolor": "white"
           }
          },
          "shapedefaults": {
           "line": {
            "color": "#2a3f5f"
           }
          },
          "ternary": {
           "aaxis": {
            "gridcolor": "white",
            "linecolor": "white",
            "ticks": ""
           },
           "baxis": {
            "gridcolor": "white",
            "linecolor": "white",
            "ticks": ""
           },
           "bgcolor": "#E5ECF6",
           "caxis": {
            "gridcolor": "white",
            "linecolor": "white",
            "ticks": ""
           }
          },
          "title": {
           "x": 0.05
          },
          "xaxis": {
           "automargin": true,
           "gridcolor": "white",
           "linecolor": "white",
           "ticks": "",
           "title": {
            "standoff": 15
           },
           "zerolinecolor": "white",
           "zerolinewidth": 2
          },
          "yaxis": {
           "automargin": true,
           "gridcolor": "white",
           "linecolor": "white",
           "ticks": "",
           "title": {
            "standoff": 15
           },
           "zerolinecolor": "white",
           "zerolinewidth": 2
          }
         }
        },
        "xaxis": {
         "anchor": "y",
         "domain": [
          0,
          1
         ],
         "title": {
          "text": "variable"
         }
        },
        "yaxis": {
         "anchor": "x",
         "domain": [
          0,
          1
         ],
         "title": {
          "text": "Fixed dose"
         }
        }
       }
      }
     },
     "metadata": {},
     "output_type": "display_data"
    },
    {
     "data": {
      "application/vnd.plotly.v1+json": {
       "config": {
        "plotlyServerURL": "https://plot.ly"
       },
       "data": [
        {
         "alignmentgroup": "True",
         "boxpoints": "all",
         "fillcolor": "rgba(255,255,255,0)",
         "hoveron": "points",
         "hovertemplate": "<b>%{hovertext}</b><br><br>variable=%{x}<br>value=%{y}<extra></extra>",
         "hovertext": [
          "37",
          "39",
          "38",
          "09",
          "27",
          "08",
          "21",
          "11",
          "36",
          "22",
          "26",
          "43",
          "42",
          "25",
          "17",
          "45",
          "24",
          "41",
          "03",
          "44",
          "16",
          "37",
          "39",
          "38",
          "09",
          "27",
          "08",
          "21",
          "11",
          "36",
          "22",
          "26",
          "43",
          "42",
          "25",
          "17",
          "45",
          "24",
          "41",
          "03",
          "44",
          "16",
          "37",
          "39",
          "38",
          "09",
          "27",
          "08",
          "21",
          "11",
          "36",
          "22",
          "26",
          "43",
          "42",
          "25",
          "17",
          "45",
          "24",
          "41",
          "03",
          "44",
          "16",
          "37",
          "39",
          "38",
          "09",
          "27",
          "08",
          "21",
          "11",
          "36",
          "22",
          "26",
          "43",
          "42",
          "25",
          "17",
          "45",
          "24",
          "41",
          "03",
          "44",
          "16",
          "37",
          "39",
          "38",
          "09",
          "27",
          "08",
          "21",
          "11",
          "36",
          "22",
          "26",
          "43",
          "42",
          "25",
          "17",
          "45",
          "24",
          "41",
          "03",
          "44",
          "16",
          "37",
          "39",
          "38",
          "09",
          "27",
          "08",
          "21",
          "11",
          "36",
          "22",
          "26",
          "43",
          "42",
          "25",
          "17",
          "45",
          "24",
          "41",
          "03",
          "44",
          "16",
          "37",
          "39",
          "38",
          "09",
          "27",
          "08",
          "21",
          "11",
          "36",
          "22",
          "26",
          "43",
          "42",
          "25",
          "17",
          "45",
          "24",
          "41",
          "03",
          "44",
          "16",
          "37",
          "39",
          "38",
          "09",
          "27",
          "08",
          "21",
          "11",
          "36",
          "22",
          "26",
          "43",
          "42",
          "25",
          "17",
          "45",
          "24",
          "41",
          "03",
          "44",
          "16"
         ],
         "legendgroup": "",
         "line": {
          "color": "rgba(255,255,255,0)"
         },
         "marker": {
          "color": "#636efa"
         },
         "name": "",
         "offsetgroup": "",
         "orientation": "v",
         "pointpos": 0,
         "showlegend": false,
         "type": "box",
         "x": [
          "Block1",
          "Block1",
          "Block1",
          "Block1",
          "Block1",
          "Block1",
          "Block1",
          "Block1",
          "Block1",
          "Block1",
          "Block1",
          "Block1",
          "Block1",
          "Block1",
          "Block1",
          "Block1",
          "Block1",
          "Block1",
          "Block1",
          "Block1",
          "Block1",
          "Block2",
          "Block2",
          "Block2",
          "Block2",
          "Block2",
          "Block2",
          "Block2",
          "Block2",
          "Block2",
          "Block2",
          "Block2",
          "Block2",
          "Block2",
          "Block2",
          "Block2",
          "Block2",
          "Block2",
          "Block2",
          "Block2",
          "Block2",
          "Block2",
          "Block3",
          "Block3",
          "Block3",
          "Block3",
          "Block3",
          "Block3",
          "Block3",
          "Block3",
          "Block3",
          "Block3",
          "Block3",
          "Block3",
          "Block3",
          "Block3",
          "Block3",
          "Block3",
          "Block3",
          "Block3",
          "Block3",
          "Block3",
          "Block3",
          "Block4",
          "Block4",
          "Block4",
          "Block4",
          "Block4",
          "Block4",
          "Block4",
          "Block4",
          "Block4",
          "Block4",
          "Block4",
          "Block4",
          "Block4",
          "Block4",
          "Block4",
          "Block4",
          "Block4",
          "Block4",
          "Block4",
          "Block4",
          "Block4",
          "Block5",
          "Block5",
          "Block5",
          "Block5",
          "Block5",
          "Block5",
          "Block5",
          "Block5",
          "Block5",
          "Block5",
          "Block5",
          "Block5",
          "Block5",
          "Block5",
          "Block5",
          "Block5",
          "Block5",
          "Block5",
          "Block5",
          "Block5",
          "Block5",
          "Block6",
          "Block6",
          "Block6",
          "Block6",
          "Block6",
          "Block6",
          "Block6",
          "Block6",
          "Block6",
          "Block6",
          "Block6",
          "Block6",
          "Block6",
          "Block6",
          "Block6",
          "Block6",
          "Block6",
          "Block6",
          "Block6",
          "Block6",
          "Block6",
          "Block7",
          "Block7",
          "Block7",
          "Block7",
          "Block7",
          "Block7",
          "Block7",
          "Block7",
          "Block7",
          "Block7",
          "Block7",
          "Block7",
          "Block7",
          "Block7",
          "Block7",
          "Block7",
          "Block7",
          "Block7",
          "Block7",
          "Block7",
          "Block7",
          "Block8",
          "Block8",
          "Block8",
          "Block8",
          "Block8",
          "Block8",
          "Block8",
          "Block8",
          "Block8",
          "Block8",
          "Block8",
          "Block8",
          "Block8",
          "Block8",
          "Block8",
          "Block8",
          "Block8",
          "Block8",
          "Block8",
          "Block8",
          "Block8"
         ],
         "x0": " ",
         "xaxis": "x",
         "y": [
          null,
          null,
          null,
          null,
          null,
          null,
          null,
          null,
          null,
          null,
          null,
          null,
          null,
          null,
          null,
          null,
          null,
          null,
          null,
          null,
          null,
          0.23041409082127717,
          0.6363664278192973,
          1.4508687169659704,
          -0.13663755495744426,
          -0.48100316386300385,
          0.7146559732462539,
          -1.8534083213944386,
          -0.10474481032188976,
          1.434090610863574,
          -0.443167690741432,
          -1.972647937158614,
          1.4250244306087334,
          -0.5807843366908615,
          0.2791531743609889,
          1.1806518230365621,
          -0.06804092688915925,
          0.3946008595557938,
          -0.9257406926806324,
          -1.120922975232256,
          0.6671684515532429,
          -0.7258961489019866,
          0.08661822342940964,
          0.40196428199173934,
          1.360160900017472,
          0.42070414281690927,
          -0.6377431427051352,
          1.1817940793218862,
          -2.0556110539210084,
          -0.4260924612352902,
          1.0103922527340328,
          -0.590625027607656,
          -1.3651268438631776,
          1.7096323003057423,
          -0.730953096438228,
          1.015193198520237,
          0.781399753234211,
          -0.3347980465237018,
          0.916408576553355,
          -1.0884688125709352,
          -0.9111475722290806,
          -0.27590059234693837,
          -0.4678010594838432,
          0.059468009858495756,
          0.3108774323437636,
          0.9756169936607842,
          0.8488291430497491,
          -0.7905854531491726,
          1.014716205334246,
          -1.4478376844022711,
          0.6373930141809094,
          0.7087853585512041,
          -0.630305982867891,
          -1.2952847234043388,
          1.4086766779900208,
          -2.349851297664548,
          1.2787830061681804,
          0.7592167190179375,
          -0.41715208174618845,
          0.47254282896965016,
          -0.7755104905257616,
          -0.4944567048162569,
          0.36016946165079494,
          -0.6340904321993419,
          -0.9378330612694872,
          1.173404952927122,
          1.1937175459300138,
          0.8753281634539608,
          -0.6207378475675392,
          0.7177570208239434,
          -1.8720245658710515,
          1.2749712379165732,
          0.6883103838032273,
          -0.5099147442979467,
          -1.4902179549303631,
          0.826023287005466,
          -1.7301941317140945,
          0.9681885233186854,
          0.8100837461338558,
          -0.3653619614507901,
          0.4754273241277084,
          -0.6989670693260415,
          -0.5334864462254958,
          0.13785791601972966,
          -0.3823323188075198,
          0.06396393430290115,
          -0.2954205299195661,
          1.2732092284967749,
          0.010723135928555108,
          0.21517645268464422,
          0.358794225142899,
          -1.0864451078096575,
          0.5152759166535221,
          0.3711931662159587,
          0.18556344961718846,
          -2.6283196244115277,
          1.0037316825227385,
          1.2591978372412942,
          1.4518578594246725,
          1.234275320202312,
          -0.9701044250226081,
          -0.22441776550633427,
          -0.7627737696961042,
          -1.1288636609687355,
          -0.7024889702338084,
          -0.1441283548651523,
          -1.5679268836705997,
          0.3439613988326662,
          1.1587862499603192,
          0.7502468678034457,
          -0.7382559621144734,
          0.21666241932324334,
          -1.51620404556367,
          1.0092635634720664,
          0.6807539408646976,
          -0.8240106845661145,
          -1.2373623208630389,
          0.6570229147041491,
          -1.7617824773694173,
          2.072083567426305,
          0.7351690910340632,
          -0.15191286859932412,
          0.500324831926445,
          -0.3846157718710685,
          -0.23793679205500395,
          0.2952903109497025,
          0.0004426503756243459,
          -1.8567044488834825,
          0.6785111242544647,
          0.789852704741771,
          0.858820353238687,
          -0.12130529964901784,
          -0.12730584808049997,
          -1.3136638157539662,
          0.7485009309550894,
          0.5367667182686947,
          -1.4268402674314524,
          -1.116267355299876,
          0.6724773323011132,
          -1.5541043546675826,
          1.6845855707627309,
          0.9529994936494048,
          -0.26338513459053803,
          1.3727598071916594,
          -0.5062137970991829,
          -0.11666653977568973,
          0.07535823500270819,
          0.03182459086495951
         ],
         "y0": " ",
         "yaxis": "y"
        }
       ],
       "layout": {
        "boxmode": "group",
        "legend": {
         "tracegroupgap": 0
        },
        "margin": {
         "t": 60
        },
        "template": {
         "data": {
          "bar": [
           {
            "error_x": {
             "color": "#2a3f5f"
            },
            "error_y": {
             "color": "#2a3f5f"
            },
            "marker": {
             "line": {
              "color": "#E5ECF6",
              "width": 0.5
             },
             "pattern": {
              "fillmode": "overlay",
              "size": 10,
              "solidity": 0.2
             }
            },
            "type": "bar"
           }
          ],
          "barpolar": [
           {
            "marker": {
             "line": {
              "color": "#E5ECF6",
              "width": 0.5
             },
             "pattern": {
              "fillmode": "overlay",
              "size": 10,
              "solidity": 0.2
             }
            },
            "type": "barpolar"
           }
          ],
          "carpet": [
           {
            "aaxis": {
             "endlinecolor": "#2a3f5f",
             "gridcolor": "white",
             "linecolor": "white",
             "minorgridcolor": "white",
             "startlinecolor": "#2a3f5f"
            },
            "baxis": {
             "endlinecolor": "#2a3f5f",
             "gridcolor": "white",
             "linecolor": "white",
             "minorgridcolor": "white",
             "startlinecolor": "#2a3f5f"
            },
            "type": "carpet"
           }
          ],
          "choropleth": [
           {
            "colorbar": {
             "outlinewidth": 0,
             "ticks": ""
            },
            "type": "choropleth"
           }
          ],
          "contour": [
           {
            "colorbar": {
             "outlinewidth": 0,
             "ticks": ""
            },
            "colorscale": [
             [
              0,
              "#0d0887"
             ],
             [
              0.1111111111111111,
              "#46039f"
             ],
             [
              0.2222222222222222,
              "#7201a8"
             ],
             [
              0.3333333333333333,
              "#9c179e"
             ],
             [
              0.4444444444444444,
              "#bd3786"
             ],
             [
              0.5555555555555556,
              "#d8576b"
             ],
             [
              0.6666666666666666,
              "#ed7953"
             ],
             [
              0.7777777777777778,
              "#fb9f3a"
             ],
             [
              0.8888888888888888,
              "#fdca26"
             ],
             [
              1,
              "#f0f921"
             ]
            ],
            "type": "contour"
           }
          ],
          "contourcarpet": [
           {
            "colorbar": {
             "outlinewidth": 0,
             "ticks": ""
            },
            "type": "contourcarpet"
           }
          ],
          "heatmap": [
           {
            "colorbar": {
             "outlinewidth": 0,
             "ticks": ""
            },
            "colorscale": [
             [
              0,
              "#0d0887"
             ],
             [
              0.1111111111111111,
              "#46039f"
             ],
             [
              0.2222222222222222,
              "#7201a8"
             ],
             [
              0.3333333333333333,
              "#9c179e"
             ],
             [
              0.4444444444444444,
              "#bd3786"
             ],
             [
              0.5555555555555556,
              "#d8576b"
             ],
             [
              0.6666666666666666,
              "#ed7953"
             ],
             [
              0.7777777777777778,
              "#fb9f3a"
             ],
             [
              0.8888888888888888,
              "#fdca26"
             ],
             [
              1,
              "#f0f921"
             ]
            ],
            "type": "heatmap"
           }
          ],
          "heatmapgl": [
           {
            "colorbar": {
             "outlinewidth": 0,
             "ticks": ""
            },
            "colorscale": [
             [
              0,
              "#0d0887"
             ],
             [
              0.1111111111111111,
              "#46039f"
             ],
             [
              0.2222222222222222,
              "#7201a8"
             ],
             [
              0.3333333333333333,
              "#9c179e"
             ],
             [
              0.4444444444444444,
              "#bd3786"
             ],
             [
              0.5555555555555556,
              "#d8576b"
             ],
             [
              0.6666666666666666,
              "#ed7953"
             ],
             [
              0.7777777777777778,
              "#fb9f3a"
             ],
             [
              0.8888888888888888,
              "#fdca26"
             ],
             [
              1,
              "#f0f921"
             ]
            ],
            "type": "heatmapgl"
           }
          ],
          "histogram": [
           {
            "marker": {
             "pattern": {
              "fillmode": "overlay",
              "size": 10,
              "solidity": 0.2
             }
            },
            "type": "histogram"
           }
          ],
          "histogram2d": [
           {
            "colorbar": {
             "outlinewidth": 0,
             "ticks": ""
            },
            "colorscale": [
             [
              0,
              "#0d0887"
             ],
             [
              0.1111111111111111,
              "#46039f"
             ],
             [
              0.2222222222222222,
              "#7201a8"
             ],
             [
              0.3333333333333333,
              "#9c179e"
             ],
             [
              0.4444444444444444,
              "#bd3786"
             ],
             [
              0.5555555555555556,
              "#d8576b"
             ],
             [
              0.6666666666666666,
              "#ed7953"
             ],
             [
              0.7777777777777778,
              "#fb9f3a"
             ],
             [
              0.8888888888888888,
              "#fdca26"
             ],
             [
              1,
              "#f0f921"
             ]
            ],
            "type": "histogram2d"
           }
          ],
          "histogram2dcontour": [
           {
            "colorbar": {
             "outlinewidth": 0,
             "ticks": ""
            },
            "colorscale": [
             [
              0,
              "#0d0887"
             ],
             [
              0.1111111111111111,
              "#46039f"
             ],
             [
              0.2222222222222222,
              "#7201a8"
             ],
             [
              0.3333333333333333,
              "#9c179e"
             ],
             [
              0.4444444444444444,
              "#bd3786"
             ],
             [
              0.5555555555555556,
              "#d8576b"
             ],
             [
              0.6666666666666666,
              "#ed7953"
             ],
             [
              0.7777777777777778,
              "#fb9f3a"
             ],
             [
              0.8888888888888888,
              "#fdca26"
             ],
             [
              1,
              "#f0f921"
             ]
            ],
            "type": "histogram2dcontour"
           }
          ],
          "mesh3d": [
           {
            "colorbar": {
             "outlinewidth": 0,
             "ticks": ""
            },
            "type": "mesh3d"
           }
          ],
          "parcoords": [
           {
            "line": {
             "colorbar": {
              "outlinewidth": 0,
              "ticks": ""
             }
            },
            "type": "parcoords"
           }
          ],
          "pie": [
           {
            "automargin": true,
            "type": "pie"
           }
          ],
          "scatter": [
           {
            "marker": {
             "colorbar": {
              "outlinewidth": 0,
              "ticks": ""
             }
            },
            "type": "scatter"
           }
          ],
          "scatter3d": [
           {
            "line": {
             "colorbar": {
              "outlinewidth": 0,
              "ticks": ""
             }
            },
            "marker": {
             "colorbar": {
              "outlinewidth": 0,
              "ticks": ""
             }
            },
            "type": "scatter3d"
           }
          ],
          "scattercarpet": [
           {
            "marker": {
             "colorbar": {
              "outlinewidth": 0,
              "ticks": ""
             }
            },
            "type": "scattercarpet"
           }
          ],
          "scattergeo": [
           {
            "marker": {
             "colorbar": {
              "outlinewidth": 0,
              "ticks": ""
             }
            },
            "type": "scattergeo"
           }
          ],
          "scattergl": [
           {
            "marker": {
             "colorbar": {
              "outlinewidth": 0,
              "ticks": ""
             }
            },
            "type": "scattergl"
           }
          ],
          "scattermapbox": [
           {
            "marker": {
             "colorbar": {
              "outlinewidth": 0,
              "ticks": ""
             }
            },
            "type": "scattermapbox"
           }
          ],
          "scatterpolar": [
           {
            "marker": {
             "colorbar": {
              "outlinewidth": 0,
              "ticks": ""
             }
            },
            "type": "scatterpolar"
           }
          ],
          "scatterpolargl": [
           {
            "marker": {
             "colorbar": {
              "outlinewidth": 0,
              "ticks": ""
             }
            },
            "type": "scatterpolargl"
           }
          ],
          "scatterternary": [
           {
            "marker": {
             "colorbar": {
              "outlinewidth": 0,
              "ticks": ""
             }
            },
            "type": "scatterternary"
           }
          ],
          "surface": [
           {
            "colorbar": {
             "outlinewidth": 0,
             "ticks": ""
            },
            "colorscale": [
             [
              0,
              "#0d0887"
             ],
             [
              0.1111111111111111,
              "#46039f"
             ],
             [
              0.2222222222222222,
              "#7201a8"
             ],
             [
              0.3333333333333333,
              "#9c179e"
             ],
             [
              0.4444444444444444,
              "#bd3786"
             ],
             [
              0.5555555555555556,
              "#d8576b"
             ],
             [
              0.6666666666666666,
              "#ed7953"
             ],
             [
              0.7777777777777778,
              "#fb9f3a"
             ],
             [
              0.8888888888888888,
              "#fdca26"
             ],
             [
              1,
              "#f0f921"
             ]
            ],
            "type": "surface"
           }
          ],
          "table": [
           {
            "cells": {
             "fill": {
              "color": "#EBF0F8"
             },
             "line": {
              "color": "white"
             }
            },
            "header": {
             "fill": {
              "color": "#C8D4E3"
             },
             "line": {
              "color": "white"
             }
            },
            "type": "table"
           }
          ]
         },
         "layout": {
          "annotationdefaults": {
           "arrowcolor": "#2a3f5f",
           "arrowhead": 0,
           "arrowwidth": 1
          },
          "autotypenumbers": "strict",
          "coloraxis": {
           "colorbar": {
            "outlinewidth": 0,
            "ticks": ""
           }
          },
          "colorscale": {
           "diverging": [
            [
             0,
             "#8e0152"
            ],
            [
             0.1,
             "#c51b7d"
            ],
            [
             0.2,
             "#de77ae"
            ],
            [
             0.3,
             "#f1b6da"
            ],
            [
             0.4,
             "#fde0ef"
            ],
            [
             0.5,
             "#f7f7f7"
            ],
            [
             0.6,
             "#e6f5d0"
            ],
            [
             0.7,
             "#b8e186"
            ],
            [
             0.8,
             "#7fbc41"
            ],
            [
             0.9,
             "#4d9221"
            ],
            [
             1,
             "#276419"
            ]
           ],
           "sequential": [
            [
             0,
             "#0d0887"
            ],
            [
             0.1111111111111111,
             "#46039f"
            ],
            [
             0.2222222222222222,
             "#7201a8"
            ],
            [
             0.3333333333333333,
             "#9c179e"
            ],
            [
             0.4444444444444444,
             "#bd3786"
            ],
            [
             0.5555555555555556,
             "#d8576b"
            ],
            [
             0.6666666666666666,
             "#ed7953"
            ],
            [
             0.7777777777777778,
             "#fb9f3a"
            ],
            [
             0.8888888888888888,
             "#fdca26"
            ],
            [
             1,
             "#f0f921"
            ]
           ],
           "sequentialminus": [
            [
             0,
             "#0d0887"
            ],
            [
             0.1111111111111111,
             "#46039f"
            ],
            [
             0.2222222222222222,
             "#7201a8"
            ],
            [
             0.3333333333333333,
             "#9c179e"
            ],
            [
             0.4444444444444444,
             "#bd3786"
            ],
            [
             0.5555555555555556,
             "#d8576b"
            ],
            [
             0.6666666666666666,
             "#ed7953"
            ],
            [
             0.7777777777777778,
             "#fb9f3a"
            ],
            [
             0.8888888888888888,
             "#fdca26"
            ],
            [
             1,
             "#f0f921"
            ]
           ]
          },
          "colorway": [
           "#636efa",
           "#EF553B",
           "#00cc96",
           "#ab63fa",
           "#FFA15A",
           "#19d3f3",
           "#FF6692",
           "#B6E880",
           "#FF97FF",
           "#FECB52"
          ],
          "font": {
           "color": "#2a3f5f"
          },
          "geo": {
           "bgcolor": "white",
           "lakecolor": "white",
           "landcolor": "#E5ECF6",
           "showlakes": true,
           "showland": true,
           "subunitcolor": "white"
          },
          "hoverlabel": {
           "align": "left"
          },
          "hovermode": "closest",
          "mapbox": {
           "style": "light"
          },
          "paper_bgcolor": "white",
          "plot_bgcolor": "#E5ECF6",
          "polar": {
           "angularaxis": {
            "gridcolor": "white",
            "linecolor": "white",
            "ticks": ""
           },
           "bgcolor": "#E5ECF6",
           "radialaxis": {
            "gridcolor": "white",
            "linecolor": "white",
            "ticks": ""
           }
          },
          "scene": {
           "xaxis": {
            "backgroundcolor": "#E5ECF6",
            "gridcolor": "white",
            "gridwidth": 2,
            "linecolor": "white",
            "showbackground": true,
            "ticks": "",
            "zerolinecolor": "white"
           },
           "yaxis": {
            "backgroundcolor": "#E5ECF6",
            "gridcolor": "white",
            "gridwidth": 2,
            "linecolor": "white",
            "showbackground": true,
            "ticks": "",
            "zerolinecolor": "white"
           },
           "zaxis": {
            "backgroundcolor": "#E5ECF6",
            "gridcolor": "white",
            "gridwidth": 2,
            "linecolor": "white",
            "showbackground": true,
            "ticks": "",
            "zerolinecolor": "white"
           }
          },
          "shapedefaults": {
           "line": {
            "color": "#2a3f5f"
           }
          },
          "ternary": {
           "aaxis": {
            "gridcolor": "white",
            "linecolor": "white",
            "ticks": ""
           },
           "baxis": {
            "gridcolor": "white",
            "linecolor": "white",
            "ticks": ""
           },
           "bgcolor": "#E5ECF6",
           "caxis": {
            "gridcolor": "white",
            "linecolor": "white",
            "ticks": ""
           }
          },
          "title": {
           "x": 0.05
          },
          "xaxis": {
           "automargin": true,
           "gridcolor": "white",
           "linecolor": "white",
           "ticks": "",
           "title": {
            "standoff": 15
           },
           "zerolinecolor": "white",
           "zerolinewidth": 2
          },
          "yaxis": {
           "automargin": true,
           "gridcolor": "white",
           "linecolor": "white",
           "ticks": "",
           "title": {
            "standoff": 15
           },
           "zerolinecolor": "white",
           "zerolinewidth": 2
          }
         }
        },
        "xaxis": {
         "anchor": "y",
         "domain": [
          0,
          1
         ],
         "title": {
          "text": "variable"
         }
        },
        "yaxis": {
         "anchor": "x",
         "domain": [
          0,
          1
         ],
         "title": {
          "text": "Individualised dose"
         }
        }
       }
      }
     },
     "metadata": {},
     "output_type": "display_data"
    }
   ],
   "source": [
    "# inter subject z- score\n",
    "for key in data_files_full:\n",
    "    mean_block_1 = data_files_full[key].loc[\"Block2\"].mean()\n",
    "    z_score = (data_files_full[key].T - data_files_full[key].T.mean()) / data_files_full[key].T.std()\n",
    "    std_blockwise = data_files_full[key].std(axis = 1)\n",
    "    fig = px.strip(z_score, hover_name = z_score.index.str[-4:-2])\n",
    "    fig.update_layout(yaxis_title=key)\n",
    "    fig.show()"
   ]
  },
  {
   "attachments": {},
   "cell_type": "markdown",
   "metadata": {},
   "source": [
    "Analysing the baseline performance"
   ]
  },
  {
   "cell_type": "code",
   "execution_count": 14,
   "metadata": {},
   "outputs": [],
   "source": [
    "b1_sham_abs_gtr_1mA =data_files_abs['Sham'].iloc[0]  #sham cond baseline >1mA"
   ]
  },
  {
   "cell_type": "code",
   "execution_count": 15,
   "metadata": {},
   "outputs": [],
   "source": [
    "b1_sham_abs_less_1mA = data_files_abs['Sham'].iloc[0] #sham condi baseline <1"
   ]
  },
  {
   "cell_type": "code",
   "execution_count": null,
   "metadata": {},
   "outputs": [],
   "source": [
    "test, p = shapiro(b1_sham_abs_gtr_1mA) #testing for normality\n",
    "print(\"Shapiro \"+\"statistics=\" + str(test), \"p_value=\" + str(p))\n",
    "stats.levene(b1_sham_abs_gtr_1mA, b1_sham_abs_less_1mA)"
   ]
  },
  {
   "cell_type": "code",
   "execution_count": null,
   "metadata": {},
   "outputs": [],
   "source": [
    "# t-test between the >1mA and <1mA ; equal_var = False- Welch t test, bc sample size differs \n",
    "print(stats.ttest_ind(b1_sham_abs_gtr_1mA, b1_sham_abs_less_1mA, equal_var= False)) \n",
    "\n",
    "# Effect size for Gtr::less\n",
    "cohens_d = (statistics.mean(b1_sham_abs_gtr_1mA) - statistics.mean(b1_sham_abs_less_1mA)) / (statistics.sqrt((statistics.stdev(b1_sham_abs_gtr_1mA) ** 2 + statistics.stdev(b1_sham_abs_less_1mA) ** 2) / 2))\n",
    "print(\"Cohens_d= \" + str(round(cohens_d, 4)))\n",
    "\n",
    "#DOF\n",
    "varGtr = statistics.variance(b1_sham_abs_gtr_1mA)\n",
    "varLess = statistics.variance(b1_sham_abs_less_1mA)\n",
    "\n",
    "dof = (varGtr/len(b1_sham_abs_gtr_1mA) + varLess/len(b1_sham_abs_less_1mA))**2 / (((varGtr/len(b1_sham_abs_gtr_1mA))**2)/(len(b1_sham_abs_gtr_1mA)-1) + ((varLess/len(b1_sham_abs_less_1mA))**2)/(len(b1_sham_abs_less_1mA)-1))\n",
    "print(\"Deegree of freedom= \" + str(dof))"
   ]
  },
  {
   "attachments": {},
   "cell_type": "markdown",
   "metadata": {},
   "source": [
    "Plotting figures"
   ]
  },
  {
   "cell_type": "code",
   "execution_count": null,
   "metadata": {},
   "outputs": [],
   "source": [
    "# Baseline performance for the >1mA::<1mA\n",
    "fig,ax = plt.subplots(figsize = ((15,10)))\n",
    "data_to_plot = [b1_sham_abs_gtr_1mA, b1_sham_abs_less_1mA]\n",
    "ax.boxplot(data_to_plot, patch_artist=True, )\n",
    "labels = [item.get_text() for item in ax.get_xticklabels()]\n",
    "labels[1] = '<1mA'\n",
    "labels[0] = '>1mA'\n",
    "ax.set_xticklabels(labels)\n",
    "ax.spines.right.set_visible(False)\n",
    "ax.spines.top.set_visible(False)\n",
    "ax.spines.left.set_visible(False)\n",
    "ax.spines.bottom.set_visible(False)\n",
    "plt.yticks(size = 18)\n",
    "plt.xticks(size = 18)\n",
    "plt.grid(True, axis = \"y\", color='w', linestyle='-', linewidth=2)\n",
    "plt.gca().patch.set_facecolor('#f0f9ff')\n",
    "plt.ylim(250,650)\n",
    "plt.rc('xtick', labelsize=23) \n",
    "plt.rc('ytick', labelsize=23) \n",
    "plt.rc('axes', titlesize=30)   \n",
    "plt.rc('axes', labelsize=22)\n",
    "plt.xlabel('Stimulation dose (mA)', fontsize = 26, fontname = \"sans-serif\")\n",
    "plt.ylabel('RT (ms)', fontsize = 26, fontname = \"sans-serif\")\n",
    "plt.title('BASELINE PERFORMANCE - Sham Block1', fontsize = 30, fontname = \"sans-serif\")\n",
    "\n",
    "from matplotlib.markers import TICKDOWN\n",
    "\n",
    "def significance_bar(start,end,height,displaystring,linewidth = 1.2,\n",
    "    markersize = 8,boxpad  =0.5,fontsize = 20,color = 'k'):\n",
    "    # draw a line with downticks at the ends\n",
    "    ax.plot([start,end],[height]*2,'-',color = color,lw=linewidth,marker=TICKDOWN, \n",
    "    markeredgewidth=linewidth,markersize = markersize)\n",
    "    # draw the text with a bounding box covering up the line\n",
    "    ax.text(0.5*(start+end),height+5,displaystring,ha = 'center',va='center',\n",
    "    bbox=dict(alpha = 0,facecolor='1', edgecolor='none',boxstyle='Square,pad='+str(boxpad)),size = fontsize)\n",
    "\n",
    "p_val = 0.011934\n",
    "\n",
    "for ind, row in statTable.iterrows():\n",
    "    p = p_val\n",
    "    if p>=0.05:\n",
    "        displaystring = r'n.s.'\n",
    "    elif p<0.0001:\n",
    "        displaystring = r'***'\n",
    "    elif p<0.001:\n",
    "        displaystring = r'**'\n",
    "    else:\n",
    "        displaystring = r'*'\n",
    "    height = max(baseline[\"Abs_RT\"])+15\n",
    "\n",
    "significance_bar(1, 2,height,displaystring)\n",
    "# fig.savefig(r\"/baselinePerformance.jpg\", format=\"jpg\", dpi = 500)\n",
    "plt.show()"
   ]
  },
  {
   "cell_type": "code",
   "execution_count": 31,
   "metadata": {},
   "outputs": [
    {
     "data": {
      "text/plain": [
       "Text(0.5, 0.999, 'Absolute RT')"
      ]
     },
     "execution_count": 31,
     "metadata": {},
     "output_type": "execute_result"
    },
    {
     "data": {
      "image/png": "[encoded data removed]",
      "text/plain": [
       "<Figure size 1368x792 with 1 Axes>"
      ]
     },
     "metadata": {
      "needs_background": "light"
     },
     "output_type": "display_data"
    }
   ],
   "source": [
    "# Blockwise behavioural performance\n",
    "## Absolute Reaction time\n",
    "ax = block_rt_abs_mean.plot(yerr = block_rt_abs_er, ylim=[300, 500],\n",
    "    figsize = (19,11), capsize = 5, linewidth = 2.3, \n",
    "    marker = 'o', markersize = 12, markerfacecolor = 'white' )\n",
    "\n",
    "ax.legend(loc = \"upper right\", borderpad=1.5, labelspacing=1.5, handlelength=5,\n",
    "    prop = {\"size\":15 })\n",
    "# ax.set_frame_on(False)\n",
    "ax.spines.right.set_visible(False)\n",
    "ax.spines.top.set_visible(False)\n",
    "ax.spines.left.set_visible(False)\n",
    "ax.spines.bottom.set_visible(False)\n",
    "xTickPos = [0, 1, 2, 3,4,  5 ,6 ,7]\n",
    "xTickName = ['Block1\\n(R)', 'Block2\\n(L)', 'Block3\\n(L)', 'Block4\\n(L)','Block5\\n(L)',\n",
    "    'Block6\\n(R)','Block7\\n(L)', 'Block8\\n(L)']\n",
    "plt.yticks(size = 18)\n",
    "plt.xticks(xTickPos, labels = xTickName, size = 18)\n",
    "plt.grid(True, axis = \"y\", color='w', linestyle='-', linewidth=2)\n",
    "plt.gca().patch.set_facecolor('#f0f9ff')\n",
    "plt.ylabel(\"RT(ms)\", fontname = \"sans-serif\", size = 26)\n",
    "plt.xlabel(\"Blocks\", fontname = \"sans-serif\", size = 26)\n",
    "plt.title(\"Absolute RT\", fontname = \"sans-serif\",size = 30, y = 0.999)\n",
    "# plt.savefig(r'/absoluteRT_sessions.jpg', format=\"jpg\", dpi = 500)"
   ]
  },
  {
   "cell_type": "code",
   "execution_count": 32,
   "metadata": {},
   "outputs": [
    {
     "data": {
      "text/plain": [
       "Text(0.5, 0.999, 'Normalised RT')"
      ]
     },
     "execution_count": 32,
     "metadata": {},
     "output_type": "execute_result"
    },
    {
     "data": {
      "image/png": "[encoded data removed]",
      "text/plain": [
       "<Figure size 1368x792 with 1 Axes>"
      ]
     },
     "metadata": {
      "needs_background": "light"
     },
     "output_type": "display_data"
    }
   ],
   "source": [
    "# Blockwise behavioural performance\n",
    "## Normalised RT\n",
    "\n",
    "ax = block_mean.plot(yerr = block_err, ylim=[0.75, 1.15],figsize = (19,11), capsize = 5, linewidth = 2.3, \n",
    "    marker = 'o', markersize = 12, markerfacecolor = 'white' ) #for poster linewidth = 4 otherwise 2.3; paper: figsize = (19,11)\n",
    "ax.legend(loc = \"upper right\", borderpad=1.5, labelspacing=1.5, handlelength=5, prop = {\"size\":15})\n",
    "ax.spines.right.set_visible(False)\n",
    "ax.spines.top.set_visible(False)\n",
    "ax.spines.left.set_visible(False)\n",
    "ax.spines.bottom.set_visible(False)\n",
    "xTickPos = [0, 1, 2, 3,4,  5 ,6 ,7]\n",
    "xTickName = ['Block1\\n(R)', 'Block2\\n(L)', 'Block3\\n(L)', 'Block4\\n(L)','Block5\\n(L)',\n",
    "    'Block6\\n(R)','Block7\\n(L)', 'Block8\\n(L)']\n",
    "plt.yticks(size = 18)\n",
    "plt.xticks(xTickPos, labels = xTickName, size = 18)\n",
    "plt.grid(True, axis = \"y\", color='w', linestyle='-', linewidth=2)\n",
    "plt.gca().patch.set_facecolor('#f0f9ff') #check from previous cell for paper\n",
    "plt.ylabel(\"Normalised RT\", fontname = \"sans-serif\",size = 26)\n",
    "plt.xlabel(\"Blocks\", fontname = \"sans-serif\", size = 26)\n",
    "plt.title(\"Normalised RT\", fontname = \"sans-serif\",size = 30, y = 0.999)\n",
    "# plt.savefig(r'/normalisedRT_sessions.jpg', format=\"jpg\", dpi = 500)"
   ]
  },
  {
   "cell_type": "markdown",
   "metadata": {},
   "source": [
    "Violin Plots\n",
    "RT distribution: Fixed vs Individualised dose "
   ]
  },
  {
   "cell_type": "code",
   "execution_count": 8,
   "metadata": {},
   "outputs": [
    {
     "data": {
      "application/vnd.plotly.v1+json": {
       "config": {
        "plotlyServerURL": "https://plot.ly"
       },
       "data": [
        {
         "jitter": 0.05,
         "legendgroup": "Fixed",
         "line": {
          "color": "lightseagreen"
         },
         "meanline": {
          "visible": true
         },
         "name": "Fixed",
         "pointpos": -1.07,
         "points": "all",
         "scalegroup": "Fixed",
         "scalemode": "count",
         "showlegend": true,
         "side": "negative",
         "type": "violin",
         "x": [
          "Block1\n(R)",
          "Block1\n(R)",
          "Block1\n(R)",
          "Block1\n(R)",
          "Block1\n(R)",
          "Block1\n(R)",
          "Block1\n(R)",
          "Block1\n(R)",
          "Block1\n(R)",
          "Block1\n(R)",
          "Block1\n(R)",
          "Block1\n(R)",
          "Block1\n(R)",
          "Block1\n(R)",
          "Block1\n(R)",
          "Block1\n(R)",
          "Block1\n(R)",
          "Block1\n(R)",
          "Block1\n(R)",
          "Block1\n(R)",
          "Block1\n(R)"
         ],
         "y": [
          1,
          1,
          1,
          1,
          1,
          1,
          1,
          1,
          1,
          1,
          1,
          1,
          1,
          1,
          1,
          1,
          1,
          1,
          1,
          1,
          1
         ]
        },
        {
         "jitter": 0.05,
         "legendgroup": "Individualised",
         "line": {
          "color": "mediumpurple"
         },
         "meanline": {
          "visible": true
         },
         "name": "Individualised",
         "pointpos": 1.1,
         "points": "all",
         "scalegroup": "Individualised",
         "scalemode": "count",
         "showlegend": true,
         "side": "positive",
         "type": "violin",
         "x": [
          "Block1\n(R)",
          "Block1\n(R)",
          "Block1\n(R)",
          "Block1\n(R)",
          "Block1\n(R)",
          "Block1\n(R)",
          "Block1\n(R)",
          "Block1\n(R)",
          "Block1\n(R)",
          "Block1\n(R)",
          "Block1\n(R)",
          "Block1\n(R)",
          "Block1\n(R)",
          "Block1\n(R)",
          "Block1\n(R)",
          "Block1\n(R)",
          "Block1\n(R)",
          "Block1\n(R)",
          "Block1\n(R)",
          "Block1\n(R)",
          "Block1\n(R)"
         ],
         "y": [
          1,
          1,
          1,
          1,
          1,
          1,
          1,
          1,
          1,
          1,
          1,
          1,
          1,
          1,
          1,
          1,
          1,
          1,
          1,
          1,
          1
         ]
        },
        {
         "jitter": 0.05,
         "legendgroup": "Fixed",
         "line": {
          "color": "lightseagreen"
         },
         "meanline": {
          "visible": true
         },
         "name": "Fixed",
         "pointpos": -1.07,
         "points": "all",
         "scalegroup": "Fixed",
         "scalemode": "count",
         "showlegend": false,
         "side": "negative",
         "type": "violin",
         "x": [
          "Block2\n(L)",
          "Block2\n(L)",
          "Block2\n(L)",
          "Block2\n(L)",
          "Block2\n(L)",
          "Block2\n(L)",
          "Block2\n(L)",
          "Block2\n(L)",
          "Block2\n(L)",
          "Block2\n(L)",
          "Block2\n(L)",
          "Block2\n(L)",
          "Block2\n(L)",
          "Block2\n(L)",
          "Block2\n(L)",
          "Block2\n(L)",
          "Block2\n(L)",
          "Block2\n(L)",
          "Block2\n(L)",
          "Block2\n(L)",
          "Block2\n(L)"
         ],
         "y": [
          1.0151129424598637,
          1.1002816294851692,
          0.7926822166153286,
          0.9521769199118573,
          1.046934504489092,
          1.0198996122682333,
          0.9297495748984232,
          0.9786419496839535,
          1.044938201839475,
          1.1222914446539334,
          1.066523370783906,
          0.9406391799092614,
          1.021508477504441,
          0.936088779342966,
          0.8842586858323159,
          1.0541545833776451,
          0.727639838482002,
          0.9963532072682012,
          0.8953387105071623,
          1.0389731743763417,
          1.1152316413573873
         ]
        },
        {
         "jitter": 0.05,
         "legendgroup": "Individualised",
         "line": {
          "color": "mediumpurple"
         },
         "meanline": {
          "visible": true
         },
         "name": "Individualised",
         "pointpos": 1.1,
         "points": "all",
         "scalegroup": "Individualised",
         "scalemode": "count",
         "showlegend": false,
         "side": "positive",
         "type": "violin",
         "x": [
          "Block2\n(L)",
          "Block2\n(L)",
          "Block2\n(L)",
          "Block2\n(L)",
          "Block2\n(L)",
          "Block2\n(L)",
          "Block2\n(L)",
          "Block2\n(L)",
          "Block2\n(L)",
          "Block2\n(L)",
          "Block2\n(L)",
          "Block2\n(L)",
          "Block2\n(L)",
          "Block2\n(L)",
          "Block2\n(L)",
          "Block2\n(L)",
          "Block2\n(L)",
          "Block2\n(L)",
          "Block2\n(L)",
          "Block2\n(L)",
          "Block2\n(L)"
         ],
         "y": [
          1.0110135130170252,
          1.0446114481042579,
          1.1120223053529643,
          0.9806351255941798,
          0.9521343083311404,
          1.051090945388878,
          0.8385495960540701,
          0.9832746728177354,
          1.110633694749356,
          0.9552656950829292,
          0.8286809378271047,
          1.109883348198961,
          0.9438760940974467,
          1.0150473180126753,
          1.089658276785349,
          0.9863124055282833,
          1.0246021437388424,
          0.9153263846853066,
          0.8991724644792028,
          1.047160723720261,
          0.9318661687867227
         ]
        },
        {
         "jitter": 0.05,
         "legendgroup": "Fixed",
         "line": {
          "color": "lightseagreen"
         },
         "meanline": {
          "visible": true
         },
         "name": "Fixed",
         "pointpos": -1.07,
         "points": "all",
         "scalegroup": "Fixed",
         "scalemode": "count",
         "showlegend": false,
         "side": "negative",
         "type": "violin",
         "x": [
          "Block3\n(L)",
          "Block3\n(L)",
          "Block3\n(L)",
          "Block3\n(L)",
          "Block3\n(L)",
          "Block3\n(L)",
          "Block3\n(L)",
          "Block3\n(L)",
          "Block3\n(L)",
          "Block3\n(L)",
          "Block3\n(L)",
          "Block3\n(L)",
          "Block3\n(L)",
          "Block3\n(L)",
          "Block3\n(L)",
          "Block3\n(L)",
          "Block3\n(L)",
          "Block3\n(L)",
          "Block3\n(L)",
          "Block3\n(L)",
          "Block3\n(L)"
         ],
         "y": [
          0.9907520283146722,
          1.1264621857842196,
          0.6591479150397443,
          0.9870968096434385,
          1.0988766286053255,
          0.9747983298988625,
          1.0580476540830321,
          0.7536354296221435,
          1.090116350684144,
          0.998621696403785,
          0.9068246366888474,
          0.9284812211764416,
          1.005529662396368,
          1.0160581750944775,
          0.8397389717675144,
          1.0414121153686933,
          0.7180160457208455,
          0.8565767243217305,
          0.8667523256119535,
          1.0261669038744257,
          1.0926428409648983
         ]
        },
        {
         "jitter": 0.05,
         "legendgroup": "Individualised",
         "line": {
          "color": "mediumpurple"
         },
         "meanline": {
          "visible": true
         },
         "name": "Individualised",
         "pointpos": 1.1,
         "points": "all",
         "scalegroup": "Individualised",
         "scalemode": "count",
         "showlegend": false,
         "side": "positive",
         "type": "violin",
         "x": [
          "Block3\n(L)",
          "Block3\n(L)",
          "Block3\n(L)",
          "Block3\n(L)",
          "Block3\n(L)",
          "Block3\n(L)",
          "Block3\n(L)",
          "Block3\n(L)",
          "Block3\n(L)",
          "Block3\n(L)",
          "Block3\n(L)",
          "Block3\n(L)",
          "Block3\n(L)",
          "Block3\n(L)",
          "Block3\n(L)",
          "Block3\n(L)",
          "Block3\n(L)",
          "Block3\n(L)",
          "Block3\n(L)",
          "Block3\n(L)",
          "Block3\n(L)"
         ],
         "y": [
          1.0044638330234916,
          1.034961633453152,
          1.1276309040384642,
          1.0367740059880466,
          0.9344092761850684,
          1.110380662428827,
          0.797284199090331,
          0.9548784720700492,
          1.0938040204869954,
          0.9389661711639243,
          0.8640624227795074,
          1.1614290401891305,
          0.9253947396471149,
          1.0942683303538407,
          1.0716576598142988,
          0.9637077526797713,
          1.08471465557509,
          0.8908186202854478,
          0.907967741554128,
          0.9694038530575185,
          0.9508447431838077
         ]
        },
        {
         "jitter": 0.05,
         "legendgroup": "Fixed",
         "line": {
          "color": "lightseagreen"
         },
         "meanline": {
          "visible": true
         },
         "name": "Fixed",
         "pointpos": -1.07,
         "points": "all",
         "scalegroup": "Fixed",
         "scalemode": "count",
         "showlegend": false,
         "side": "negative",
         "type": "violin",
         "x": [
          "Block4\n(L)",
          "Block4\n(L)",
          "Block4\n(L)",
          "Block4\n(L)",
          "Block4\n(L)",
          "Block4\n(L)",
          "Block4\n(L)",
          "Block4\n(L)",
          "Block4\n(L)",
          "Block4\n(L)",
          "Block4\n(L)",
          "Block4\n(L)",
          "Block4\n(L)",
          "Block4\n(L)",
          "Block4\n(L)",
          "Block4\n(L)",
          "Block4\n(L)",
          "Block4\n(L)",
          "Block4\n(L)",
          "Block4\n(L)",
          "Block4\n(L)"
         ],
         "y": [
          0.9077615028165791,
          0.9921195921195921,
          0.6298806583659626,
          0.9712764320331071,
          1.087935111471499,
          0.9151420886817713,
          1.0972542912885501,
          0.7190485694758121,
          1.0834534576553885,
          0.9723845436198908,
          0.5254244605460368,
          0.8752402450886693,
          0.9994978949450651,
          0.9932869583815568,
          0.7994547499024428,
          1.0071282178050835,
          0.6999258973653196,
          0.7639592083132258,
          0.9492177442776522,
          1.0116269221141307,
          1.0959309688804435
         ]
        },
        {
         "jitter": 0.05,
         "legendgroup": "Individualised",
         "line": {
          "color": "mediumpurple"
         },
         "meanline": {
          "visible": true
         },
         "name": "Individualised",
         "pointpos": 1.1,
         "points": "all",
         "scalegroup": "Individualised",
         "scalemode": "count",
         "showlegend": false,
         "side": "positive",
         "type": "violin",
         "x": [
          "Block4\n(L)",
          "Block4\n(L)",
          "Block4\n(L)",
          "Block4\n(L)",
          "Block4\n(L)",
          "Block4\n(L)",
          "Block4\n(L)",
          "Block4\n(L)",
          "Block4\n(L)",
          "Block4\n(L)",
          "Block4\n(L)",
          "Block4\n(L)",
          "Block4\n(L)",
          "Block4\n(L)",
          "Block4\n(L)",
          "Block4\n(L)",
          "Block4\n(L)",
          "Block4\n(L)",
          "Block4\n(L)",
          "Block4\n(L)",
          "Block4\n(L)"
         ],
         "y": [
          1.0105904274669653,
          1.0444019429497913,
          1.1338013447197646,
          1.1167499178814548,
          0.8962685554321259,
          1.139059714067242,
          0.8078761086675728,
          1.0883143251570155,
          1.0979157288481318,
          0.9178241985636488,
          0.8283926300920424,
          1.1920426153807469,
          0.6865662271641281,
          1.1745734932909309,
          1.1046981346481406,
          0.9464908108041806,
          1.0661439763510003,
          0.898295954911055,
          0.9360942773966835,
          1.0510311225390816,
          0.9173152360677351
         ]
        },
        {
         "jitter": 0.05,
         "legendgroup": "Fixed",
         "line": {
          "color": "lightseagreen"
         },
         "meanline": {
          "visible": true
         },
         "name": "Fixed",
         "pointpos": -1.07,
         "points": "all",
         "scalegroup": "Fixed",
         "scalemode": "count",
         "showlegend": false,
         "side": "negative",
         "type": "violin",
         "x": [
          "Block5\n(L)",
          "Block5\n(L)",
          "Block5\n(L)",
          "Block5\n(L)",
          "Block5\n(L)",
          "Block5\n(L)",
          "Block5\n(L)",
          "Block5\n(L)",
          "Block5\n(L)",
          "Block5\n(L)",
          "Block5\n(L)",
          "Block5\n(L)",
          "Block5\n(L)",
          "Block5\n(L)",
          "Block5\n(L)",
          "Block5\n(L)",
          "Block5\n(L)",
          "Block5\n(L)",
          "Block5\n(L)",
          "Block5\n(L)",
          "Block5\n(L)"
         ],
         "y": [
          0.9322352409009912,
          1.0015686015686016,
          0.577639751552795,
          0.9568704486427162,
          1.1256663886051603,
          0.9296374585106125,
          1.108496452479397,
          0.6742569615908799,
          1.0447989176578238,
          0.9825672905749627,
          0.7607998656469069,
          0.9475380484985049,
          0.9830709820393032,
          0.9505317926200798,
          0.7769853400152767,
          0.9637108605354248,
          0.7666515632709895,
          0.8138630108900204,
          0.8630937884515563,
          1.0390073667501254,
          1.0640584345888384
         ]
        },
        {
         "jitter": 0.05,
         "legendgroup": "Individualised",
         "line": {
          "color": "mediumpurple"
         },
         "meanline": {
          "visible": true
         },
         "name": "Individualised",
         "pointpos": 1.1,
         "points": "all",
         "scalegroup": "Individualised",
         "scalemode": "count",
         "showlegend": false,
         "side": "positive",
         "type": "violin",
         "x": [
          "Block5\n(L)",
          "Block5\n(L)",
          "Block5\n(L)",
          "Block5\n(L)",
          "Block5\n(L)",
          "Block5\n(L)",
          "Block5\n(L)",
          "Block5\n(L)",
          "Block5\n(L)",
          "Block5\n(L)",
          "Block5\n(L)",
          "Block5\n(L)",
          "Block5\n(L)",
          "Block5\n(L)",
          "Block5\n(L)",
          "Block5\n(L)",
          "Block5\n(L)",
          "Block5\n(L)",
          "Block5\n(L)",
          "Block5\n(L)",
          "Block5\n(L)"
         ],
         "y": [
          0.8606841010794248,
          1.155547298178227,
          1.1583842289619306,
          1.1139168071895318,
          0.9049707745232354,
          1.0919098470202027,
          0.7302115101649522,
          1.1697324157765543,
          1.087797222352898,
          0.9204487331061845,
          0.7835360132377478,
          1.1070307084150661,
          0.7500200656097752,
          1.1268860235494775,
          1.1048045340329804,
          0.9406375016927813,
          1.0580651982220304,
          0.8940449962456778,
          0.9171566232897259,
          1.010919024153473,
          0.9382673597227776
         ]
        },
        {
         "jitter": 0.05,
         "legendgroup": "Fixed",
         "line": {
          "color": "lightseagreen"
         },
         "meanline": {
          "visible": true
         },
         "name": "Fixed",
         "pointpos": -1.07,
         "points": "all",
         "scalegroup": "Fixed",
         "scalemode": "count",
         "showlegend": false,
         "side": "negative",
         "type": "violin",
         "x": [
          "Block6\n(R)",
          "Block6\n(R)",
          "Block6\n(R)",
          "Block6\n(R)",
          "Block6\n(R)",
          "Block6\n(R)",
          "Block6\n(R)",
          "Block6\n(R)",
          "Block6\n(R)",
          "Block6\n(R)",
          "Block6\n(R)",
          "Block6\n(R)",
          "Block6\n(R)",
          "Block6\n(R)",
          "Block6\n(R)",
          "Block6\n(R)",
          "Block6\n(R)",
          "Block6\n(R)",
          "Block6\n(R)",
          "Block6\n(R)",
          "Block6\n(R)"
         ],
         "y": [
          0.9906937521626691,
          1.1088008432836018,
          1.119857135886626,
          1.0017184116249038,
          1.0642135828132582,
          0.9249420502727755,
          1.1247265103260378,
          1.0292591745895137,
          0.9992205039394557,
          1.0148860757517204,
          0.9920296506291463,
          0.9842608401443557,
          1.0549009432045193,
          1.071209101167403,
          0.8556380611276896,
          0.9875870246814193,
          0.9237556616318913,
          0.8992236022251503,
          0.9971270643679575,
          1.00766810634738,
          1.0284386326787316
         ]
        },
        {
         "jitter": 0.05,
         "legendgroup": "Individualised",
         "line": {
          "color": "mediumpurple"
         },
         "meanline": {
          "visible": true
         },
         "name": "Individualised",
         "pointpos": 1.1,
         "points": "all",
         "scalegroup": "Individualised",
         "scalemode": "count",
         "showlegend": false,
         "side": "positive",
         "type": "violin",
         "x": [
          "Block6\n(R)",
          "Block6\n(R)",
          "Block6\n(R)",
          "Block6\n(R)",
          "Block6\n(R)",
          "Block6\n(R)",
          "Block6\n(R)",
          "Block6\n(R)",
          "Block6\n(R)",
          "Block6\n(R)",
          "Block6\n(R)",
          "Block6\n(R)",
          "Block6\n(R)",
          "Block6\n(R)",
          "Block6\n(R)",
          "Block6\n(R)",
          "Block6\n(R)",
          "Block6\n(R)",
          "Block6\n(R)",
          "Block6\n(R)",
          "Block6\n(R)"
         ],
         "y": [
          1.0473842430913776,
          1.0150622978371766,
          1.1561400856189497,
          1.0425959276752712,
          1.0609838369176123,
          1.0739003824031526,
          0.9439199540616702,
          1.087973869628689,
          1.075015505438425,
          1.0583205335218198,
          0.8052484513235793,
          1.1319040950425248,
          1.154879943720288,
          1.1722071999308668,
          1.1526384883666914,
          0.9543832810950603,
          1.0214480704365196,
          0.9730299694138759,
          0.9401049584526184,
          0.9784518008558567,
          1.0286690557421891
         ]
        },
        {
         "jitter": 0.05,
         "legendgroup": "Fixed",
         "line": {
          "color": "lightseagreen"
         },
         "meanline": {
          "visible": true
         },
         "name": "Fixed",
         "pointpos": -1.07,
         "points": "all",
         "scalegroup": "Fixed",
         "scalemode": "count",
         "showlegend": false,
         "side": "negative",
         "type": "violin",
         "x": [
          "Block7\n(L)",
          "Block7\n(L)",
          "Block7\n(L)",
          "Block7\n(L)",
          "Block7\n(L)",
          "Block7\n(L)",
          "Block7\n(L)",
          "Block7\n(L)",
          "Block7\n(L)",
          "Block7\n(L)",
          "Block7\n(L)",
          "Block7\n(L)",
          "Block7\n(L)",
          "Block7\n(L)",
          "Block7\n(L)",
          "Block7\n(L)",
          "Block7\n(L)",
          "Block7\n(L)",
          "Block7\n(L)",
          "Block7\n(L)",
          "Block7\n(L)"
         ],
         "y": [
          0.9581592358753435,
          1.0100050979361324,
          0.7097191264008772,
          0.9097371143240414,
          1.060373423076112,
          0.8682500564075017,
          0.9688829644765852,
          0.7514043802505469,
          0.9582387147717197,
          1.0369663234016522,
          0.6601391780887302,
          0.8372773947489982,
          1.0253113624263128,
          0.9753693710368665,
          0.7703888906878238,
          0.9753681549009293,
          0.7962446227182886,
          0.5720595889606447,
          1.0035285805787038,
          1.0305748241612966,
          1.0360038049342901
         ]
        },
        {
         "jitter": 0.05,
         "legendgroup": "Individualised",
         "line": {
          "color": "mediumpurple"
         },
         "meanline": {
          "visible": true
         },
         "name": "Individualised",
         "pointpos": 1.1,
         "points": "all",
         "scalegroup": "Individualised",
         "scalemode": "count",
         "showlegend": false,
         "side": "positive",
         "type": "violin",
         "x": [
          "Block7\n(L)",
          "Block7\n(L)",
          "Block7\n(L)",
          "Block7\n(L)",
          "Block7\n(L)",
          "Block7\n(L)",
          "Block7\n(L)",
          "Block7\n(L)",
          "Block7\n(L)",
          "Block7\n(L)",
          "Block7\n(L)",
          "Block7\n(L)",
          "Block7\n(L)",
          "Block7\n(L)",
          "Block7\n(L)",
          "Block7\n(L)",
          "Block7\n(L)",
          "Block7\n(L)",
          "Block7\n(L)",
          "Block7\n(L)",
          "Block7\n(L)"
         ],
         "y": [
          0.6912770729555461,
          1.037476963609711,
          1.1850233850948313,
          1.1110461079050549,
          0.8415117832941615,
          1.0144259866306344,
          0.7006429135545046,
          1.1579481955106503,
          1.0984625046016587,
          0.8259835352225927,
          0.7511348672343412,
          1.094165350454589,
          0.6561741927530705,
          1.350400951522239,
          1.1083158622538636,
          0.9476853064641393,
          1.0657908582733149,
          0.9055480537779604,
          0.9321083121561846,
          1.0286637262164469,
          0.9752734581842938
         ]
        },
        {
         "jitter": 0.05,
         "legendgroup": "Fixed",
         "line": {
          "color": "lightseagreen"
         },
         "meanline": {
          "visible": true
         },
         "name": "Fixed",
         "pointpos": -1.07,
         "points": "all",
         "scalegroup": "Fixed",
         "scalemode": "count",
         "showlegend": false,
         "side": "negative",
         "type": "violin",
         "x": [
          "Block8\n(L)",
          "Block8\n(L)",
          "Block8\n(L)",
          "Block8\n(L)",
          "Block8\n(L)",
          "Block8\n(L)",
          "Block8\n(L)",
          "Block8\n(L)",
          "Block8\n(L)",
          "Block8\n(L)",
          "Block8\n(L)",
          "Block8\n(L)",
          "Block8\n(L)",
          "Block8\n(L)",
          "Block8\n(L)",
          "Block8\n(L)",
          "Block8\n(L)",
          "Block8\n(L)",
          "Block8\n(L)",
          "Block8\n(L)",
          "Block8\n(L)"
         ],
         "y": [
          0.873459392037344,
          0.9735752701854397,
          0.7167587738856902,
          0.991812443277364,
          1.1290625791337434,
          0.8124936518033519,
          0.913093269203724,
          0.650257237434859,
          1.0415270181620353,
          0.9785265513169716,
          0.5798860589474396,
          0.8558603071183154,
          1.0222080410577725,
          0.9581155759183401,
          0.7600741940948798,
          0.9382439040862389,
          0.6796801228366144,
          0.46851178233383967,
          1.051661126690284,
          1.0699527808141087,
          0.9757086424446768
         ]
        },
        {
         "jitter": 0.05,
         "legendgroup": "Individualised",
         "line": {
          "color": "mediumpurple"
         },
         "meanline": {
          "visible": true
         },
         "name": "Individualised",
         "pointpos": 1.1,
         "points": "all",
         "scalegroup": "Individualised",
         "scalemode": "count",
         "showlegend": false,
         "side": "positive",
         "type": "violin",
         "x": [
          "Block8\n(L)",
          "Block8\n(L)",
          "Block8\n(L)",
          "Block8\n(L)",
          "Block8\n(L)",
          "Block8\n(L)",
          "Block8\n(L)",
          "Block8\n(L)",
          "Block8\n(L)",
          "Block8\n(L)",
          "Block8\n(L)",
          "Block8\n(L)",
          "Block8\n(L)",
          "Block8\n(L)",
          "Block8\n(L)",
          "Block8\n(L)",
          "Block8\n(L)",
          "Block8\n(L)",
          "Block8\n(L)",
          "Block8\n(L)",
          "Block8\n(L)"
         ],
         "y": [
          0.5897092528515814,
          1.0465835787655087,
          1.0666485823377163,
          1.079077327352838,
          0.9024476743487096,
          0.9013663081135086,
          0.6875712752506605,
          1.05919652817147,
          1.021039644504856,
          0.6671756072777468,
          0.7231443349002316,
          1.0454962216742218,
          0.6442411891220982,
          1.227889495878807,
          1.0960494664270084,
          0.8768432920221512,
          1.171694990352875,
          0.8330828391945048,
          0.9032836309879236,
          0.9378886525352887,
          0.9300434008214896
         ]
        }
       ],
       "layout": {
        "autosize": false,
        "font": {
         "size": 20
        },
        "height": 650,
        "plot_bgcolor": "#f0f9ff",
        "template": {
         "data": {
          "bar": [
           {
            "error_x": {
             "color": "#2a3f5f"
            },
            "error_y": {
             "color": "#2a3f5f"
            },
            "marker": {
             "line": {
              "color": "#E5ECF6",
              "width": 0.5
             },
             "pattern": {
              "fillmode": "overlay",
              "size": 10,
              "solidity": 0.2
             }
            },
            "type": "bar"
           }
          ],
          "barpolar": [
           {
            "marker": {
             "line": {
              "color": "#E5ECF6",
              "width": 0.5
             },
             "pattern": {
              "fillmode": "overlay",
              "size": 10,
              "solidity": 0.2
             }
            },
            "type": "barpolar"
           }
          ],
          "carpet": [
           {
            "aaxis": {
             "endlinecolor": "#2a3f5f",
             "gridcolor": "white",
             "linecolor": "white",
             "minorgridcolor": "white",
             "startlinecolor": "#2a3f5f"
            },
            "baxis": {
             "endlinecolor": "#2a3f5f",
             "gridcolor": "white",
             "linecolor": "white",
             "minorgridcolor": "white",
             "startlinecolor": "#2a3f5f"
            },
            "type": "carpet"
           }
          ],
          "choropleth": [
           {
            "colorbar": {
             "outlinewidth": 0,
             "ticks": ""
            },
            "type": "choropleth"
           }
          ],
          "contour": [
           {
            "colorbar": {
             "outlinewidth": 0,
             "ticks": ""
            },
            "colorscale": [
             [
              0,
              "#0d0887"
             ],
             [
              0.1111111111111111,
              "#46039f"
             ],
             [
              0.2222222222222222,
              "#7201a8"
             ],
             [
              0.3333333333333333,
              "#9c179e"
             ],
             [
              0.4444444444444444,
              "#bd3786"
             ],
             [
              0.5555555555555556,
              "#d8576b"
             ],
             [
              0.6666666666666666,
              "#ed7953"
             ],
             [
              0.7777777777777778,
              "#fb9f3a"
             ],
             [
              0.8888888888888888,
              "#fdca26"
             ],
             [
              1,
              "#f0f921"
             ]
            ],
            "type": "contour"
           }
          ],
          "contourcarpet": [
           {
            "colorbar": {
             "outlinewidth": 0,
             "ticks": ""
            },
            "type": "contourcarpet"
           }
          ],
          "heatmap": [
           {
            "colorbar": {
             "outlinewidth": 0,
             "ticks": ""
            },
            "colorscale": [
             [
              0,
              "#0d0887"
             ],
             [
              0.1111111111111111,
              "#46039f"
             ],
             [
              0.2222222222222222,
              "#7201a8"
             ],
             [
              0.3333333333333333,
              "#9c179e"
             ],
             [
              0.4444444444444444,
              "#bd3786"
             ],
             [
              0.5555555555555556,
              "#d8576b"
             ],
             [
              0.6666666666666666,
              "#ed7953"
             ],
             [
              0.7777777777777778,
              "#fb9f3a"
             ],
             [
              0.8888888888888888,
              "#fdca26"
             ],
             [
              1,
              "#f0f921"
             ]
            ],
            "type": "heatmap"
           }
          ],
          "heatmapgl": [
           {
            "colorbar": {
             "outlinewidth": 0,
             "ticks": ""
            },
            "colorscale": [
             [
              0,
              "#0d0887"
             ],
             [
              0.1111111111111111,
              "#46039f"
             ],
             [
              0.2222222222222222,
              "#7201a8"
             ],
             [
              0.3333333333333333,
              "#9c179e"
             ],
             [
              0.4444444444444444,
              "#bd3786"
             ],
             [
              0.5555555555555556,
              "#d8576b"
             ],
             [
              0.6666666666666666,
              "#ed7953"
             ],
             [
              0.7777777777777778,
              "#fb9f3a"
             ],
             [
              0.8888888888888888,
              "#fdca26"
             ],
             [
              1,
              "#f0f921"
             ]
            ],
            "type": "heatmapgl"
           }
          ],
          "histogram": [
           {
            "marker": {
             "pattern": {
              "fillmode": "overlay",
              "size": 10,
              "solidity": 0.2
             }
            },
            "type": "histogram"
           }
          ],
          "histogram2d": [
           {
            "colorbar": {
             "outlinewidth": 0,
             "ticks": ""
            },
            "colorscale": [
             [
              0,
              "#0d0887"
             ],
             [
              0.1111111111111111,
              "#46039f"
             ],
             [
              0.2222222222222222,
              "#7201a8"
             ],
             [
              0.3333333333333333,
              "#9c179e"
             ],
             [
              0.4444444444444444,
              "#bd3786"
             ],
             [
              0.5555555555555556,
              "#d8576b"
             ],
             [
              0.6666666666666666,
              "#ed7953"
             ],
             [
              0.7777777777777778,
              "#fb9f3a"
             ],
             [
              0.8888888888888888,
              "#fdca26"
             ],
             [
              1,
              "#f0f921"
             ]
            ],
            "type": "histogram2d"
           }
          ],
          "histogram2dcontour": [
           {
            "colorbar": {
             "outlinewidth": 0,
             "ticks": ""
            },
            "colorscale": [
             [
              0,
              "#0d0887"
             ],
             [
              0.1111111111111111,
              "#46039f"
             ],
             [
              0.2222222222222222,
              "#7201a8"
             ],
             [
              0.3333333333333333,
              "#9c179e"
             ],
             [
              0.4444444444444444,
              "#bd3786"
             ],
             [
              0.5555555555555556,
              "#d8576b"
             ],
             [
              0.6666666666666666,
              "#ed7953"
             ],
             [
              0.7777777777777778,
              "#fb9f3a"
             ],
             [
              0.8888888888888888,
              "#fdca26"
             ],
             [
              1,
              "#f0f921"
             ]
            ],
            "type": "histogram2dcontour"
           }
          ],
          "mesh3d": [
           {
            "colorbar": {
             "outlinewidth": 0,
             "ticks": ""
            },
            "type": "mesh3d"
           }
          ],
          "parcoords": [
           {
            "line": {
             "colorbar": {
              "outlinewidth": 0,
              "ticks": ""
             }
            },
            "type": "parcoords"
           }
          ],
          "pie": [
           {
            "automargin": true,
            "type": "pie"
           }
          ],
          "scatter": [
           {
            "marker": {
             "colorbar": {
              "outlinewidth": 0,
              "ticks": ""
             }
            },
            "type": "scatter"
           }
          ],
          "scatter3d": [
           {
            "line": {
             "colorbar": {
              "outlinewidth": 0,
              "ticks": ""
             }
            },
            "marker": {
             "colorbar": {
              "outlinewidth": 0,
              "ticks": ""
             }
            },
            "type": "scatter3d"
           }
          ],
          "scattercarpet": [
           {
            "marker": {
             "colorbar": {
              "outlinewidth": 0,
              "ticks": ""
             }
            },
            "type": "scattercarpet"
           }
          ],
          "scattergeo": [
           {
            "marker": {
             "colorbar": {
              "outlinewidth": 0,
              "ticks": ""
             }
            },
            "type": "scattergeo"
           }
          ],
          "scattergl": [
           {
            "marker": {
             "colorbar": {
              "outlinewidth": 0,
              "ticks": ""
             }
            },
            "type": "scattergl"
           }
          ],
          "scattermapbox": [
           {
            "marker": {
             "colorbar": {
              "outlinewidth": 0,
              "ticks": ""
             }
            },
            "type": "scattermapbox"
           }
          ],
          "scatterpolar": [
           {
            "marker": {
             "colorbar": {
              "outlinewidth": 0,
              "ticks": ""
             }
            },
            "type": "scatterpolar"
           }
          ],
          "scatterpolargl": [
           {
            "marker": {
             "colorbar": {
              "outlinewidth": 0,
              "ticks": ""
             }
            },
            "type": "scatterpolargl"
           }
          ],
          "scatterternary": [
           {
            "marker": {
             "colorbar": {
              "outlinewidth": 0,
              "ticks": ""
             }
            },
            "type": "scatterternary"
           }
          ],
          "surface": [
           {
            "colorbar": {
             "outlinewidth": 0,
             "ticks": ""
            },
            "colorscale": [
             [
              0,
              "#0d0887"
             ],
             [
              0.1111111111111111,
              "#46039f"
             ],
             [
              0.2222222222222222,
              "#7201a8"
             ],
             [
              0.3333333333333333,
              "#9c179e"
             ],
             [
              0.4444444444444444,
              "#bd3786"
             ],
             [
              0.5555555555555556,
              "#d8576b"
             ],
             [
              0.6666666666666666,
              "#ed7953"
             ],
             [
              0.7777777777777778,
              "#fb9f3a"
             ],
             [
              0.8888888888888888,
              "#fdca26"
             ],
             [
              1,
              "#f0f921"
             ]
            ],
            "type": "surface"
           }
          ],
          "table": [
           {
            "cells": {
             "fill": {
              "color": "#EBF0F8"
             },
             "line": {
              "color": "white"
             }
            },
            "header": {
             "fill": {
              "color": "#C8D4E3"
             },
             "line": {
              "color": "white"
             }
            },
            "type": "table"
           }
          ]
         },
         "layout": {
          "annotationdefaults": {
           "arrowcolor": "#2a3f5f",
           "arrowhead": 0,
           "arrowwidth": 1
          },
          "autotypenumbers": "strict",
          "coloraxis": {
           "colorbar": {
            "outlinewidth": 0,
            "ticks": ""
           }
          },
          "colorscale": {
           "diverging": [
            [
             0,
             "#8e0152"
            ],
            [
             0.1,
             "#c51b7d"
            ],
            [
             0.2,
             "#de77ae"
            ],
            [
             0.3,
             "#f1b6da"
            ],
            [
             0.4,
             "#fde0ef"
            ],
            [
             0.5,
             "#f7f7f7"
            ],
            [
             0.6,
             "#e6f5d0"
            ],
            [
             0.7,
             "#b8e186"
            ],
            [
             0.8,
             "#7fbc41"
            ],
            [
             0.9,
             "#4d9221"
            ],
            [
             1,
             "#276419"
            ]
           ],
           "sequential": [
            [
             0,
             "#0d0887"
            ],
            [
             0.1111111111111111,
             "#46039f"
            ],
            [
             0.2222222222222222,
             "#7201a8"
            ],
            [
             0.3333333333333333,
             "#9c179e"
            ],
            [
             0.4444444444444444,
             "#bd3786"
            ],
            [
             0.5555555555555556,
             "#d8576b"
            ],
            [
             0.6666666666666666,
             "#ed7953"
            ],
            [
             0.7777777777777778,
             "#fb9f3a"
            ],
            [
             0.8888888888888888,
             "#fdca26"
            ],
            [
             1,
             "#f0f921"
            ]
           ],
           "sequentialminus": [
            [
             0,
             "#0d0887"
            ],
            [
             0.1111111111111111,
             "#46039f"
            ],
            [
             0.2222222222222222,
             "#7201a8"
            ],
            [
             0.3333333333333333,
             "#9c179e"
            ],
            [
             0.4444444444444444,
             "#bd3786"
            ],
            [
             0.5555555555555556,
             "#d8576b"
            ],
            [
             0.6666666666666666,
             "#ed7953"
            ],
            [
             0.7777777777777778,
             "#fb9f3a"
            ],
            [
             0.8888888888888888,
             "#fdca26"
            ],
            [
             1,
             "#f0f921"
            ]
           ]
          },
          "colorway": [
           "#636efa",
           "#EF553B",
           "#00cc96",
           "#ab63fa",
           "#FFA15A",
           "#19d3f3",
           "#FF6692",
           "#B6E880",
           "#FF97FF",
           "#FECB52"
          ],
          "font": {
           "color": "#2a3f5f"
          },
          "geo": {
           "bgcolor": "white",
           "lakecolor": "white",
           "landcolor": "#E5ECF6",
           "showlakes": true,
           "showland": true,
           "subunitcolor": "white"
          },
          "hoverlabel": {
           "align": "left"
          },
          "hovermode": "closest",
          "mapbox": {
           "style": "light"
          },
          "paper_bgcolor": "white",
          "plot_bgcolor": "#E5ECF6",
          "polar": {
           "angularaxis": {
            "gridcolor": "white",
            "linecolor": "white",
            "ticks": ""
           },
           "bgcolor": "#E5ECF6",
           "radialaxis": {
            "gridcolor": "white",
            "linecolor": "white",
            "ticks": ""
           }
          },
          "scene": {
           "xaxis": {
            "backgroundcolor": "#E5ECF6",
            "gridcolor": "white",
            "gridwidth": 2,
            "linecolor": "white",
            "showbackground": true,
            "ticks": "",
            "zerolinecolor": "white"
           },
           "yaxis": {
            "backgroundcolor": "#E5ECF6",
            "gridcolor": "white",
            "gridwidth": 2,
            "linecolor": "white",
            "showbackground": true,
            "ticks": "",
            "zerolinecolor": "white"
           },
           "zaxis": {
            "backgroundcolor": "#E5ECF6",
            "gridcolor": "white",
            "gridwidth": 2,
            "linecolor": "white",
            "showbackground": true,
            "ticks": "",
            "zerolinecolor": "white"
           }
          },
          "shapedefaults": {
           "line": {
            "color": "#2a3f5f"
           }
          },
          "ternary": {
           "aaxis": {
            "gridcolor": "white",
            "linecolor": "white",
            "ticks": ""
           },
           "baxis": {
            "gridcolor": "white",
            "linecolor": "white",
            "ticks": ""
           },
           "bgcolor": "#E5ECF6",
           "caxis": {
            "gridcolor": "white",
            "linecolor": "white",
            "ticks": ""
           }
          },
          "title": {
           "x": 0.05
          },
          "xaxis": {
           "automargin": true,
           "gridcolor": "white",
           "linecolor": "white",
           "ticks": "",
           "title": {
            "standoff": 15
           },
           "zerolinecolor": "white",
           "zerolinewidth": 2
          },
          "yaxis": {
           "automargin": true,
           "gridcolor": "white",
           "linecolor": "white",
           "ticks": "",
           "title": {
            "standoff": 15
           },
           "zerolinecolor": "white",
           "zerolinewidth": 2
          }
         }
        },
        "title": {
         "text": "Behavioural Performance"
        },
        "violingap": 0.3,
        "violingroupgap": 0,
        "violinmode": "overlay",
        "width": 1300,
        "yaxis": {
         "title": {
          "text": "Normalized RT"
         }
        }
       }
      }
     },
     "metadata": {},
     "output_type": "display_data"
    }
   ],
   "source": [
    "# Extract sub_list_ind and sub_list_fix\n",
    "aa = data_files_full[\"Fixed dose\"]\n",
    "bb = data_files_full[\"Individualised dose\"]\n",
    "sub_list_ind = []\n",
    "sub_list_ind = list(bb.T.index)\n",
    "sub_list_fix = list(aa.T.index)\n",
    "\n",
    "# Create long format data\n",
    "data_lf = pd.melt(aa, value_vars=sub_list_fix, var_name=\"sub\", value_name=\"RT\")\n",
    "data_lf[\"Blocks\"] = [\"Block1\\n(R)\", \"Block2\\n(L)\", \"Block3\\n(L)\", \"Block4\\n(L)\", \"Block5\\n(L)\", \"Block6\\n(R)\",\n",
    "                     \"Block7\\n(L)\", \"Block8\\n(L)\"] * 21\n",
    "data_lf[\"cond\"] = \"Fixed\"\n",
    "\n",
    "data_lf2 = pd.melt(bb, value_vars=sub_list_ind, var_name=\"sub\", value_name=\"RT\")\n",
    "data_lf2[\"Blocks\"] = [\"Block1\\n(R)\", \"Block2\\n(L)\", \"Block3\\n(L)\", \"Block4\\n(L)\", \"Block5\\n(L)\", \"Block6\\n(R)\",\n",
    "                      \"Block7\\n(L)\", \"Block8\\n(L)\"] * 21\n",
    "data_lf2[\"cond\"] = \"Individualised\"\n",
    "\n",
    "df_plot = pd.concat([data_lf, data_lf2])\n",
    "\n",
    "show_legend = [True, False, False, False, False, False, False, False]\n",
    "\n",
    "fig = go.Figure()\n",
    "blocks = pd.unique(df_plot['Blocks'])\n",
    "\n",
    "for i, block in enumerate(blocks):\n",
    "    fixed_cond = (df_plot['cond'] == 'Fixed') & (df_plot['Blocks'] == block)\n",
    "    indiv_cond = (df_plot['cond'] == 'Individualised') & (df_plot['Blocks'] == block)\n",
    "\n",
    "    fig.add_trace(go.Violin(x=df_plot['Blocks'][fixed_cond], y=df_plot['RT'][fixed_cond],\n",
    "                            legendgroup='Fixed', scalegroup='Fixed', name='Fixed',\n",
    "                            side='negative', pointpos=-1.07, line_color='lightseagreen',\n",
    "                            showlegend=show_legend[i]))\n",
    "\n",
    "    fig.add_trace(go.Violin(x=df_plot['Blocks'][indiv_cond], y=df_plot['RT'][indiv_cond],\n",
    "                            legendgroup='Individualised', scalegroup='Individualised', name='Individualised',\n",
    "                            side='positive', pointpos=1.1, line_color='mediumpurple',\n",
    "                            showlegend=show_legend[i]))\n",
    "\n",
    "# Update characteristics shared by all traces\n",
    "fig.update_traces(meanline_visible=True, points='all', jitter=0.05, scalemode='count')\n",
    "\n",
    "fig.update_layout(\n",
    "    title_text=\"Behavioural Performance\",\n",
    "    yaxis_title='Normalized RT',\n",
    "    violingap=0.3, violingroupgap=0, violinmode='overlay',\n",
    "    autosize=False, width=1300, height=650, font_size=20, plot_bgcolor='#f0f9ff'\n",
    ")\n",
    "# pio.write_image(fig, r\"/bimodal.jpg\", scale = 12)\n",
    "fig.show()"
   ]
  },
  {
   "attachments": {},
   "cell_type": "markdown",
   "metadata": {},
   "source": [
    "Bimodal distribution with sham"
   ]
  },
  {
   "cell_type": "code",
   "execution_count": 38,
   "metadata": {},
   "outputs": [],
   "source": [
    "# Define function to calculate lower and upper adjacent values based on quartiles\n",
    "def adjacent_values(vals, q1, q3):\n",
    "    upper_adjacent_value = q3 + (q3 - q1) * 1.5\n",
    "    upper_adjacent_value = np.clip(upper_adjacent_value, q3, vals[-1])\n",
    "\n",
    "    lower_adjacent_value = q1 - (q3 - q1) * 1.5\n",
    "    lower_adjacent_value = np.clip(lower_adjacent_value, vals[0], q1)\n",
    "    return lower_adjacent_value, upper_adjacent_value\n",
    "\n",
    "# Define function to set axis style\n",
    "def set_axis_style(ax, labels):\n",
    "    ax.get_xaxis().set_tick_params(direction='out')\n",
    "    ax.xaxis.set_ticks_position('bottom')\n",
    "    ax.set_xticks(np.arange(1, len(labels) + 1))\n",
    "    ax.set_xticklabels(labels, fontsize=18, fontname=\"sans\")\n",
    "    ax.set_xlim(0.25, len(labels) + 0.75)\n",
    "    ax.set_xlabel('Sample name')"
   ]
  },
  {
   "cell_type": "code",
   "execution_count": 42,
   "metadata": {},
   "outputs": [
    {
     "data": {
      "image/png": "[encoded data removed]",
      "text/plain": [
       "<Figure size 1584x2160 with 3 Axes>"
      ]
     },
     "metadata": {
      "needs_background": "light"
     },
     "output_type": "display_data"
    }
   ],
   "source": [
    "dataframes = [data_files_full['Sham'], data_files_full['Fixed dose'], data_files_full['Individualised dose']]\n",
    "fig, axes = plt.subplots(nrows=len(dataframes), ncols=1, figsize=(22, 30), tight_layout={'pad': 3})\n",
    "conditions = ['Sham', 'Fixed dose', 'Individualised dose']\n",
    "\n",
    "# Iterate over dataframes and plot each row as a violin plot\n",
    "for i, df in enumerate(dataframes):\n",
    "    ax = axes[i]\n",
    "    columns = df.columns\n",
    "    data = df.to_numpy().T\n",
    "    \n",
    "    parts = ax.violinplot(data, showmeans=False, showmedians=False, showextrema=True)\n",
    "    \n",
    "    # Set plot style and formatting\n",
    "    ax.spines.right.set_visible(False)\n",
    "    ax.spines.top.set_visible(False)\n",
    "    ax.spines.left.set_visible(False)\n",
    "    ax.spines.bottom.set_visible(False)\n",
    "    ax.grid(True, axis='y', color='w', linestyle='-', linewidth=2, which=\"major\", zorder=-1.0)\n",
    "    ax.patch.set_facecolor('#f0f9ff')\n",
    "    \n",
    "    for pc in parts['bodies']:\n",
    "        pc.set_facecolor('#cfe5f3')\n",
    "        pc.set_edgecolor('#1d78b6')\n",
    "        pc.set_alpha(0.7)\n",
    "    \n",
    "    ax.boxplot(data, widths=0.02, patch_artist=True, boxprops=dict(facecolor='black', edgecolor='black'),\n",
    "               showfliers=False)\n",
    "    \n",
    "    ax.set_xticks(np.arange(1, len(data.T) + 1))\n",
    "    ax.set_xticklabels([\"Block1\\n(R)\", \"Block2\\n(L)\", \"Block3\\n(L)\", \"Block4\\n(L)\", \n",
    "                        \"Block5\\n(L)\", \"Block6\\n(R)\", \"Block7\\n(L)\", \"Block8\\n(L)\"])\n",
    "    \n",
    "    ax.set_ylim(0.4, 1.4)\n",
    "    ax.set_ylabel('NormalisedRT', fontsize=30, fontname=\"sans-serif\")\n",
    "    ax.set_title(conditions[i], fontsize=40, fontname=\"sans-serif\")\n",
    "    \n",
    "    # Set font sizes\n",
    "    plt.rc('xtick', labelsize=25)\n",
    "    plt.rc('ytick', labelsize=22)\n",
    "    plt.rc('axes', titlesize=35)\n",
    "    plt.rc('axes', labelsize=35)\n",
    "\n",
    "    # Calculate quartiles and whiskers\n",
    "    quartile1, medians, quartile3 = np.percentile(data, [25, 50, 75], axis=1)\n",
    "    whiskers = np.array([adjacent_values(sorted_array, q1, q3)\n",
    "                         for sorted_array, q1, q3 in zip(data, quartile1, quartile3)])\n",
    "    whiskers_min, whiskers_max = whiskers[:, 0], whiskers[:, 0]\n",
    "\n",
    "\n",
    "\n",
    "# plt.savefig(\"/bimodal_sham.jpg\", format=\"jpg\", dpi=500)\n",
    "plt.show()\n"
   ]
  }
 ],
 "metadata": {
  "kernelspec": {
   "display_name": "base",
   "language": "python",
   "name": "python3"
  },
  "language_info": {
   "codemirror_mode": {
    "name": "ipython",
    "version": 3
   },
   "file_extension": ".py",
   "mimetype": "text/x-python",
   "name": "python",
   "nbconvert_exporter": "python",
   "pygments_lexer": "ipython3",
   "version": "3.9.12"
  },
  "orig_nbformat": 4,
  "vscode": {
   "interpreter": {
    "hash": "46a609785b0e23c8ca00ec6d45903a2d9b87cdc5c6159144bba0d5fc4116e711"
   }
  }
 },
 "nbformat": 4,
 "nbformat_minor": 2
}
