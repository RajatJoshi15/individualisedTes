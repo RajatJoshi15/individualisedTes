{
 "cells": [
  {
   "attachments": {},
   "cell_type": "markdown",
   "metadata": {},
   "source": [
    "Libraries"
   ]
  },
  {
   "cell_type": "code",
   "execution_count": null,
   "metadata": {},
   "outputs": [],
   "source": [
    "import os\n",
    "import pandas as pd\n",
    "import numpy as np\n",
    "import matplotlib.pyplot as plt\n",
    "from scipy.stats import shapiro\n",
    "from scipy.stats import levene\n",
    "import statistics\n",
    "import pingouin as pg\n",
    "from scipy.stats import friedmanchisquare\n",
    "import plotly.graph_objects as go\n",
    "import plotly.express as px"
   ]
  },
  {
   "cell_type": "code",
   "execution_count": null,
   "metadata": {},
   "outputs": [],
   "source": [
    "filepath = \"/home/friction_15/lab/dissertation/experiment/n_back_separate/\" #path to the logfile; every tACS conditions\n",
    "filepaths = os.listdir(filepath)\n",
    "trials = range(0, 200)\n",
    "order = [1, 2, 0]\n",
    "filepaths = [filepaths[i] for i in order]\n",
    "# outlier = []\n",
    "outlier = ['SUBF4P4052']\n",
    "rt_all = []\n",
    "accuracy_all = []\n",
    "hit_length = {k:[] for k in filepaths}\n",
    "acc_dict = {k:[] for k in filepaths}\n",
    "dprime_dict = dict()\n",
    "hit_rate_dict =dict()\n",
    "fa_rate_dict = dict()\n",
    "timeDurationDf = pd.DataFrame()\n",
    "for file in filepaths:\n",
    "    # print(file)\n",
    "    files = os.listdir(filepath + file + \"/\")\n",
    "    sub_df = pd.DataFrame(index = trials)\n",
    "    rt_cond = []\n",
    "    subject_name = []\n",
    "    accuracy_cond = []\n",
    "    timeDuration = []\n",
    "    files_except_outliers = [i for i in files if i[:10] not in outlier]\n",
    "    dprime_df = pd.DataFrame(index = ['dprime'])\n",
    "    # print(file)\n",
    "    fa_rate_df = pd.DataFrame(index = ['falserate'])\n",
    "    hit_rate_df = pd.DataFrame(index = ['hitrate'])\n",
    "    for i in files_except_outliers:\n",
    "        filename = \"sub_\" + i[8:10]\n",
    "        df = pd.read_csv(filepath + file +'/' + i, skiprows=3 , delimiter = \"\\t\")\n",
    "        df1 = df.drop(df.dropna(subset=['Time']).index).reset_index()\n",
    "        df1.dropna(axis = 1, how = 'all', inplace = True)\n",
    "        df1.columns = df1.iloc[0]\n",
    "        df1.drop(index = 0, inplace = True)\n",
    "        df2 = df1.drop(df1.iloc[:, [0,1]], axis = 1)\n",
    "        \n",
    "        df2[\"RT\"] = df2[\"RT\"].astype(float)/10 # convert string to float and dividing it by 10\n",
    "        df2 = df2[df2[\"Code\"].str.len()>5]\n",
    "        df2[[\"TRIAL TYPE\", \"BLOCK\", \"STIM\", \"BACK\", \"TRIAL NUMBER\", \"STIM NAME\", \"STIM IDX\", \"tCOND\", \"tRESP\"]] = df2[\"Code\"].str.split(';',expand=True)\n",
    "        df2 = df2.drop(df2.iloc[:, [0]], axis = 1)\n",
    "        \n",
    "        # removing practice trials - block == 1\n",
    "        df2[\"BLOCK\"] = df2[\"BLOCK\"].astype(float)\n",
    "        df2 = df2[df2['BLOCK'] == 1]\n",
    "        cols = [\"BLOCK\", \"TRIAL NUMBER\", \"tCOND\", \"tRESP\"]\n",
    "        for col in cols:\n",
    "            temp = df2[col] # strip removes white spaces\n",
    "            df2.drop(labels=[col], axis=1, inplace= True)\n",
    "            df2.insert(1, col, temp)\n",
    "\n",
    "        time = df2[\"Time\"].tolist()\n",
    "        timeDuration.append(int(time[-1])/60/10000)\n",
    "        # # reaction time \n",
    "        df_rt = df2[df2[\"tRESP\"] == \"Hit\"]\n",
    "        df_miss = df2[df2['tRESP'] == \"Miss\"]\n",
    "        df_CR = df2[df2['tRESP'] == \"Correct Rejection\"]\n",
    "        df_fa = df2[df2['tRESP'] == \"False Alarm\"]\n",
    "        # print(df_rt[\"RT\"].mean())\n",
    "        rt_cond.append(df_rt[\"RT\"].mean())\n",
    "        subject_name.append(filename)\n",
    "\n",
    "        accuracy_cond.append((len(df_rt)+len(df_CR))/200*100) \n",
    "\n",
    "        hit_length[file].append(len(df_rt))\n",
    "        # print(filename, len(df_rt))\n",
    "        acc_dict[file] = accuracy_cond\n",
    "        \n",
    "        #d' - dprime measure\n",
    "        hit_rate =len(df_rt)/(len(df_rt)+len(df_miss))\n",
    "        fa_rate = round(len(df_fa)/(len(df_fa)+ len(df_CR)),6)\n",
    "\n",
    "        # print(f'before = {fa_rate}')\n",
    "        if hit_rate == 1:\n",
    "            hit_rate = 0.99\n",
    "        if hit_rate == 0:\n",
    "            hit_rate = 0.01 \n",
    "        if fa_rate == 1:\n",
    "            fa_rate = 0.9967\n",
    "        if fa_rate == 0:\n",
    "            fa_rate = 0.0033\n",
    "        # print(f'after = {fa_rate}')\n",
    "\n",
    "        dprime_df[filename] = norm.ppf(hit_rate)-norm.ppf(fa_rate)\n",
    "\n",
    "        fa_rate_df[filename] = fa_rate\n",
    "        hit_rate_df[filename] = hit_rate\n",
    "        \n",
    "        ######## normality test\n",
    "        # n,p = shapiro(df_rt[\"RT\"])\n",
    "        # if p > 0.05:\n",
    "        #     print(filename, n, p)\n",
    "\n",
    "    hit_rate_dict[file] = hit_rate_df\n",
    "    fa_rate_dict[file] = fa_rate_df\n",
    "    rt_all.append(rt_cond)\n",
    "    accuracy_all.append(accuracy_cond) \n",
    "    timeDurationDf[file] = timeDuration \n",
    "    # dprime_dict[file] = dprime_df.T     "
   ]
  },
  {
   "attachments": {},
   "cell_type": "markdown",
   "metadata": {},
   "source": [
    "creating data frames"
   ]
  },
  {
   "cell_type": "code",
   "execution_count": null,
   "metadata": {},
   "outputs": [],
   "source": [
    "dataRt = pd.DataFrame(index=subject_name)\n",
    "df_er = pd.DataFrame(index=subject_name)\n",
    "\n",
    "for ind,i in enumerate(filepaths):\n",
    "    dataRt[i] = rt_all[ind]\n",
    "   \n",
    "dataRt.sort_index(inplace=True)"
   ]
  },
  {
   "cell_type": "code",
   "execution_count": null,
   "metadata": {},
   "outputs": [],
   "source": [
    "dprime_dictt = dict()\n",
    "for key in fa_rate_dict.keys():\n",
    "    \n",
    "    dprime_dictt[key] = pd.DataFrame({'d_prime':(norm.ppf(hit_rate_dict[key]) - norm.ppf(fa_rate_dict[key]))[0]}, index=fa_rate_df.T.index)"
   ]
  },
  {
   "cell_type": "markdown",
   "metadata": {},
   "source": [
    "total stimulation duration"
   ]
  },
  {
   "cell_type": "code",
   "execution_count": null,
   "metadata": {},
   "outputs": [],
   "source": [
    "for i, row in timeDurationDf.T.iterrows():\n",
    "    print(i + \" mean:\" + str(row.mean()))\n",
    "    print(i + \" std:\" + str(row.std()))\n",
    "    print(i + \" min:\" + str(row.min()))\n",
    "    print(i + \" max:\" + str(row.max()))"
   ]
  },
  {
   "attachments": {},
   "cell_type": "markdown",
   "metadata": {},
   "source": [
    "Descriptive statistics"
   ]
  },
  {
   "cell_type": "code",
   "execution_count": null,
   "metadata": {},
   "outputs": [],
   "source": [
    "#Total hits across conditions\n",
    "hit_conds = pd.DataFrame()\n",
    "hit_conds['Sham'] = hit_length['Sham']\n",
    "hit_conds['Fixed dose'] = hit_length['Fixed dose']\n",
    "hit_conds['Individualised dose'] = hit_length['Individualised dose']"
   ]
  },
  {
   "cell_type": "code",
   "execution_count": null,
   "metadata": {},
   "outputs": [],
   "source": [
    "for key in hit_conds:\n",
    "    print('Mean')\n",
    "    print(key, round(hit_conds[key].mean(),3))\n",
    "    print('STD')\n",
    "    print(key, round(hit_conds[key].std(),2))\n",
    "    print('Variance')\n",
    "    print(key, round(hit_conds[key].var(),2))"
   ]
  },
  {
   "cell_type": "markdown",
   "metadata": {},
   "source": [
    "dprime mean"
   ]
  },
  {
   "cell_type": "code",
   "execution_count": null,
   "metadata": {},
   "outputs": [],
   "source": [
    "for key in dprime_dict:\n",
    "    print(key, round(dprime_dict[key].mean(),3))\n",
    "    print(key, round(dprime_dict[key].std(),2))\n",
    "    print(key, round(dprime_dict[key].var(),2))"
   ]
  },
  {
   "attachments": {},
   "cell_type": "markdown",
   "metadata": {},
   "source": [
    "Ploting distribution of hits across conditions"
   ]
  },
  {
   "cell_type": "code",
   "execution_count": null,
   "metadata": {},
   "outputs": [],
   "source": [
    "## no of hits distribution\n",
    "plt.hist(hit_length[\"Fixed dose\"], bins=5)\n",
    "plt.xlim(15, 55)\n",
    "plt.ylim(0, 15)\n",
    "plt.xlabel(\"HITS\")\n",
    "plt.ylabel(\"No of Subjects\")\n",
    "\n",
    "plt.figure()\n",
    "plt.hist(hit_length[\"Individualised dose\"], bins=5)\n",
    "plt.xlim(15, 55)\n",
    "plt.ylim(0, 15)\n",
    "plt.xlabel(\"HITS\")\n",
    "plt.ylabel(\"No of Subjects\")\n",
    "\n",
    "plt.figure()\n",
    "plt.hist(hit_length[\"Sham\"], bins=5)\n",
    "plt.xlim(15, 55)\n",
    "plt.ylim(0, 15)\n",
    "plt.xlabel(\"HITS\")\n",
    "plt.ylabel(\"No of Subjects\")\n"
   ]
  },
  {
   "cell_type": "code",
   "execution_count": null,
   "metadata": {},
   "outputs": [],
   "source": [
    "#accuracy\n",
    "for key in acc_dict:\n",
    "    print(key, statistics.mean(acc_dict[key]))\n",
    "    print(key, statistics.stdev(acc_dict[key]))"
   ]
  },
  {
   "cell_type": "markdown",
   "metadata": {},
   "source": [
    "normality- condition wise"
   ]
  },
  {
   "cell_type": "code",
   "execution_count": null,
   "metadata": {},
   "outputs": [],
   "source": [
    "#RT\n",
    "for key in dataRt:\n",
    "    test, p = shapiro(dataRt[key])\n",
    "    print(key, test, p)"
   ]
  },
  {
   "cell_type": "code",
   "execution_count": null,
   "metadata": {},
   "outputs": [],
   "source": [
    "#accuracy\n",
    "for key in acc_dict:\n",
    "    test, p = shapiro(acc_dict[key])\n",
    "    print(key, test, p)"
   ]
  },
  {
   "cell_type": "code",
   "execution_count": null,
   "metadata": {},
   "outputs": [],
   "source": [
    "#d_prime - normality and levene test\n",
    "print(\"normality test\")\n",
    "for key in dprime_dictt:\n",
    "    test, p = shapiro(dprime_dictt[key])\n",
    "    print(key, test, p)\n",
    "\n",
    "print(\"levene test\")\n",
    "l,pp = levene(dprime_dictt[\"Fixed dose\"][\"d_prime\"].to_numpy(), dprime_dictt[\"Individualised dose\"][\"d_prime\"].to_numpy(), \n",
    "                    dprime_dictt[\"Sham\"][\"d_prime\"].to_numpy())\n",
    "print( l, pp)\n",
    "    "
   ]
  },
  {
   "cell_type": "markdown",
   "metadata": {},
   "source": [
    "one way anova   "
   ]
  },
  {
   "cell_type": "code",
   "execution_count": null,
   "metadata": {},
   "outputs": [],
   "source": [
    "#RT -parametric friedman test anova\n",
    "friedmanchisquare(dataRt[\"Sham\"], dataRt[\"Fixed dose\"], dataRt[\"Individualised dose\"])"
   ]
  },
  {
   "cell_type": "code",
   "execution_count": null,
   "metadata": {},
   "outputs": [],
   "source": [
    "#accuracy -parametric friedman test anova\n",
    "friedmanchisquare(acc_dict[\"Sham\"], acc_dict[\"Fixed dose\"], acc_dict[\"Individualised dose\"])"
   ]
  },
  {
   "cell_type": "code",
   "execution_count": null,
   "metadata": {},
   "outputs": [],
   "source": [
    "## d-prime - one way repeated measures anova\n",
    "#creating the data frame\n",
    "dprime_df_cond = pd.DataFrame()\n",
    "dprime_df_cond['Sham'] = dprime_dictt['Sham']\n",
    "dprime_df_cond['Fixed dose'] = dprime_dictt['Fixed dose']\n",
    "dprime_df_cond['Individualised dose'] = dprime_dictt['Individualised dose']\n"
   ]
  },
  {
   "cell_type": "code",
   "execution_count": null,
   "metadata": {},
   "outputs": [],
   "source": [
    "#anova\n",
    "aov_dprime = pg.rm_anova(data = dprime_df_cond)\n",
    "aov_dprime"
   ]
  },
  {
   "attachments": {},
   "cell_type": "markdown",
   "metadata": {},
   "source": [
    "Descriptive statistics"
   ]
  },
  {
   "cell_type": "code",
   "execution_count": null,
   "metadata": {},
   "outputs": [],
   "source": [
    "#Reaction time\n",
    "for key in dataRt:\n",
    "    print(key, \"mean: \", dataRt[key].mean())\n",
    "    print(\"std: \", dataRt[key].std())\n",
    "    print(\"var: \", dataRt[key].var())"
   ]
  },
  {
   "cell_type": "markdown",
   "metadata": {},
   "source": [
    "accuracy    "
   ]
  },
  {
   "cell_type": "code",
   "execution_count": null,
   "metadata": {},
   "outputs": [],
   "source": [
    "#Accuracy\n",
    "for key in acc_dict:\n",
    "    print(key, \"mean: \", round(statistics.mean(acc_dict[key]), 3))\n",
    "    print(\"std: \", round(statistics.stdev(acc_dict[key]),2))\n",
    "    print(\"var: \", round(statistics.variance(acc_dict[key]),2))\n"
   ]
  },
  {
   "cell_type": "markdown",
   "metadata": {},
   "source": [
    "dprime"
   ]
  },
  {
   "cell_type": "code",
   "execution_count": null,
   "metadata": {},
   "outputs": [],
   "source": [
    "#d-Prime\n",
    "for key in dprime_dictt:\n",
    "    print(key)\n",
    "    print(\"std: \" + str(round(statistics.stdev(dprime_dictt[key]['d_prime'].to_numpy()), 3)))\n",
    "    print(\"mean: \" + str(round(statistics.mean(dprime_dictt[key]['d_prime'].to_numpy()), 3)))\n",
    "    print(\"var: \" + str(round(statistics.variance(dprime_dictt[key]['d_prime'].to_numpy()), 3)))"
   ]
  },
  {
   "cell_type": "markdown",
   "metadata": {},
   "source": [
    "Violin plots"
   ]
  },
  {
   "attachments": {},
   "cell_type": "markdown",
   "metadata": {},
   "source": [
    "defining functions"
   ]
  },
  {
   "cell_type": "code",
   "execution_count": null,
   "metadata": {},
   "outputs": [],
   "source": [
    "def adjacent_values(vals, q1, q3):\n",
    "    upper_adjacent_value = q3 + (q3 - q1) * 1.5\n",
    "    upper_adjacent_value = np.clip(upper_adjacent_value, q3, vals[-1])\n",
    "\n",
    "    lower_adjacent_value = q1 - (q3 - q1) * 1.5\n",
    "    lower_adjacent_value = np.clip(lower_adjacent_value, vals[0], q1)\n",
    "    return lower_adjacent_value, upper_adjacent_value\n",
    "\n",
    "\n",
    "def set_axis_style(ax, labels):\n",
    "    ax.get_xaxis().set_tick_params(direction='out')\n",
    "    ax.xaxis.set_ticks_position('bottom')\n",
    "    ax.set_xticks(np.arange(1, len(labels) + 1))\n",
    "    ax.set_xticklabels(labels, fontsize = 18, fontname = \"sans\")\n",
    "    ax.set_xlim(0.25, len(labels) + 0.75)\n",
    "    ax.set_xlabel('Sample name')"
   ]
  },
  {
   "cell_type": "markdown",
   "metadata": {},
   "source": [
    "rt across cond"
   ]
  },
  {
   "cell_type": "code",
   "execution_count": null,
   "metadata": {},
   "outputs": [],
   "source": [
    "data_to_plot = [dataRt['Sham'], dataRt['Fixed dose'], dataRt['Individualised dose'] ]\n",
    "fig = plt.figure(figsize=(12, 7))\n",
    "\n",
    "# Create an axes instance\n",
    "ax = fig.add_axes([0.09,0.1,0.85,0.84])\n",
    "ax.tick_params(axis='y', which='major', labelsize=12)\n",
    "ax.spines.right.set_visible(False)\n",
    "ax.spines.top.set_visible(False)\n",
    "ax.spines.left.set_visible(False)\n",
    "ax.spines.bottom.set_visible(False)\n",
    "# ax.set_yticks(size = 14)\n",
    "# ax.set_xticks(size = 16)\n",
    "ax.grid(True, axis = \"y\", color='w', linestyle='-', linewidth=1.2, which=\"major\",  zorder = -1.0)\n",
    "ax.patch.set_facecolor('.91')\n",
    "plt.rc(\"axes\", axisbelow = True)\n",
    "# Create the boxplot\n",
    "\n",
    "bp = ax.violinplot(data_to_plot, showmeans=False, showmedians=False, showextrema=True)\n",
    "label = ['Sham','Fixed Dose', 'Individualised dose']\n",
    "\n",
    "for ax in [ax]:\n",
    "    set_axis_style(ax, label)\n",
    "\n",
    "\n",
    "ax.set_xlabel('Stimulation condition', fontsize = 22, fontname = \"sans\")\n",
    "ax.set_ylabel('RT (ms)', fontsize = 18, fontname = \"sans\")\n",
    "ax.set_title('Reaction time', fontsize = 26, fontname = \"sans\")\n",
    "\n",
    "plt.rc('xtick', labelsize=30) \n",
    "plt.rc('ytick', labelsize=15) \n",
    "plt.rc('axes', titlesize=35)   \n",
    "plt.rc('axes', labelsize=35)  \n",
    "\n",
    "for pc in bp['bodies']:\n",
    "    pc.set_facecolor('#B2C8DF')\n",
    "    pc.set_edgecolor('#6E85B7')\n",
    "    pc.set_alpha(0.7)\n",
    "quartile1, medians, quartile3 = np.percentile(data_to_plot, [25, 50, 75], axis=1)\n",
    "whiskers = np.array([\n",
    "    adjacent_values(sorted_array, q1, q3)\n",
    "    for sorted_array, q1, q3 in zip(data_to_plot, quartile1, quartile3)])\n",
    "whiskers_min, whiskers_max = whiskers[:, 0], whiskers[:, 0]\n",
    "\n",
    "inds = np.arange(1, len(medians) + 1)\n",
    "ax.scatter(inds, medians, marker='o', color='black', s=30, zorder=3)\n",
    "ax.vlines(inds, quartile1, quartile3, color='black', linestyle='-', lw=5)\n",
    "ax.vlines(inds, whiskers_min, whiskers_max, color='black', linestyle='-', lw=4)\n",
    "# plt.savefig(\"/home/friction_15/lab/dissertation/reviewFigures/violinTacsRT.jpg\", format=\"jpg\", dpi = 500)\n",
    "\n",
    "\n"
   ]
  },
  {
   "cell_type": "markdown",
   "metadata": {},
   "source": [
    "Accuracy"
   ]
  },
  {
   "cell_type": "code",
   "execution_count": null,
   "metadata": {},
   "outputs": [],
   "source": [
    "data_to_plot = [acc_dict['Sham'], acc_dict['Fixed dose'], acc_dict['Individualised dose'] ]\n",
    "fig = plt.figure(figsize=(12, 7))\n",
    "\n",
    "# Create an axes instance\n",
    "ax = fig.add_axes([0.09,0.1,0.85,0.84])\n",
    "ax.tick_params(axis='y', which='major', labelsize=12)\n",
    "ax.spines.right.set_visible(False)\n",
    "ax.spines.top.set_visible(False)\n",
    "ax.spines.left.set_visible(False)\n",
    "ax.spines.bottom.set_visible(False)\n",
    "# ax.set_yticks(size = 14)\n",
    "# ax.set_xticks(size = 16)\n",
    "ax.grid(True, axis = \"y\", color='w', linestyle='-', linewidth=1.2, which=\"major\",  zorder = -1.0)\n",
    "ax.patch.set_facecolor('.91')\n",
    "plt.rc(\"axes\", axisbelow = True)\n",
    "# Create the boxplot\n",
    "\n",
    "bp = ax.violinplot(data_to_plot, showmeans=False, showmedians=False, showextrema=True)\n",
    "labels = ['Sham','Fixed Dose', 'Individualised dose']\n",
    "\n",
    "for ax in [ax]:\n",
    "    set_axis_style(ax, labels)\n",
    "\n",
    "ax.set_xlabel('Stimulation condition', fontsize = 22, fontname = \"sans\")\n",
    "ax.set_ylabel('Accuracy(%)', fontsize = 18, fontname = \"sans\")\n",
    "ax.set_title('Accuracy', fontsize = 26, fontname = \"sans\")\n",
    "\n",
    "# plt.rc('xtick', labelsize=30) \n",
    "# plt.rc('ytick', labelsize=15) \n",
    "# plt.rc('axes', titlesize=35)   \n",
    "# plt.rc('axes', labelsize=35)    \n",
    "\n",
    "for pc in bp['bodies']:\n",
    "    pc.set_facecolor('#B2C8DF')\n",
    "    pc.set_edgecolor('#6E85B7')\n",
    "    pc.set_alpha(1)\n",
    "quartile1, medians, quartile3 = np.percentile(data_to_plot, [25, 50, 75], axis=1)\n",
    "whiskers = np.array([\n",
    "    adjacent_values(sorted_array, q1, q3)\n",
    "    for sorted_array, q1, q3 in zip(data_to_plot, quartile1, quartile3)])\n",
    "whiskers_min, whiskers_max = whiskers[:, 0], whiskers[:, 0]\n",
    "\n",
    "inds = np.arange(1, len(medians) + 1)\n",
    "ax.scatter(inds, medians, marker='o', color='white', s=30, zorder=3)\n",
    "ax.vlines(inds, quartile1, quartile3, color='k', linestyle='-', lw=5)\n",
    "ax.vlines(inds, whiskers_min, whiskers_max, color='k', linestyle='-', lw=1)\n",
    "# plt.savefig(\"/home/friction_15/lab/dissertation/reviewFigures/violinTacsAccuracy.jpg\", format=\"jpg\", dpi = 500)\n",
    "\n"
   ]
  },
  {
   "cell_type": "markdown",
   "metadata": {},
   "source": [
    "dprime"
   ]
  },
  {
   "cell_type": "code",
   "execution_count": null,
   "metadata": {},
   "outputs": [],
   "source": [
    "fix_dprime = dprime_dictt['Sham']['d_prime'].to_numpy()\n",
    "sham_dprime = dprime_dictt['Fixed dose']['d_prime'].to_numpy()\n",
    "ind_dprime = dprime_dictt['Individualised dose']['d_prime'].to_numpy()\n",
    "# dprime_dict['sham'].tolist(), dprime_dict['fix'].tolist(), dprime_dict['ind'].tolist()"
   ]
  },
  {
   "cell_type": "code",
   "execution_count": null,
   "metadata": {},
   "outputs": [],
   "source": [
    "data_to_plot = [sham_dprime, fix_dprime, ind_dprime ]\n",
    "fig = plt.figure(figsize=(12, 7))\n",
    "# Create an axes instance\n",
    "ax = fig.add_axes([0.09,0.1,0.85,0.84])\n",
    "ax.tick_params(axis='y', which='major', labelsize=12)\n",
    "ax.spines.right.set_visible(False)\n",
    "ax.spines.top.set_visible(False)\n",
    "ax.spines.left.set_visible(False)\n",
    "ax.spines.bottom.set_visible(False)\n",
    "# ax.set_yticks(size = 14)\n",
    "# ax.set_xticks(size = 16)\n",
    "ax.grid(True, axis = \"y\", color='w', linestyle='-', linewidth=1.2, which=\"major\",  zorder = -1.0)\n",
    "ax.patch.set_facecolor('.91')\n",
    "plt.rc(\"axes\", axisbelow = True)\n",
    "# Create the boxplot\n",
    "\n",
    "bp = ax.violinplot(data_to_plot, showmeans=False, showmedians=False, showextrema=True)\n",
    "labels = ['Sham','Fixed Dose', 'Individualised dose']\n",
    "for ax in [ax]:\n",
    "    set_axis_style(ax, labels)\n",
    "\n",
    "ax.set_xlabel('Stimulation condition', fontsize = 22, fontname = \"sans\" )\n",
    "ax.set_ylabel(\"d'\", fontsize = 18, fontname = \"sans\")\n",
    "ax.set_title(\"d'\", fontsize = 26, fontname = \"sans\")\n",
    "\n",
    "# plt.rc('xtick', labelsize=30)\n",
    "\n",
    "# plt.rc('ytick', labelsize=15) \n",
    "# plt.rc('axes', titlesize=35)   \n",
    "# plt.rc('axes', labelsize=35)  \n",
    "\n",
    "for pc in bp['bodies']:\n",
    "    pc.set_facecolor('#B2C8DF')\n",
    "    pc.set_edgecolor('#6E85B7')\n",
    "    pc.set_alpha(1)\n",
    "quartile1, medians, quartile3 = np.percentile(data_to_plot, [25, 50, 75], axis=1)\n",
    "whiskers = np.array([\n",
    "    adjacent_values(sorted_array, q1, q3)\n",
    "    for sorted_array, q1, q3 in zip(data_to_plot, quartile1, quartile3)])\n",
    "whiskers_min, whiskers_max = whiskers[:, 0], whiskers[:, 0]\n",
    "\n",
    "inds = np.arange(1, len(medians) + 1)\n",
    "ax.scatter(inds, medians, marker='o', color='white', s=30, zorder=3)\n",
    "ax.vlines(inds, quartile1, quartile3, color='k', linestyle='-', lw=5)\n",
    "ax.vlines(inds, whiskers_min, whiskers_max, color='k', linestyle='-', lw=1)\n",
    "# plt.savefig(\"/home/friction_15/lab/dissertation/reviewFigures/violinTacsDprime.jpg\", format=\"jpg\", dpi = 500)\n",
    "\n"
   ]
  },
  {
   "cell_type": "code",
   "execution_count": null,
   "metadata": {},
   "outputs": [],
   "source": [
    "acc_fix = acc_dict[\"Fixed dose\"]\n",
    "acc_ind = acc_dict[\"Individualised dose\"]\n",
    "\n",
    "rt_fix = dataRt[\"Fixed dose\"].to_list()\n",
    "rt_ind = dataRt[\"Individualised dose\"].to_list()\n",
    "\n",
    "cond1 = [\"Fixed\"]*(len(acc_fix) + len(rt_fix))\n",
    "cond2 = [\"Individualised\"]*(len(acc_ind) + len(rt_ind))\n",
    "\n",
    "\n",
    "\n",
    "roi1 = [\"Accuracy\"]*len(acc_fix)\n",
    "roi2 = [\"RT\"]*len(rt_fix)\n",
    "roi3 = [\"Accuracy\"]*len(acc_ind)\n",
    "roi4 = [\"RT\"]*len(rt_ind)\n",
    "\n",
    "df_plot = pd.DataFrame({\"data\": acc_fix + rt_fix + acc_ind +  rt_ind, \"cond\" : cond1 + cond2, \"ROI\": roi1 + roi2 + roi3 + roi4})"
   ]
  },
  {
   "cell_type": "code",
   "execution_count": null,
   "metadata": {},
   "outputs": [],
   "source": [
    "show_legend = [True,True,False,False]\n",
    "\n",
    "fig = go.Figure()\n",
    "\n",
    "i = 1 #i = 0 for RT; i = 1 for accuracy\n",
    "fig.add_trace(go.Violin(x=df_plot['ROI'][(df_plot['cond'] == 'Fixed') &\n",
    "                                (df_plot['ROI'] == pd.unique(df_plot['ROI'])[i])],\n",
    "                    y=df_plot['data'][(df_plot['cond'] == 'Fixed')&\n",
    "                                        (df_plot['ROI'] == pd.unique(df_plot['ROI'])[i])],\n",
    "                    legendgroup='Fixed', scalegroup='Fixed', name='Fixed',\n",
    "                    side='negative',\n",
    "                    pointpos=-1.07, # where to position points\n",
    "                    line_color='lightseagreen',\n",
    "                    showlegend=show_legend[i],\n",
    "                    xaxis = \"x2\"))\n",
    "        \n",
    "\n",
    "fig.add_trace(go.Violin(x=df_plot['ROI'][(df_plot['cond'] == 'Individualised') &\n",
    "                                (df_plot['ROI'] == pd.unique(df_plot['ROI'])[i])],\n",
    "                    y=df_plot['data'][(df_plot['cond'] == 'Individualised')&\n",
    "                                        (df_plot['ROI'] == pd.unique(df_plot['ROI'])[i])],\n",
    "                    legendgroup='Individualised', scalegroup='Individualised', name='Individualised',\n",
    "                    side='positive',\n",
    "                    pointpos=1.1, # where to position points\n",
    "                    line_color='mediumpurple',\n",
    "                    showlegend=show_legend[i],\n",
    "                    xaxis=\"x2\"\n",
    "                    ))\n",
    "                    \n",
    "\n",
    "\n",
    "# update characteristics shared by all traces\n",
    "fig.update_traces(meanline_visible=True,\n",
    "                  points='all', # show all points\n",
    "                  jitter=0.05,  # add some jitter on points for better visibility\n",
    "                  scalemode='count') #scale violin plot area with total count\n",
    "fig.update_layout(\n",
    "    title_text=\"Behavioural Performance\",\n",
    "    xaxis_title = \"ROI\",\n",
    "    yaxis_title = 'Accuracy (%)', #\"Rt (ms)\" if i =0 \n",
    "    violingap=0.3, violingroupgap=0, violinmode='overlay',\n",
    "    autosize = False,\n",
    "    width = 700, \n",
    "    height = 500,\n",
    "    font_size = 20 )\n",
    "# fig.write_image(\"/home/friction_15/lab/dissertation/reviewFigures/acc_tACS.jpg\", scale = 10)\n",
    "fig.show()\n",
    "# fig.write_image(\"E:\\\\rajat\\python_plots\\perform_acc.jpg\", scale = 10)"
   ]
  },
  {
   "cell_type": "code",
   "execution_count": null,
   "metadata": {},
   "outputs": [],
   "source": [
    "data_fix = pd.DataFrame()\n",
    "data_ind = pd.DataFrame()\n",
    "data_fix[\"dprime\"] = dprime_dictt['Fixed dose']\n",
    "data_fix[\"cond\"] = [\"Fixed\"]*len(data_fix) \n",
    "data_ind[\"dprime\"] = dprime_dictt['Individualised dose']\n",
    "data_ind[\"cond\"] = [\"Individualised\"]*len(data_ind)\n",
    "\n",
    "df_dprime_violin = pd.concat([data_fix, data_ind])\n",
    "df_dprime_violin[\"label\"] = [\"_\"]*len(df_dprime_violin)\n",
    "# xlabell = [\".\"]*len(dprime_dictt[\"Fixed dose\"])\n",
    "# df_dprime_violin = pd.DataFrame({\"cond\": cond_fix + cond_ind, \"data\": data_fix+data_ind, \"label\":xlabel+xlabell})\n",
    "# df_dprime_violin.head()"
   ]
  },
  {
   "cell_type": "code",
   "execution_count": null,
   "metadata": {},
   "outputs": [],
   "source": [
    "show_legend = [True,True,False,False]\n",
    "\n",
    "fig = go.Figure()\n",
    "\n",
    "# for i in range(0,len(pd.unique(df_plot['ROI']))):\n",
    "i = 0\n",
    "fig.add_trace(go.Violin(x= df_dprime_violin['label'][(df_dprime_violin['cond'] == 'Fixed') &\n",
    "                                (df_dprime_violin['label'] == pd.unique(df_dprime_violin['label'])[i])],\n",
    "                    y=df_dprime_violin['dprime'][(df_dprime_violin['cond'] == 'Fixed')&\n",
    "                                        (df_dprime_violin['label'] == pd.unique(df_dprime_violin['label'])[i])],\n",
    "                                        \n",
    "                                        legendgroup='Fixed', scalegroup='Fixed', name='Fixed',\n",
    "                    side='negative',\n",
    "                    pointpos=-1.07, # where to position points\n",
    "                    line_color='lightseagreen',\n",
    "                    showlegend=show_legend[i],\n",
    "                    ))\n",
    "        \n",
    "\n",
    "fig.add_trace(go.Violin(x=df_dprime_violin['label'][(df_dprime_violin['cond'] == 'Individualised') &\n",
    "                                (df_dprime_violin['label'] == pd.unique(df_dprime_violin['label'])[i])],\n",
    "                    y=df_dprime_violin['dprime'][(df_dprime_violin['cond'] == 'Individualised')&\n",
    "                                        (df_dprime_violin['label'] == pd.unique(df_dprime_violin['label'])[i])],\n",
    "                    legendgroup='Individualised', scalegroup='Individualised', name='Individualised',\n",
    "                    side='positive',\n",
    "                    pointpos=1.1, # where to position points\n",
    "                    line_color='mediumpurple',\n",
    "                    showlegend=show_legend[i],\n",
    "                    \n",
    "                    ))                    \n",
    "\n",
    "\n",
    "# update characteristics shared by all traces\n",
    "fig.update_traces(meanline_visible=True,\n",
    "                  points='all', # show all points\n",
    "                  jitter=0.05,  # add some jitter on points for better visibility\n",
    "                  scalemode='count') #scale violin plot area with total count\n",
    "fig.update_layout(\n",
    "    title_text=\"Behavioural Performance\",\n",
    "    # xaxis_title = \"ROI\",\n",
    "    yaxis_title = \"d'\",\n",
    "    violingap=0.3, violingroupgap=0, violinmode='overlay',\n",
    "    autosize = False,\n",
    "    width = 700, \n",
    "    height = 500,\n",
    "    font_size = 20 )\n",
    "# fig.write_image(\"/home/friction_15/lab/dissertation/reviewFigures/dprime_tACS.jpg\", scale = 10)\n",
    "fig.show()\n",
    "# fig.write_image(\"E:\\\\rajat\\python_plots\\perform_acc.jpg\", scale = 10)"
   ]
  }
 ],
 "metadata": {
  "kernelspec": {
   "display_name": "Python 3.9.7 ('base')",
   "language": "python",
   "name": "python3"
  },
  "language_info": {
   "codemirror_mode": {
    "name": "ipython",
    "version": 3
   },
   "file_extension": ".py",
   "mimetype": "text/x-python",
   "name": "python",
   "nbconvert_exporter": "python",
   "pygments_lexer": "ipython3",
   "version": "3.9.7"
  },
  "orig_nbformat": 4,
  "vscode": {
   "interpreter": {
    "hash": "7646d542c936ad5cb0e2a79856d32e94320ebbf9c0d0df29132793802f259745"
   }
  }
 },
 "nbformat": 4,
 "nbformat_minor": 2
}
