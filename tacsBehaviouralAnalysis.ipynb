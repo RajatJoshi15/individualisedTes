{
 "cells": [
  {
   "attachments": {},
   "cell_type": "markdown",
   "metadata": {},
   "source": [
    "Libraries"
   ]
  },
  {
   "cell_type": "code",
   "execution_count": 1,
   "metadata": {},
   "outputs": [
    {
     "name": "stderr",
     "output_type": "stream",
     "text": [
      "/home/friction_15/anaconda3/lib/python3.9/site-packages/outdated/utils.py:14: OutdatedPackageWarning: The package outdated is out of date. Your version is 0.2.1, the latest is 0.2.2.\n",
      "Set the environment variable OUTDATED_IGNORE=1 to disable these warnings.\n",
      "  return warn(\n",
      "/home/friction_15/anaconda3/lib/python3.9/site-packages/outdated/utils.py:14: OutdatedPackageWarning: The package pingouin is out of date. Your version is 0.5.1, the latest is 0.5.3.\n",
      "Set the environment variable OUTDATED_IGNORE=1 to disable these warnings.\n",
      "  return warn(\n"
     ]
    }
   ],
   "source": [
    "import os\n",
    "import pandas as pd\n",
    "import numpy as np\n",
    "import matplotlib.pyplot as plt\n",
    "from scipy.stats import shapiro\n",
    "from scipy.stats import levene\n",
    "from scipy import stats\n",
    "import statistics\n",
    "import pingouin as pg\n",
    "from scipy.stats import friedmanchisquare\n",
    "import plotly.graph_objects as go\n",
    "import plotly.express as px\n"
   ]
  },
  {
   "cell_type": "code",
   "execution_count": 30,
   "metadata": {},
   "outputs": [
    {
     "name": "stderr",
     "output_type": "stream",
     "text": [
      "/tmp/ipykernel_13629/4003031366.py:64: SettingWithCopyWarning: \n",
      "A value is trying to be set on a copy of a slice from a DataFrame.\n",
      "Try using .loc[row_indexer,col_indexer] = value instead\n",
      "\n",
      "See the caveats in the documentation: https://pandas.pydata.org/pandas-docs/stable/user_guide/indexing.html#returning-a-view-versus-a-copy\n",
      "  df2[\"RT\"] = df2[\"RT\"].astype(float) / 10\n"
     ]
    }
   ],
   "source": [
    "# Set the path to the logfile directory\n",
    "filepath = \"/\"\n",
    "# Get a list of filenames in the specified directory\n",
    "filepaths = os.listdir(filepath)\n",
    "\n",
    "# Define the range of trials\n",
    "trials = range(0, 200)\n",
    "\n",
    "# Define the desired order of file processing\n",
    "order = [1, 2, 0]\n",
    "filepaths = [filepaths[i] for i in order]\n",
    "\n",
    "# Specify any outliers to be excluded from analysis\n",
    "# Commented out for now\n",
    "# outlier = []\n",
    "outlier = ['']\n",
    "\n",
    "# Initialize empty lists and dictionaries\n",
    "rt_all = []\n",
    "accuracy_all = []\n",
    "hit_length = {k:[] for k in filepaths}\n",
    "acc_dict = {k:[] for k in filepaths}\n",
    "dprime_dict = dict()\n",
    "hit_rate_dict = dict()\n",
    "fa_rate_dict = dict()\n",
    "timeDurationDf = pd.DataFrame()\n",
    "\n",
    "# Iterate through each file in the filepaths list\n",
    "for file in filepaths:\n",
    "    # Get the list of files within the specific file's directory\n",
    "    files = os.listdir(filepath + file + \"/\")\n",
    "\n",
    "    # Initialize a DataFrame for the subject's data\n",
    "    sub_df = pd.DataFrame(index=trials)\n",
    "\n",
    "    # Initialize lists to store specific condition data\n",
    "    rt_cond = []\n",
    "    subject_name = []\n",
    "    accuracy_cond = []\n",
    "    timeDuration = []\n",
    "\n",
    "    # Exclude outliers from the files list\n",
    "    files_except_outliers = [i for i in files if i[:10] not in outlier]\n",
    "\n",
    "    # Initialize DataFrames to store dprime, false alarm rate, and hit rate for each subject\n",
    "    dprime_df = pd.DataFrame(index=['dprime'])\n",
    "    fa_rate_df = pd.DataFrame(index=['falserate'])\n",
    "    hit_rate_df = pd.DataFrame(index=['hitrate'])\n",
    "\n",
    "    # Iterate through each file (excluding outliers) in the current file's directory\n",
    "    for i in files_except_outliers:\n",
    "        # Generate the filename for the current subject\n",
    "        filename = \"sub_\" + i[8:10]\n",
    "\n",
    "        # Read the data from the file into a DataFrame\n",
    "        df = pd.read_csv(filepath + file + '/' + i, skiprows=3, delimiter=\"\\t\")\n",
    "        \n",
    "        # Data cleaning and manipulation steps\n",
    "        df1 = df.drop(df.dropna(subset=['Time']).index).reset_index()\n",
    "        df1.dropna(axis=1, how='all', inplace=True)\n",
    "        df1.columns = df1.iloc[0]\n",
    "        df1.drop(index=0, inplace=True)\n",
    "        df2 = df1.drop(df1.iloc[:, [0, 1]], axis=1)\n",
    "        df2[\"RT\"] = df2[\"RT\"].astype(float) / 10\n",
    "        df2 = df2[df2[\"Code\"].str.len() > 5]\n",
    "        df2[[\"TRIAL TYPE\", \"BLOCK\", \"STIM\", \"BACK\", \"TRIAL NUMBER\", \"STIM NAME\", \"STIM IDX\", \"tCOND\", \"tRESP\"]] = df2[\"Code\"].str.split(';', expand=True)\n",
    "        df2 = df2.drop(df2.iloc[:, [0]], axis=1)\n",
    "        df2[\"BLOCK\"] = df2[\"BLOCK\"].astype(float)\n",
    "        df2 = df2[df2['BLOCK'] == 1]\n",
    "\n",
    "        \n",
    "        cols = [\"BLOCK\", \"TRIAL NUMBER\", \"tCOND\", \"tRESP\"]\n",
    "        for col in cols:\n",
    "            temp = df2[col]\n",
    "            df2.drop(labels=[col], axis=1, inplace=True)\n",
    "            df2.insert(1, col, temp)\n",
    "\n",
    "        time = df2[\"Time\"].tolist()\n",
    "        timeDuration.append(int(time[-1]) / 60 / 10000)\n",
    "\n",
    "        # Reaction time (RT) calculations\n",
    "        df_rt = df2[df2[\"tRESP\"] == \"Hit\"]\n",
    "        df_miss = df2[df2['tRESP'] == \"Miss\"]\n",
    "        df_CR = df2[df2['tRESP'] == \"Correct Rejection\"]\n",
    "        df_fa = df2[df2['tRESP'] == \"False Alarm\"]\n",
    "        rt_cond.append(df_rt[\"RT\"].mean())\n",
    "\n",
    "        if np.isnan(df_rt[\"RT\"].mean()):\n",
    "            print(filename)\n",
    "\n",
    "        subject_name.append(filename)\n",
    "\n",
    "        # Accuracy calculations\n",
    "        accuracy_cond.append((len(df_rt) + len(df_CR)) / 200 * 100)\n",
    "\n",
    "        # Store hit length for the current file\n",
    "        hit_length[file].append(len(df_rt))\n",
    "\n",
    "        # Store accuracy values for the current file\n",
    "        acc_dict[file] = accuracy_cond\n",
    "\n",
    "        # Calculate hit rate and false alarm rate\n",
    "        hit_rate = len(df_rt) / (len(df_rt) + len(df_miss))\n",
    "        fa_rate = round(len(df_fa) / (len(df_fa) + len(df_CR)), 6)\n",
    "\n",
    "        # Adjust extreme hit rate and false alarm rate values\n",
    "        if hit_rate == 1:\n",
    "            hit_rate = 0.99\n",
    "        if hit_rate == 0:\n",
    "            hit_rate = 0.01\n",
    "        if fa_rate == 1:\n",
    "            fa_rate = 0.9967\n",
    "        if fa_rate == 0:\n",
    "            fa_rate = 0.0033\n",
    "\n",
    "        # Calculate d' (d prime) value\n",
    "        dprime_df[filename] = stats.norm.ppf(hit_rate) - stats.norm.ppf(fa_rate)\n",
    "        fa_rate_df[filename] = fa_rate\n",
    "        hit_rate_df[filename] = hit_rate\n",
    "\n",
    "        # Normality tests (Shapiro-Wilk test)\n",
    "        # Commented out for now\n",
    "        # n,p = shapiro(df_rt[\"RT\"])\n",
    "        # if p > 0.05:\n",
    "        #     print(filename, n, p)\n",
    "\n",
    "    # Store hit rate, false alarm rate, and d' (d prime) values for the current file\n",
    "    hit_rate_dict[file] = hit_rate_df\n",
    "    fa_rate_dict[file] = fa_rate_df\n",
    "    rt_all.append(rt_cond)\n",
    "    accuracy_all.append(accuracy_cond)\n",
    "    timeDurationDf[file] = timeDuration\n"
   ]
  },
  {
   "attachments": {},
   "cell_type": "markdown",
   "metadata": {},
   "source": [
    "creating data frames"
   ]
  },
  {
   "cell_type": "code",
   "execution_count": 31,
   "metadata": {},
   "outputs": [],
   "source": [
    "# Create a DataFrame for reaction time (RT) data\n",
    "dataRt = pd.DataFrame(index=subject_name)\n",
    "for ind, i in enumerate(filepaths):\n",
    "    dataRt[i] = rt_all[ind]\n",
    "dataRt.sort_index(inplace=True)\n",
    "\n",
    "# Create a dictionary to store d' (d prime) values\n",
    "dprime_dictt = dict()\n",
    "for key in fa_rate_dict.keys():\n",
    "    dprime_dictt[key] = pd.DataFrame({'d_prime': (stats.norm.ppf(hit_rate_dict[key]) - stats.norm.ppf(fa_rate_dict[key]))[0]},\n",
    "                                     index=fa_rate_df.T.index)\n",
    "\n",
    "# Total hits across conditions\n",
    "hit_conds = pd.DataFrame()\n",
    "hit_conds['Sham'] = hit_length['Sham']\n",
    "hit_conds['Fixed dose'] = hit_length['Fixed dose']\n",
    "hit_conds['Individualised dose'] = hit_length['Individualised dose']"
   ]
  },
  {
   "cell_type": "code",
   "execution_count": 32,
   "metadata": {},
   "outputs": [
    {
     "name": "stdout",
     "output_type": "stream",
     "text": [
      "Sham MEAN: 7.920449761904761\n",
      "Sham SD: 0.9901866654484326\n",
      "Sham MIN: 6.834925\n",
      "Sham MAX: 12.611841666666667\n",
      "\n",
      "Fixed dose MEAN: 7.817544000000002\n",
      "Fixed dose SD: 0.8356580457918187\n",
      "Fixed dose MIN: 6.648283333333333\n",
      "Fixed dose MAX: 10.307738333333333\n",
      "\n",
      "Individualised dose MEAN: 7.894285142857143\n",
      "Individualised dose SD: 0.8142409110284136\n",
      "Individualised dose MIN: 6.42042\n",
      "Individualised dose MAX: 10.649965\n",
      "\n"
     ]
    }
   ],
   "source": [
    "# Total stimulation duration (minutes)\n",
    "for i, row in timeDurationDf.T.iterrows():\n",
    "    print(i + \" MEAN: \" + str(row.mean()))\n",
    "    print(i + \" SD: \" + str(row.std()))\n",
    "    print(i + \" MIN: \" + str(row.min()))\n",
    "    print(i + \" MAX: \" + str(row.max()))\n",
    "    print(\"\")"
   ]
  },
  {
   "cell_type": "code",
   "execution_count": 33,
   "metadata": {},
   "outputs": [
    {
     "name": "stdout",
     "output_type": "stream",
     "text": [
      "Sham\n",
      "Mean: 38.714\n",
      "Standard Deviation: 7.54\n",
      "Variance: 56.86\n",
      "\n",
      "Fixed dose\n",
      "Mean: 39.543\n",
      "Standard Deviation: 8.4\n",
      "Variance: 70.49\n",
      "\n",
      "Individualised dose\n",
      "Mean: 38.8\n",
      "Standard Deviation: 7.53\n",
      "Variance: 56.64\n",
      "\n"
     ]
    }
   ],
   "source": [
    "# Print mean, standard deviation, and variance of hit counts\n",
    "for column in hit_conds.columns:\n",
    "    print(column)\n",
    "    print('Mean:', round(hit_conds[column].mean(), 3))\n",
    "    print('Standard Deviation:', round(hit_conds[column].std(), 2))\n",
    "    print('Variance:', round(hit_conds[column].var(), 2))\n",
    "    print('')\n"
   ]
  },
  {
   "cell_type": "code",
   "execution_count": 34,
   "metadata": {},
   "outputs": [
    {
     "name": "stdout",
     "output_type": "stream",
     "text": [
      "Sham\n",
      "Mean: 90.243\n",
      "SD 5.407\n",
      "Variance: 29.24\n",
      "\n",
      "Fixed dose\n",
      "Mean: 90.757\n",
      "SD 6.445\n",
      "Variance: 41.53\n",
      "\n",
      "Individualised dose\n",
      "Mean: 90.129\n",
      "SD 5.625\n",
      "Variance: 31.64\n",
      "\n"
     ]
    }
   ],
   "source": [
    "# Print mean accuracy across conditions\n",
    "for key in acc_dict:\n",
    "    print(f\"{key}\\nMean: {round(statistics.mean(acc_dict[key]), 3)}\")\n",
    "    print(f\"SD {round(statistics.stdev(acc_dict[key]), 3)}\")\n",
    "    print(f\"Variance: {round(statistics.variance(acc_dict[key]),2)}\")\n",
    "    print(\"\")"
   ]
  },
  {
   "cell_type": "code",
   "execution_count": 35,
   "metadata": {},
   "outputs": [
    {
     "name": "stdout",
     "output_type": "stream",
     "text": [
      "Sham\n",
      "Mean: d_prime    2.569\n",
      "dtype: float64\n",
      "SD: d_prime    0.73\n",
      "dtype: float64\n",
      "Variance: d_prime    0.53\n",
      "dtype: float64\n",
      "\n",
      "Fixed dose\n",
      "Mean: d_prime    2.716\n",
      "dtype: float64\n",
      "SD: d_prime    0.94\n",
      "dtype: float64\n",
      "Variance: d_prime    0.88\n",
      "dtype: float64\n",
      "\n",
      "Individualised dose\n",
      "Mean: d_prime    2.599\n",
      "dtype: float64\n",
      "SD: d_prime    0.82\n",
      "dtype: float64\n",
      "Variance: d_prime    0.67\n",
      "dtype: float64\n",
      "\n"
     ]
    }
   ],
   "source": [
    "# Print mean, standard deviation, and variance of d' (d prime) values\n",
    "for key in dprime_dictt:\n",
    "    print(key)\n",
    "    print(f\"Mean: {round(dprime_dictt[key].mean(),3)}\")\n",
    "    print(f\"SD: {round(dprime_dictt[key].std(),2)}\")\n",
    "    print(f\"Variance: {round(dprime_dictt[key].var(),2)}\")\n",
    "    print(\"\")"
   ]
  },
  {
   "cell_type": "code",
   "execution_count": 36,
   "metadata": {},
   "outputs": [
    {
     "name": "stdout",
     "output_type": "stream",
     "text": [
      "Sham\n",
      "Mean: 716.264\n",
      "SD: 166.59\n",
      "Variance: 27753.3\n",
      "\n",
      "Fixed dose\n",
      "Mean: 698.118\n",
      "SD: 155.58\n",
      "Variance: 24205.43\n",
      "\n",
      "Individualised dose\n",
      "Mean: 718.811\n",
      "SD: 144.89\n",
      "Variance: 20991.92\n",
      "\n"
     ]
    }
   ],
   "source": [
    "# Print mean, standard deviation, and variance of RT(ms) values\n",
    "for key in dataRt.columns:\n",
    "    print(key)\n",
    "    print(f\"Mean: {round(dataRt[key].mean(),3)}\")\n",
    "    print(f\"SD: {round(dataRt[key].std(),2)}\")\n",
    "    print(f\"Variance: {round(dataRt[key].var(),2)}\")\n",
    "    print(\"\")"
   ]
  },
  {
   "attachments": {},
   "cell_type": "markdown",
   "metadata": {},
   "source": [
    "Ploting distribution of hits across conditions"
   ]
  },
  {
   "cell_type": "code",
   "execution_count": 37,
   "metadata": {},
   "outputs": [
    {
     "data": {
      "image/png": "[encoded data removed]",
      "text/plain": [
       "<Figure size 432x288 with 1 Axes>"
      ]
     },
     "metadata": {
      "needs_background": "light"
     },
     "output_type": "display_data"
    }
   ],
   "source": [
    "# Plot histograms of hit counts\n",
    "plt.hist(hit_length[\"Fixed dose\"], bins=5, range=(15, 55), alpha=0.5, label=\"Fixed dose\")\n",
    "plt.hist(hit_length[\"Individualised dose\"], bins=5, range=(15, 55), alpha=0.5, label=\"Individualised dose\")\n",
    "plt.hist(hit_length[\"Sham\"], bins=5, range=(15, 55), alpha=0.5, label=\"Sham\")\n",
    "plt.xlabel(\"HITS\")\n",
    "plt.ylabel(\"No of Subjects\")\n",
    "plt.legend()\n",
    "plt.show()"
   ]
  },
  {
   "attachments": {},
   "cell_type": "markdown",
   "metadata": {},
   "source": [
    "normality- condition wise"
   ]
  },
  {
   "cell_type": "code",
   "execution_count": 38,
   "metadata": {},
   "outputs": [
    {
     "name": "stdout",
     "output_type": "stream",
     "text": [
      "\n",
      "--- Accuracy ---\n",
      "Shapiro-Wilk normality test:\n",
      "Sham: Test statistic=0.913947343826294, p-value=0.00957991648465395\n",
      "Fixed dose: Test statistic=0.9143509268760681, p-value=0.009834753349423409\n",
      "Individualised dose: Test statistic=0.9510295391082764, p-value=0.12188240140676498\n",
      "\n",
      "--- Reaction Time (RT) ---\n",
      "Shapiro-Wilk normality test:\n",
      "Sham: Test statistic=0.9280670881271362, p-value=0.02451764978468418\n",
      "Fixed dose: Test statistic=0.9664640426635742, p-value=0.3537101745605469\n",
      "Individualised dose: Test statistic=0.9304971694946289, p-value=0.028943926095962524\n",
      "\n",
      "--- d' (d prime) ---\n",
      "Shapiro-Wilk normality test:\n",
      "Sham: Test statistic=0.981633722782135, p-value=0.8109832406044006\n",
      "Fixed dose: Test statistic=0.9593436121940613, p-value=0.21850988268852234\n",
      "Individualised dose: Test statistic=0.9811519384384155, p-value=0.7960168719291687\n"
     ]
    }
   ],
   "source": [
    "# Shapiro-Wilk normality test and Levene's test for accuracy, RT, and d' data\n",
    "for data_type, data_dict in [(\"Accuracy\", acc_dict), (\"Reaction Time (RT)\", dataRt), (\"d' (d prime)\", dprime_dictt)]:\n",
    "    print(f\"\\n--- {data_type} ---\")\n",
    "    \n",
    "    # Shapiro-Wilk normality test\n",
    "    print(\"Shapiro-Wilk normality test:\")\n",
    "    for key, data in data_dict.items():\n",
    "        test, p = shapiro(data)\n",
    "        print(f\"{key}: Test statistic={test}, p-value={p}\")"
   ]
  },
  {
   "cell_type": "code",
   "execution_count": 39,
   "metadata": {},
   "outputs": [
    {
     "name": "stdout",
     "output_type": "stream",
     "text": [
      "Levene's test for accuracy:\n",
      "Test statistic=0.36215996751928603, p-value=0.6970625419914223\n",
      "Levene's test for reaction time (RT):\n",
      "Test statistic=0.31584228513832774, p-value=0.7298849931401192\n",
      "Levene's test for d'prime\n",
      "0.9475318308715849 0.3910823082461661\n"
     ]
    }
   ],
   "source": [
    "# Perform Levene's test for equality of variances on accuracy data\n",
    "print(\"Levene's test for accuracy:\")\n",
    "l_acc, p_acc = levene(*accuracy_all)\n",
    "print(f\"Test statistic={l_acc}, p-value={p_acc}\")\n",
    "\n",
    "# Perform Levene's test for equality of variances on RT data\n",
    "print(\"Levene's test for reaction time (RT):\")\n",
    "l_rt, p_rt = levene(*rt_all)\n",
    "print(f\"Test statistic={l_rt}, p-value={p_rt}\")\n",
    "# Perform Levene's test for equality of variances on d' (d prime) data\n",
    "print(\"Levene's test for d'prime\")\n",
    "l, pp = levene(dprime_dictt[\"Fixed dose\"][\"d_prime\"].to_numpy(), dprime_dictt[\"Individualised dose\"][\"d_prime\"].to_numpy(),\n",
    "               dprime_dictt[\"Sham\"][\"d_prime\"].to_numpy())\n",
    "print(l, pp)"
   ]
  },
  {
   "attachments": {},
   "cell_type": "markdown",
   "metadata": {},
   "source": [
    "one way anova   "
   ]
  },
  {
   "cell_type": "code",
   "execution_count": 41,
   "metadata": {},
   "outputs": [
    {
     "name": "stdout",
     "output_type": "stream",
     "text": [
      "RT - Friedman test (ANOVA):\n",
      "          Source         W  ddof1    Q     p-unc\n",
      "Friedman  Within  0.005714      2  0.4  0.818731\n",
      "Accuracy - Friedman test (ANOVA):\n",
      "          Source         W  ddof1         Q     p-unc\n",
      "Friedman  Within  0.013251      2  0.927536  0.628909\n",
      "d' (d prime) - Friedman test (ANOVA):\n",
      "          Source         W  ddof1    Q     p-unc\n",
      "Friedman  Within  0.017143      2  1.2  0.548812\n",
      " \n"
     ]
    }
   ],
   "source": [
    "# Friedman test (ANOVA) on RT data\n",
    "friedman_rt = pg.friedman(dataRt, method='chisq')\n",
    "print(\"RT - Friedman test (ANOVA):\")\n",
    "print(friedman_rt)\n",
    "\n",
    "# Friedman test (ANOVA) on accuracy data\n",
    "acc_df = pd.DataFrame({\n",
    "    \"Sham\": acc_dict[\"Sham\"],\n",
    "    \"Fixed dose\": acc_dict[\"Fixed dose\"],\n",
    "    \"Individualised dose\": acc_dict[\"Individualised dose\"]\n",
    "})\n",
    "friedman_acc = pg.friedman(acc_df, method='chisq')\n",
    "print(\"Accuracy - Friedman test (ANOVA):\")\n",
    "print(friedman_acc)\n",
    "\n",
    "# Friedman test (ANOVA) on d' (d prime) data\n",
    "dprime_df_cond = pd.DataFrame({\n",
    "    \"Sham\": dprime_dictt['Sham']['d_prime'],\n",
    "    \"Fixed dose\": dprime_dictt['Fixed dose']['d_prime'],\n",
    "    \"Individualised dose\": dprime_dictt['Individualised dose']['d_prime']\n",
    "})\n",
    "friedman_dprime = pg.friedman(dprime_df_cond, method=\"chisq\")\n",
    "print(\"d' (d prime) - Friedman test (ANOVA):\")\n",
    "print(friedman_dprime)"
   ]
  },
  {
   "attachments": {},
   "cell_type": "markdown",
   "metadata": {},
   "source": [
    "Violin plots"
   ]
  },
  {
   "attachments": {},
   "cell_type": "markdown",
   "metadata": {},
   "source": [
    "defining functions"
   ]
  },
  {
   "cell_type": "code",
   "execution_count": 42,
   "metadata": {},
   "outputs": [],
   "source": [
    "# Define function to calculate lower and upper adjacent values based on quartiles\n",
    "def adjacent_values(vals, q1, q3):\n",
    "    upper_adjacent_value = q3 + (q3 - q1) * 1.5\n",
    "    upper_adjacent_value = np.clip(upper_adjacent_value, q3, vals[-1])\n",
    "\n",
    "    lower_adjacent_value = q1 - (q3 - q1) * 1.5\n",
    "    lower_adjacent_value = np.clip(lower_adjacent_value, vals[0], q1)\n",
    "    return lower_adjacent_value, upper_adjacent_value\n",
    "\n",
    "# Define function to set axis style\n",
    "def set_axis_style(ax, labels):\n",
    "    ax.get_xaxis().set_tick_params(direction='out')\n",
    "    ax.xaxis.set_ticks_position('bottom')\n",
    "    ax.set_xticks(np.arange(1, len(labels) + 1))\n",
    "    ax.set_xticklabels(labels, fontsize=18, fontname=\"sans\")\n",
    "    ax.set_xlim(0.25, len(labels) + 0.75)\n",
    "    ax.set_xlabel('Sample name')"
   ]
  },
  {
   "attachments": {},
   "cell_type": "markdown",
   "metadata": {},
   "source": [
    "rt across cond"
   ]
  },
  {
   "cell_type": "code",
   "execution_count": 44,
   "metadata": {},
   "outputs": [
    {
     "data": {
      "text/plain": [
       "<matplotlib.collections.LineCollection at 0x7f362278fe50>"
      ]
     },
     "execution_count": 44,
     "metadata": {},
     "output_type": "execute_result"
    },
    {
     "data": {
      "image/png": "[encoded data removed]",
      "text/plain": [
       "<Figure size 864x504 with 1 Axes>"
      ]
     },
     "metadata": {
      "needs_background": "light"
     },
     "output_type": "display_data"
    }
   ],
   "source": [
    "# Prepare the data to plot\n",
    "data_to_plot = [dataRt['Sham'], dataRt['Fixed dose'], dataRt['Individualised dose']]\n",
    "\n",
    "# Create the figure and axes\n",
    "fig = plt.figure(figsize=(12, 7))\n",
    "ax = fig.add_axes([0.09, 0.1, 0.85, 0.84])\n",
    "\n",
    "# Configure axis and plot style\n",
    "ax.tick_params(axis='y', which='major', labelsize=12)\n",
    "ax.spines.right.set_visible(False)\n",
    "ax.spines.top.set_visible(False)\n",
    "ax.spines.left.set_visible(False)\n",
    "ax.spines.bottom.set_visible(False)\n",
    "ax.grid(True, axis=\"y\", color='w', linestyle='-', linewidth=1.2, which=\"major\", zorder=-1.0)\n",
    "ax.patch.set_facecolor('#f0f9ff')\n",
    "plt.rc(\"axes\", axisbelow=True)\n",
    "\n",
    "# Create the violin plot\n",
    "bp = ax.violinplot(data_to_plot, showmeans=False, showmedians=False, showextrema=True)\n",
    "label = ['Sham', 'Fixed Dose', 'Individualised dose']\n",
    "\n",
    "# Set axis style\n",
    "for ax in [ax]:\n",
    "    set_axis_style(ax, label)\n",
    "\n",
    "# Set plot labels and title\n",
    "ax.set_xlabel('Stimulation condition', fontsize=22, fontname=\"sans-serif\")\n",
    "ax.set_ylabel('RT (ms)', fontsize=18, fontname=\"sans-serif\")\n",
    "ax.set_title('Reaction time', fontsize=26, fontname=\"sans-serif\")\n",
    "\n",
    "# Customize violin plot appearance\n",
    "for pc in bp['bodies']:\n",
    "    pc.set_facecolor('#cfe5f3')\n",
    "    pc.set_edgecolor('#1d78b6')\n",
    "    pc.set_alpha(0.7)\n",
    "\n",
    "# Calculate quartiles, whiskers, and medians\n",
    "quartile1, medians, quartile3 = np.percentile(data_to_plot, [25, 50, 75], axis=1)\n",
    "whiskers = np.array([\n",
    "    adjacent_values(sorted_array, q1, q3)\n",
    "    for sorted_array, q1, q3 in zip(data_to_plot, quartile1, quartile3)])\n",
    "whiskers_min, whiskers_max = whiskers[:, 0], whiskers[:, 0]\n",
    "\n",
    "# Plot medians, quartiles, and whiskers\n",
    "inds = np.arange(1, len(medians) + 1)\n",
    "ax.scatter(inds, medians, marker='o', color='black', s=30, zorder=3)\n",
    "ax.vlines(inds, quartile1, quartile3, color='black', linestyle='-', lw=5)\n",
    "ax.vlines(inds, whiskers_min, whiskers_max, color='black', linestyle='-', lw=4)\n",
    "\n",
    "# Uncomment the following line if you want to save the plot as an image file\n",
    "# plt.savefig(\".jpg\", format=\"jpg\", dpi=500)\n"
   ]
  },
  {
   "attachments": {},
   "cell_type": "markdown",
   "metadata": {},
   "source": [
    "Accuracy"
   ]
  },
  {
   "cell_type": "code",
   "execution_count": 45,
   "metadata": {},
   "outputs": [
    {
     "data": {
      "text/plain": [
       "<matplotlib.collections.LineCollection at 0x7f3622704ee0>"
      ]
     },
     "execution_count": 45,
     "metadata": {},
     "output_type": "execute_result"
    },
    {
     "data": {
      "image/png": "[encoded data removed]",
      "text/plain": [
       "<Figure size 864x504 with 1 Axes>"
      ]
     },
     "metadata": {
      "needs_background": "light"
     },
     "output_type": "display_data"
    }
   ],
   "source": [
    "data_to_plot = [acc_dict['Sham'], acc_dict['Fixed dose'], acc_dict['Individualised dose']]\n",
    "fig = plt.figure(figsize=(12, 7))\n",
    "\n",
    "# Create an axes instance\n",
    "ax = fig.add_axes([0.09, 0.1, 0.85, 0.84])\n",
    "ax.tick_params(axis='y', which='major', labelsize=12)\n",
    "ax.spines.right.set_visible(False)\n",
    "ax.spines.top.set_visible(False)\n",
    "ax.spines.left.set_visible(False)\n",
    "ax.spines.bottom.set_visible(False)\n",
    "ax.grid(True, axis=\"y\", color='w', linestyle='-', linewidth=1.2, which=\"major\", zorder=-1.0)\n",
    "ax.patch.set_facecolor('#f0f9ff')\n",
    "plt.rc(\"axes\", axisbelow=True)\n",
    "\n",
    "# Create the violin plot\n",
    "bp = ax.violinplot(data_to_plot, showmeans=False, showmedians=False, showextrema=True)\n",
    "labels = ['Sham', 'Fixed Dose', 'Individualised dose']\n",
    "\n",
    "# Set axis style\n",
    "for ax in [ax]:\n",
    "    set_axis_style(ax, labels)\n",
    "\n",
    "# Set plot labels and title\n",
    "ax.set_xlabel('Stimulation condition', fontsize=22, fontname=\"sans-serif\")\n",
    "ax.set_ylabel('Accuracy (%)', fontsize=18, fontname=\"sans-serif\")\n",
    "ax.set_title('Accuracy', fontsize=26, fontname=\"sans-serif\")\n",
    "\n",
    "# Customize violin plot appearance\n",
    "for pc in bp['bodies']:\n",
    "    pc.set_facecolor('#cfe5f3')\n",
    "    pc.set_edgecolor('#1d78b6')\n",
    "    pc.set_alpha(1)\n",
    "\n",
    "# Calculate quartiles, whiskers, and medians\n",
    "quartile1, medians, quartile3 = np.percentile(data_to_plot, [25, 50, 75], axis=1)\n",
    "whiskers = np.array([\n",
    "    adjacent_values(sorted_array, q1, q3)\n",
    "    for sorted_array, q1, q3 in zip(data_to_plot, quartile1, quartile3)])\n",
    "whiskers_min, whiskers_max = whiskers[:, 0], whiskers[:, 1]\n",
    "\n",
    "# Plot medians, quartiles, and whiskers\n",
    "inds = np.arange(1, len(medians) + 1)\n",
    "ax.scatter(inds, medians, marker='o', color='white', s=30, zorder=3)\n",
    "ax.vlines(inds, quartile1, quartile3, color='k', linestyle='-', lw=5)\n",
    "ax.vlines(inds, whiskers_min, whiskers_max, color='k', linestyle='-', lw=1)\n",
    "\n",
    "# Uncomment the following line if you want to save the plot as an image file\n",
    "# plt.savefig(\".jpg\", format=\"jpg\", dpi=500)\n"
   ]
  },
  {
   "attachments": {},
   "cell_type": "markdown",
   "metadata": {},
   "source": [
    "dprime"
   ]
  },
  {
   "cell_type": "code",
   "execution_count": 46,
   "metadata": {},
   "outputs": [
    {
     "data": {
      "text/plain": [
       "<matplotlib.collections.LineCollection at 0x7f362267f880>"
      ]
     },
     "execution_count": 46,
     "metadata": {},
     "output_type": "execute_result"
    },
    {
     "data": {
      "image/png": "[encoded data removed]",
      "text/plain": [
       "<Figure size 864x504 with 1 Axes>"
      ]
     },
     "metadata": {
      "needs_background": "light"
     },
     "output_type": "display_data"
    }
   ],
   "source": [
    "fix_dprime = dprime_dictt['Sham']['d_prime'].to_numpy()\n",
    "sham_dprime = dprime_dictt['Fixed dose']['d_prime'].to_numpy()\n",
    "ind_dprime = dprime_dictt['Individualised dose']['d_prime'].to_numpy()\n",
    "\n",
    "data_to_plot = [sham_dprime, fix_dprime, ind_dprime]\n",
    "fig = plt.figure(figsize=(12, 7))\n",
    "\n",
    "# Create an axes instance\n",
    "ax = fig.add_axes([0.09, 0.1, 0.85, 0.84])\n",
    "ax.tick_params(axis='y', which='major', labelsize=12)\n",
    "ax.spines.right.set_visible(False)\n",
    "ax.spines.top.set_visible(False)\n",
    "ax.spines.left.set_visible(False)\n",
    "ax.spines.bottom.set_visible(False)\n",
    "ax.grid(True, axis=\"y\", color='w', linestyle='-', linewidth=1.2, which=\"major\", zorder=-1.0)\n",
    "ax.patch.set_facecolor('#f0f9ff')\n",
    "plt.rc(\"axes\", axisbelow=True)\n",
    "\n",
    "# Create the violin plot\n",
    "bp = ax.violinplot(data_to_plot, showmeans=False, showmedians=False, showextrema=True)\n",
    "labels = ['Sham', 'Fixed Dose', 'Individualised dose']\n",
    "\n",
    "# Set axis style\n",
    "for ax in [ax]:\n",
    "    set_axis_style(ax, labels)\n",
    "\n",
    "ax.set_xlabel('Stimulation condition', fontsize=22, fontname=\"sans-serif\")\n",
    "ax.set_ylabel(\"d'\", fontsize=18, fontname=\"sans-serif\")\n",
    "ax.set_title(\"d'\", fontsize=26, fontname=\"sans-serif\")\n",
    "\n",
    "# Customize violin plot appearance\n",
    "for pc in bp['bodies']:\n",
    "    pc.set_facecolor('#cfe5f3')\n",
    "    pc.set_edgecolor('#1d78b6')\n",
    "    pc.set_alpha(1)\n",
    "\n",
    "# Calculate quartiles, whiskers, and medians\n",
    "quartile1, medians, quartile3 = np.percentile(data_to_plot, [25, 50, 75], axis=1)\n",
    "whiskers = np.array([\n",
    "    adjacent_values(sorted_array, q1, q3)\n",
    "    for sorted_array, q1, q3 in zip(data_to_plot, quartile1, quartile3)])\n",
    "whiskers_min, whiskers_max = whiskers[:, 0], whiskers[:, 1]\n",
    "\n",
    "inds = np.arange(1, len(medians) + 1)\n",
    "ax.scatter(inds, medians, marker='o', color='white', s=30, zorder=3)\n",
    "ax.vlines(inds, quartile1, quartile3, color='k', linestyle='-', lw=5)\n",
    "ax.vlines(inds, whiskers_min, whiskers_max, color='k', linestyle='-', lw=1)\n",
    "\n",
    "# Uncomment the following line if you want to save the plot as an image file\n",
    "# plt.savefig(\"/dPrime_sham.jpg\", format=\"jpg\", dpi=500)\n"
   ]
  },
  {
   "cell_type": "code",
   "execution_count": 47,
   "metadata": {},
   "outputs": [],
   "source": [
    "acc_fix = acc_dict[\"Fixed dose\"]\n",
    "acc_ind = acc_dict[\"Individualised dose\"]\n",
    "\n",
    "rt_fix = dataRt[\"Fixed dose\"].to_list()\n",
    "rt_ind = dataRt[\"Individualised dose\"].to_list()\n",
    "\n",
    "cond1 = [\"Fixed\"]*(len(acc_fix) + len(rt_fix))\n",
    "cond2 = [\"Individualised\"]*(len(acc_ind) + len(rt_ind))\n",
    "\n",
    "\n",
    "\n",
    "roi1 = [\"Accuracy\"]*len(acc_fix)\n",
    "roi2 = [\"RT\"]*len(rt_fix)\n",
    "roi3 = [\"Accuracy\"]*len(acc_ind)\n",
    "roi4 = [\"RT\"]*len(rt_ind)\n",
    "\n",
    "df_plot = pd.DataFrame({\"data\": acc_fix + rt_fix + acc_ind +  rt_ind, \"cond\" : cond1 + cond2, \"ROI\": roi1 + roi2 + roi3 + roi4})"
   ]
  },
  {
   "cell_type": "code",
   "execution_count": 53,
   "metadata": {},
   "outputs": [
    {
     "data": {
      "application/vnd.plotly.v1+json": {
       "config": {
        "plotlyServerURL": "https://plot.ly"
       },
       "data": [
        {
         "jitter": 0.05,
         "legendgroup": "Fixed",
         "line": {
          "color": "lightseagreen"
         },
         "meanline": {
          "visible": true
         },
         "name": "Fixed",
         "pointpos": -1.07,
         "points": "all",
         "scalegroup": "Fixed",
         "scalemode": "count",
         "showlegend": true,
         "side": "negative",
         "type": "violin",
         "x": [
          "Accuracy",
          "Accuracy",
          "Accuracy",
          "Accuracy",
          "Accuracy",
          "Accuracy",
          "Accuracy",
          "Accuracy",
          "Accuracy",
          "Accuracy",
          "Accuracy",
          "Accuracy",
          "Accuracy",
          "Accuracy",
          "Accuracy",
          "Accuracy",
          "Accuracy",
          "Accuracy",
          "Accuracy",
          "Accuracy",
          "Accuracy",
          "Accuracy",
          "Accuracy",
          "Accuracy",
          "Accuracy",
          "Accuracy",
          "Accuracy",
          "Accuracy",
          "Accuracy",
          "Accuracy",
          "Accuracy",
          "Accuracy",
          "Accuracy",
          "Accuracy",
          "Accuracy"
         ],
         "xaxis": "x2",
         "y": [
          88,
          85,
          100,
          97,
          71.5,
          93.5,
          99.5,
          89.5,
          84,
          93.5,
          88.5,
          95.5,
          94.5,
          83.5,
          97,
          83.5,
          93.5,
          88.5,
          83.5,
          93,
          96,
          86,
          94.5,
          93,
          95.5,
          92.5,
          93.5,
          94,
          82,
          93.5,
          84.5,
          97.5,
          79,
          95.5,
          97
         ]
        },
        {
         "jitter": 0.05,
         "legendgroup": "Individualised",
         "line": {
          "color": "mediumpurple"
         },
         "meanline": {
          "visible": true
         },
         "name": "Individualised",
         "pointpos": 1.1,
         "points": "all",
         "scalegroup": "Individualised",
         "scalemode": "count",
         "showlegend": true,
         "side": "positive",
         "type": "violin",
         "x": [
          "Accuracy",
          "Accuracy",
          "Accuracy",
          "Accuracy",
          "Accuracy",
          "Accuracy",
          "Accuracy",
          "Accuracy",
          "Accuracy",
          "Accuracy",
          "Accuracy",
          "Accuracy",
          "Accuracy",
          "Accuracy",
          "Accuracy",
          "Accuracy",
          "Accuracy",
          "Accuracy",
          "Accuracy",
          "Accuracy",
          "Accuracy",
          "Accuracy",
          "Accuracy",
          "Accuracy",
          "Accuracy",
          "Accuracy",
          "Accuracy",
          "Accuracy",
          "Accuracy",
          "Accuracy",
          "Accuracy",
          "Accuracy",
          "Accuracy",
          "Accuracy",
          "Accuracy"
         ],
         "xaxis": "x2",
         "y": [
          88,
          93,
          95.5,
          98.5,
          99.5,
          96,
          80,
          84.5,
          85.5,
          89,
          81,
          97,
          86,
          92.5,
          91.5,
          94.5,
          92.5,
          87.5,
          95,
          91.5,
          89.5,
          88.5,
          73.5,
          92.5,
          89,
          80.5,
          86,
          89,
          92,
          90,
          91.5,
          89.5,
          93.5,
          95.5,
          95.5
         ]
        }
       ],
       "layout": {
        "autosize": false,
        "font": {
         "size": 20
        },
        "height": 500,
        "plot_bgcolor": "#f0f9ff",
        "template": {
         "data": {
          "bar": [
           {
            "error_x": {
             "color": "#2a3f5f"
            },
            "error_y": {
             "color": "#2a3f5f"
            },
            "marker": {
             "line": {
              "color": "#E5ECF6",
              "width": 0.5
             },
             "pattern": {
              "fillmode": "overlay",
              "size": 10,
              "solidity": 0.2
             }
            },
            "type": "bar"
           }
          ],
          "barpolar": [
           {
            "marker": {
             "line": {
              "color": "#E5ECF6",
              "width": 0.5
             },
             "pattern": {
              "fillmode": "overlay",
              "size": 10,
              "solidity": 0.2
             }
            },
            "type": "barpolar"
           }
          ],
          "carpet": [
           {
            "aaxis": {
             "endlinecolor": "#2a3f5f",
             "gridcolor": "white",
             "linecolor": "white",
             "minorgridcolor": "white",
             "startlinecolor": "#2a3f5f"
            },
            "baxis": {
             "endlinecolor": "#2a3f5f",
             "gridcolor": "white",
             "linecolor": "white",
             "minorgridcolor": "white",
             "startlinecolor": "#2a3f5f"
            },
            "type": "carpet"
           }
          ],
          "choropleth": [
           {
            "colorbar": {
             "outlinewidth": 0,
             "ticks": ""
            },
            "type": "choropleth"
           }
          ],
          "contour": [
           {
            "colorbar": {
             "outlinewidth": 0,
             "ticks": ""
            },
            "colorscale": [
             [
              0,
              "#0d0887"
             ],
             [
              0.1111111111111111,
              "#46039f"
             ],
             [
              0.2222222222222222,
              "#7201a8"
             ],
             [
              0.3333333333333333,
              "#9c179e"
             ],
             [
              0.4444444444444444,
              "#bd3786"
             ],
             [
              0.5555555555555556,
              "#d8576b"
             ],
             [
              0.6666666666666666,
              "#ed7953"
             ],
             [
              0.7777777777777778,
              "#fb9f3a"
             ],
             [
              0.8888888888888888,
              "#fdca26"
             ],
             [
              1,
              "#f0f921"
             ]
            ],
            "type": "contour"
           }
          ],
          "contourcarpet": [
           {
            "colorbar": {
             "outlinewidth": 0,
             "ticks": ""
            },
            "type": "contourcarpet"
           }
          ],
          "heatmap": [
           {
            "colorbar": {
             "outlinewidth": 0,
             "ticks": ""
            },
            "colorscale": [
             [
              0,
              "#0d0887"
             ],
             [
              0.1111111111111111,
              "#46039f"
             ],
             [
              0.2222222222222222,
              "#7201a8"
             ],
             [
              0.3333333333333333,
              "#9c179e"
             ],
             [
              0.4444444444444444,
              "#bd3786"
             ],
             [
              0.5555555555555556,
              "#d8576b"
             ],
             [
              0.6666666666666666,
              "#ed7953"
             ],
             [
              0.7777777777777778,
              "#fb9f3a"
             ],
             [
              0.8888888888888888,
              "#fdca26"
             ],
             [
              1,
              "#f0f921"
             ]
            ],
            "type": "heatmap"
           }
          ],
          "heatmapgl": [
           {
            "colorbar": {
             "outlinewidth": 0,
             "ticks": ""
            },
            "colorscale": [
             [
              0,
              "#0d0887"
             ],
             [
              0.1111111111111111,
              "#46039f"
             ],
             [
              0.2222222222222222,
              "#7201a8"
             ],
             [
              0.3333333333333333,
              "#9c179e"
             ],
             [
              0.4444444444444444,
              "#bd3786"
             ],
             [
              0.5555555555555556,
              "#d8576b"
             ],
             [
              0.6666666666666666,
              "#ed7953"
             ],
             [
              0.7777777777777778,
              "#fb9f3a"
             ],
             [
              0.8888888888888888,
              "#fdca26"
             ],
             [
              1,
              "#f0f921"
             ]
            ],
            "type": "heatmapgl"
           }
          ],
          "histogram": [
           {
            "marker": {
             "pattern": {
              "fillmode": "overlay",
              "size": 10,
              "solidity": 0.2
             }
            },
            "type": "histogram"
           }
          ],
          "histogram2d": [
           {
            "colorbar": {
             "outlinewidth": 0,
             "ticks": ""
            },
            "colorscale": [
             [
              0,
              "#0d0887"
             ],
             [
              0.1111111111111111,
              "#46039f"
             ],
             [
              0.2222222222222222,
              "#7201a8"
             ],
             [
              0.3333333333333333,
              "#9c179e"
             ],
             [
              0.4444444444444444,
              "#bd3786"
             ],
             [
              0.5555555555555556,
              "#d8576b"
             ],
             [
              0.6666666666666666,
              "#ed7953"
             ],
             [
              0.7777777777777778,
              "#fb9f3a"
             ],
             [
              0.8888888888888888,
              "#fdca26"
             ],
             [
              1,
              "#f0f921"
             ]
            ],
            "type": "histogram2d"
           }
          ],
          "histogram2dcontour": [
           {
            "colorbar": {
             "outlinewidth": 0,
             "ticks": ""
            },
            "colorscale": [
             [
              0,
              "#0d0887"
             ],
             [
              0.1111111111111111,
              "#46039f"
             ],
             [
              0.2222222222222222,
              "#7201a8"
             ],
             [
              0.3333333333333333,
              "#9c179e"
             ],
             [
              0.4444444444444444,
              "#bd3786"
             ],
             [
              0.5555555555555556,
              "#d8576b"
             ],
             [
              0.6666666666666666,
              "#ed7953"
             ],
             [
              0.7777777777777778,
              "#fb9f3a"
             ],
             [
              0.8888888888888888,
              "#fdca26"
             ],
             [
              1,
              "#f0f921"
             ]
            ],
            "type": "histogram2dcontour"
           }
          ],
          "mesh3d": [
           {
            "colorbar": {
             "outlinewidth": 0,
             "ticks": ""
            },
            "type": "mesh3d"
           }
          ],
          "parcoords": [
           {
            "line": {
             "colorbar": {
              "outlinewidth": 0,
              "ticks": ""
             }
            },
            "type": "parcoords"
           }
          ],
          "pie": [
           {
            "automargin": true,
            "type": "pie"
           }
          ],
          "scatter": [
           {
            "marker": {
             "colorbar": {
              "outlinewidth": 0,
              "ticks": ""
             }
            },
            "type": "scatter"
           }
          ],
          "scatter3d": [
           {
            "line": {
             "colorbar": {
              "outlinewidth": 0,
              "ticks": ""
             }
            },
            "marker": {
             "colorbar": {
              "outlinewidth": 0,
              "ticks": ""
             }
            },
            "type": "scatter3d"
           }
          ],
          "scattercarpet": [
           {
            "marker": {
             "colorbar": {
              "outlinewidth": 0,
              "ticks": ""
             }
            },
            "type": "scattercarpet"
           }
          ],
          "scattergeo": [
           {
            "marker": {
             "colorbar": {
              "outlinewidth": 0,
              "ticks": ""
             }
            },
            "type": "scattergeo"
           }
          ],
          "scattergl": [
           {
            "marker": {
             "colorbar": {
              "outlinewidth": 0,
              "ticks": ""
             }
            },
            "type": "scattergl"
           }
          ],
          "scattermapbox": [
           {
            "marker": {
             "colorbar": {
              "outlinewidth": 0,
              "ticks": ""
             }
            },
            "type": "scattermapbox"
           }
          ],
          "scatterpolar": [
           {
            "marker": {
             "colorbar": {
              "outlinewidth": 0,
              "ticks": ""
             }
            },
            "type": "scatterpolar"
           }
          ],
          "scatterpolargl": [
           {
            "marker": {
             "colorbar": {
              "outlinewidth": 0,
              "ticks": ""
             }
            },
            "type": "scatterpolargl"
           }
          ],
          "scatterternary": [
           {
            "marker": {
             "colorbar": {
              "outlinewidth": 0,
              "ticks": ""
             }
            },
            "type": "scatterternary"
           }
          ],
          "surface": [
           {
            "colorbar": {
             "outlinewidth": 0,
             "ticks": ""
            },
            "colorscale": [
             [
              0,
              "#0d0887"
             ],
             [
              0.1111111111111111,
              "#46039f"
             ],
             [
              0.2222222222222222,
              "#7201a8"
             ],
             [
              0.3333333333333333,
              "#9c179e"
             ],
             [
              0.4444444444444444,
              "#bd3786"
             ],
             [
              0.5555555555555556,
              "#d8576b"
             ],
             [
              0.6666666666666666,
              "#ed7953"
             ],
             [
              0.7777777777777778,
              "#fb9f3a"
             ],
             [
              0.8888888888888888,
              "#fdca26"
             ],
             [
              1,
              "#f0f921"
             ]
            ],
            "type": "surface"
           }
          ],
          "table": [
           {
            "cells": {
             "fill": {
              "color": "#EBF0F8"
             },
             "line": {
              "color": "white"
             }
            },
            "header": {
             "fill": {
              "color": "#C8D4E3"
             },
             "line": {
              "color": "white"
             }
            },
            "type": "table"
           }
          ]
         },
         "layout": {
          "annotationdefaults": {
           "arrowcolor": "#2a3f5f",
           "arrowhead": 0,
           "arrowwidth": 1
          },
          "autotypenumbers": "strict",
          "coloraxis": {
           "colorbar": {
            "outlinewidth": 0,
            "ticks": ""
           }
          },
          "colorscale": {
           "diverging": [
            [
             0,
             "#8e0152"
            ],
            [
             0.1,
             "#c51b7d"
            ],
            [
             0.2,
             "#de77ae"
            ],
            [
             0.3,
             "#f1b6da"
            ],
            [
             0.4,
             "#fde0ef"
            ],
            [
             0.5,
             "#f7f7f7"
            ],
            [
             0.6,
             "#e6f5d0"
            ],
            [
             0.7,
             "#b8e186"
            ],
            [
             0.8,
             "#7fbc41"
            ],
            [
             0.9,
             "#4d9221"
            ],
            [
             1,
             "#276419"
            ]
           ],
           "sequential": [
            [
             0,
             "#0d0887"
            ],
            [
             0.1111111111111111,
             "#46039f"
            ],
            [
             0.2222222222222222,
             "#7201a8"
            ],
            [
             0.3333333333333333,
             "#9c179e"
            ],
            [
             0.4444444444444444,
             "#bd3786"
            ],
            [
             0.5555555555555556,
             "#d8576b"
            ],
            [
             0.6666666666666666,
             "#ed7953"
            ],
            [
             0.7777777777777778,
             "#fb9f3a"
            ],
            [
             0.8888888888888888,
             "#fdca26"
            ],
            [
             1,
             "#f0f921"
            ]
           ],
           "sequentialminus": [
            [
             0,
             "#0d0887"
            ],
            [
             0.1111111111111111,
             "#46039f"
            ],
            [
             0.2222222222222222,
             "#7201a8"
            ],
            [
             0.3333333333333333,
             "#9c179e"
            ],
            [
             0.4444444444444444,
             "#bd3786"
            ],
            [
             0.5555555555555556,
             "#d8576b"
            ],
            [
             0.6666666666666666,
             "#ed7953"
            ],
            [
             0.7777777777777778,
             "#fb9f3a"
            ],
            [
             0.8888888888888888,
             "#fdca26"
            ],
            [
             1,
             "#f0f921"
            ]
           ]
          },
          "colorway": [
           "#636efa",
           "#EF553B",
           "#00cc96",
           "#ab63fa",
           "#FFA15A",
           "#19d3f3",
           "#FF6692",
           "#B6E880",
           "#FF97FF",
           "#FECB52"
          ],
          "font": {
           "color": "#2a3f5f"
          },
          "geo": {
           "bgcolor": "white",
           "lakecolor": "white",
           "landcolor": "#E5ECF6",
           "showlakes": true,
           "showland": true,
           "subunitcolor": "white"
          },
          "hoverlabel": {
           "align": "left"
          },
          "hovermode": "closest",
          "mapbox": {
           "style": "light"
          },
          "paper_bgcolor": "white",
          "plot_bgcolor": "#E5ECF6",
          "polar": {
           "angularaxis": {
            "gridcolor": "white",
            "linecolor": "white",
            "ticks": ""
           },
           "bgcolor": "#E5ECF6",
           "radialaxis": {
            "gridcolor": "white",
            "linecolor": "white",
            "ticks": ""
           }
          },
          "scene": {
           "xaxis": {
            "backgroundcolor": "#E5ECF6",
            "gridcolor": "white",
            "gridwidth": 2,
            "linecolor": "white",
            "showbackground": true,
            "ticks": "",
            "zerolinecolor": "white"
           },
           "yaxis": {
            "backgroundcolor": "#E5ECF6",
            "gridcolor": "white",
            "gridwidth": 2,
            "linecolor": "white",
            "showbackground": true,
            "ticks": "",
            "zerolinecolor": "white"
           },
           "zaxis": {
            "backgroundcolor": "#E5ECF6",
            "gridcolor": "white",
            "gridwidth": 2,
            "linecolor": "white",
            "showbackground": true,
            "ticks": "",
            "zerolinecolor": "white"
           }
          },
          "shapedefaults": {
           "line": {
            "color": "#2a3f5f"
           }
          },
          "ternary": {
           "aaxis": {
            "gridcolor": "white",
            "linecolor": "white",
            "ticks": ""
           },
           "baxis": {
            "gridcolor": "white",
            "linecolor": "white",
            "ticks": ""
           },
           "bgcolor": "#E5ECF6",
           "caxis": {
            "gridcolor": "white",
            "linecolor": "white",
            "ticks": ""
           }
          },
          "title": {
           "x": 0.05
          },
          "xaxis": {
           "automargin": true,
           "gridcolor": "white",
           "linecolor": "white",
           "ticks": "",
           "title": {
            "standoff": 15
           },
           "zerolinecolor": "white",
           "zerolinewidth": 2
          },
          "yaxis": {
           "automargin": true,
           "gridcolor": "white",
           "linecolor": "white",
           "ticks": "",
           "title": {
            "standoff": 15
           },
           "zerolinecolor": "white",
           "zerolinewidth": 2
          }
         }
        },
        "title": {
         "text": "Behavioural Performance"
        },
        "violingap": 0.3,
        "violingroupgap": 0,
        "violinmode": "overlay",
        "width": 700,
        "yaxis": {
         "title": {
          "text": "Accuracy(%)"
         }
        }
       }
      }
     },
     "metadata": {},
     "output_type": "display_data"
    },
    {
     "data": {
      "application/vnd.plotly.v1+json": {
       "config": {
        "plotlyServerURL": "https://plot.ly"
       },
       "data": [
        {
         "jitter": 0.05,
         "legendgroup": "Fixed",
         "line": {
          "color": "lightseagreen"
         },
         "meanline": {
          "visible": true
         },
         "name": "Fixed",
         "pointpos": -1.07,
         "points": "all",
         "scalegroup": "Fixed",
         "scalemode": "count",
         "showlegend": true,
         "side": "negative",
         "type": "violin",
         "x": [
          "RT",
          "RT",
          "RT",
          "RT",
          "RT",
          "RT",
          "RT",
          "RT",
          "RT",
          "RT",
          "RT",
          "RT",
          "RT",
          "RT",
          "RT",
          "RT",
          "RT",
          "RT",
          "RT",
          "RT",
          "RT",
          "RT",
          "RT",
          "RT",
          "RT",
          "RT",
          "RT",
          "RT",
          "RT",
          "RT",
          "RT",
          "RT",
          "RT",
          "RT",
          "RT"
         ],
         "xaxis": "x2",
         "y": [
          918.0045454545451,
          667.5578947368423,
          664.8697674418605,
          664.8695652173913,
          731.5583333333333,
          549.6862068965518,
          915.4205128205128,
          607.1842105263157,
          891.3000000000001,
          570.8333333333335,
          607.3804347826087,
          1006.4521739130437,
          813.8065217391305,
          826.523076923077,
          655.853846153846,
          646.3620689655172,
          698.6999999999998,
          694.2261904761904,
          570.5041666666667,
          1025.6704545454543,
          551.2512820512821,
          685.7976744186046,
          494.4199999999998,
          493.49347826086944,
          738.7717391304348,
          627.8499999999999,
          823.7973684210526,
          935.5799999999998,
          772.7534883720931,
          426.68750000000006,
          563.5173913043479,
          854.1770833333334,
          536.39375,
          483.80937500000005,
          719.0692307692306
         ]
        },
        {
         "jitter": 0.05,
         "legendgroup": "Individualised",
         "line": {
          "color": "mediumpurple"
         },
         "meanline": {
          "visible": true
         },
         "name": "Individualised",
         "pointpos": 1.1,
         "points": "all",
         "scalegroup": "Individualised",
         "scalemode": "count",
         "showlegend": true,
         "side": "positive",
         "type": "violin",
         "x": [
          "RT",
          "RT",
          "RT",
          "RT",
          "RT",
          "RT",
          "RT",
          "RT",
          "RT",
          "RT",
          "RT",
          "RT",
          "RT",
          "RT",
          "RT",
          "RT",
          "RT",
          "RT",
          "RT",
          "RT",
          "RT",
          "RT",
          "RT",
          "RT",
          "RT",
          "RT",
          "RT",
          "RT",
          "RT",
          "RT",
          "RT",
          "RT",
          "RT",
          "RT",
          "RT"
         ],
         "xaxis": "x2",
         "y": [
          924.2969696969695,
          591.085294117647,
          623.4229166666668,
          617.9914285714284,
          674.263043478261,
          508.9236842105263,
          720.751724137931,
          703.5153846153846,
          856.6190476190475,
          694.926530612245,
          494.4928571428571,
          822.7818181818183,
          970.6577777777779,
          744.5666666666666,
          1019.106976744186,
          674.0458333333332,
          754.3966666666668,
          700.9860465116278,
          980.3550000000002,
          578.0241379310345,
          590.0828571428569,
          597.5519999999998,
          975.4558139534885,
          745.0756756756757,
          843.6885714285714,
          674.3538461538462,
          683.2775510204083,
          678.9720930232558,
          846.7033333333334,
          598.9162790697675,
          576.1326530612245,
          628.225,
          551.2555555555556,
          591.8536585365854,
          921.635135135135
         ]
        }
       ],
       "layout": {
        "autosize": false,
        "font": {
         "size": 20
        },
        "height": 500,
        "plot_bgcolor": "#f0f9ff",
        "template": {
         "data": {
          "bar": [
           {
            "error_x": {
             "color": "#2a3f5f"
            },
            "error_y": {
             "color": "#2a3f5f"
            },
            "marker": {
             "line": {
              "color": "#E5ECF6",
              "width": 0.5
             },
             "pattern": {
              "fillmode": "overlay",
              "size": 10,
              "solidity": 0.2
             }
            },
            "type": "bar"
           }
          ],
          "barpolar": [
           {
            "marker": {
             "line": {
              "color": "#E5ECF6",
              "width": 0.5
             },
             "pattern": {
              "fillmode": "overlay",
              "size": 10,
              "solidity": 0.2
             }
            },
            "type": "barpolar"
           }
          ],
          "carpet": [
           {
            "aaxis": {
             "endlinecolor": "#2a3f5f",
             "gridcolor": "white",
             "linecolor": "white",
             "minorgridcolor": "white",
             "startlinecolor": "#2a3f5f"
            },
            "baxis": {
             "endlinecolor": "#2a3f5f",
             "gridcolor": "white",
             "linecolor": "white",
             "minorgridcolor": "white",
             "startlinecolor": "#2a3f5f"
            },
            "type": "carpet"
           }
          ],
          "choropleth": [
           {
            "colorbar": {
             "outlinewidth": 0,
             "ticks": ""
            },
            "type": "choropleth"
           }
          ],
          "contour": [
           {
            "colorbar": {
             "outlinewidth": 0,
             "ticks": ""
            },
            "colorscale": [
             [
              0,
              "#0d0887"
             ],
             [
              0.1111111111111111,
              "#46039f"
             ],
             [
              0.2222222222222222,
              "#7201a8"
             ],
             [
              0.3333333333333333,
              "#9c179e"
             ],
             [
              0.4444444444444444,
              "#bd3786"
             ],
             [
              0.5555555555555556,
              "#d8576b"
             ],
             [
              0.6666666666666666,
              "#ed7953"
             ],
             [
              0.7777777777777778,
              "#fb9f3a"
             ],
             [
              0.8888888888888888,
              "#fdca26"
             ],
             [
              1,
              "#f0f921"
             ]
            ],
            "type": "contour"
           }
          ],
          "contourcarpet": [
           {
            "colorbar": {
             "outlinewidth": 0,
             "ticks": ""
            },
            "type": "contourcarpet"
           }
          ],
          "heatmap": [
           {
            "colorbar": {
             "outlinewidth": 0,
             "ticks": ""
            },
            "colorscale": [
             [
              0,
              "#0d0887"
             ],
             [
              0.1111111111111111,
              "#46039f"
             ],
             [
              0.2222222222222222,
              "#7201a8"
             ],
             [
              0.3333333333333333,
              "#9c179e"
             ],
             [
              0.4444444444444444,
              "#bd3786"
             ],
             [
              0.5555555555555556,
              "#d8576b"
             ],
             [
              0.6666666666666666,
              "#ed7953"
             ],
             [
              0.7777777777777778,
              "#fb9f3a"
             ],
             [
              0.8888888888888888,
              "#fdca26"
             ],
             [
              1,
              "#f0f921"
             ]
            ],
            "type": "heatmap"
           }
          ],
          "heatmapgl": [
           {
            "colorbar": {
             "outlinewidth": 0,
             "ticks": ""
            },
            "colorscale": [
             [
              0,
              "#0d0887"
             ],
             [
              0.1111111111111111,
              "#46039f"
             ],
             [
              0.2222222222222222,
              "#7201a8"
             ],
             [
              0.3333333333333333,
              "#9c179e"
             ],
             [
              0.4444444444444444,
              "#bd3786"
             ],
             [
              0.5555555555555556,
              "#d8576b"
             ],
             [
              0.6666666666666666,
              "#ed7953"
             ],
             [
              0.7777777777777778,
              "#fb9f3a"
             ],
             [
              0.8888888888888888,
              "#fdca26"
             ],
             [
              1,
              "#f0f921"
             ]
            ],
            "type": "heatmapgl"
           }
          ],
          "histogram": [
           {
            "marker": {
             "pattern": {
              "fillmode": "overlay",
              "size": 10,
              "solidity": 0.2
             }
            },
            "type": "histogram"
           }
          ],
          "histogram2d": [
           {
            "colorbar": {
             "outlinewidth": 0,
             "ticks": ""
            },
            "colorscale": [
             [
              0,
              "#0d0887"
             ],
             [
              0.1111111111111111,
              "#46039f"
             ],
             [
              0.2222222222222222,
              "#7201a8"
             ],
             [
              0.3333333333333333,
              "#9c179e"
             ],
             [
              0.4444444444444444,
              "#bd3786"
             ],
             [
              0.5555555555555556,
              "#d8576b"
             ],
             [
              0.6666666666666666,
              "#ed7953"
             ],
             [
              0.7777777777777778,
              "#fb9f3a"
             ],
             [
              0.8888888888888888,
              "#fdca26"
             ],
             [
              1,
              "#f0f921"
             ]
            ],
            "type": "histogram2d"
           }
          ],
          "histogram2dcontour": [
           {
            "colorbar": {
             "outlinewidth": 0,
             "ticks": ""
            },
            "colorscale": [
             [
              0,
              "#0d0887"
             ],
             [
              0.1111111111111111,
              "#46039f"
             ],
             [
              0.2222222222222222,
              "#7201a8"
             ],
             [
              0.3333333333333333,
              "#9c179e"
             ],
             [
              0.4444444444444444,
              "#bd3786"
             ],
             [
              0.5555555555555556,
              "#d8576b"
             ],
             [
              0.6666666666666666,
              "#ed7953"
             ],
             [
              0.7777777777777778,
              "#fb9f3a"
             ],
             [
              0.8888888888888888,
              "#fdca26"
             ],
             [
              1,
              "#f0f921"
             ]
            ],
            "type": "histogram2dcontour"
           }
          ],
          "mesh3d": [
           {
            "colorbar": {
             "outlinewidth": 0,
             "ticks": ""
            },
            "type": "mesh3d"
           }
          ],
          "parcoords": [
           {
            "line": {
             "colorbar": {
              "outlinewidth": 0,
              "ticks": ""
             }
            },
            "type": "parcoords"
           }
          ],
          "pie": [
           {
            "automargin": true,
            "type": "pie"
           }
          ],
          "scatter": [
           {
            "marker": {
             "colorbar": {
              "outlinewidth": 0,
              "ticks": ""
             }
            },
            "type": "scatter"
           }
          ],
          "scatter3d": [
           {
            "line": {
             "colorbar": {
              "outlinewidth": 0,
              "ticks": ""
             }
            },
            "marker": {
             "colorbar": {
              "outlinewidth": 0,
              "ticks": ""
             }
            },
            "type": "scatter3d"
           }
          ],
          "scattercarpet": [
           {
            "marker": {
             "colorbar": {
              "outlinewidth": 0,
              "ticks": ""
             }
            },
            "type": "scattercarpet"
           }
          ],
          "scattergeo": [
           {
            "marker": {
             "colorbar": {
              "outlinewidth": 0,
              "ticks": ""
             }
            },
            "type": "scattergeo"
           }
          ],
          "scattergl": [
           {
            "marker": {
             "colorbar": {
              "outlinewidth": 0,
              "ticks": ""
             }
            },
            "type": "scattergl"
           }
          ],
          "scattermapbox": [
           {
            "marker": {
             "colorbar": {
              "outlinewidth": 0,
              "ticks": ""
             }
            },
            "type": "scattermapbox"
           }
          ],
          "scatterpolar": [
           {
            "marker": {
             "colorbar": {
              "outlinewidth": 0,
              "ticks": ""
             }
            },
            "type": "scatterpolar"
           }
          ],
          "scatterpolargl": [
           {
            "marker": {
             "colorbar": {
              "outlinewidth": 0,
              "ticks": ""
             }
            },
            "type": "scatterpolargl"
           }
          ],
          "scatterternary": [
           {
            "marker": {
             "colorbar": {
              "outlinewidth": 0,
              "ticks": ""
             }
            },
            "type": "scatterternary"
           }
          ],
          "surface": [
           {
            "colorbar": {
             "outlinewidth": 0,
             "ticks": ""
            },
            "colorscale": [
             [
              0,
              "#0d0887"
             ],
             [
              0.1111111111111111,
              "#46039f"
             ],
             [
              0.2222222222222222,
              "#7201a8"
             ],
             [
              0.3333333333333333,
              "#9c179e"
             ],
             [
              0.4444444444444444,
              "#bd3786"
             ],
             [
              0.5555555555555556,
              "#d8576b"
             ],
             [
              0.6666666666666666,
              "#ed7953"
             ],
             [
              0.7777777777777778,
              "#fb9f3a"
             ],
             [
              0.8888888888888888,
              "#fdca26"
             ],
             [
              1,
              "#f0f921"
             ]
            ],
            "type": "surface"
           }
          ],
          "table": [
           {
            "cells": {
             "fill": {
              "color": "#EBF0F8"
             },
             "line": {
              "color": "white"
             }
            },
            "header": {
             "fill": {
              "color": "#C8D4E3"
             },
             "line": {
              "color": "white"
             }
            },
            "type": "table"
           }
          ]
         },
         "layout": {
          "annotationdefaults": {
           "arrowcolor": "#2a3f5f",
           "arrowhead": 0,
           "arrowwidth": 1
          },
          "autotypenumbers": "strict",
          "coloraxis": {
           "colorbar": {
            "outlinewidth": 0,
            "ticks": ""
           }
          },
          "colorscale": {
           "diverging": [
            [
             0,
             "#8e0152"
            ],
            [
             0.1,
             "#c51b7d"
            ],
            [
             0.2,
             "#de77ae"
            ],
            [
             0.3,
             "#f1b6da"
            ],
            [
             0.4,
             "#fde0ef"
            ],
            [
             0.5,
             "#f7f7f7"
            ],
            [
             0.6,
             "#e6f5d0"
            ],
            [
             0.7,
             "#b8e186"
            ],
            [
             0.8,
             "#7fbc41"
            ],
            [
             0.9,
             "#4d9221"
            ],
            [
             1,
             "#276419"
            ]
           ],
           "sequential": [
            [
             0,
             "#0d0887"
            ],
            [
             0.1111111111111111,
             "#46039f"
            ],
            [
             0.2222222222222222,
             "#7201a8"
            ],
            [
             0.3333333333333333,
             "#9c179e"
            ],
            [
             0.4444444444444444,
             "#bd3786"
            ],
            [
             0.5555555555555556,
             "#d8576b"
            ],
            [
             0.6666666666666666,
             "#ed7953"
            ],
            [
             0.7777777777777778,
             "#fb9f3a"
            ],
            [
             0.8888888888888888,
             "#fdca26"
            ],
            [
             1,
             "#f0f921"
            ]
           ],
           "sequentialminus": [
            [
             0,
             "#0d0887"
            ],
            [
             0.1111111111111111,
             "#46039f"
            ],
            [
             0.2222222222222222,
             "#7201a8"
            ],
            [
             0.3333333333333333,
             "#9c179e"
            ],
            [
             0.4444444444444444,
             "#bd3786"
            ],
            [
             0.5555555555555556,
             "#d8576b"
            ],
            [
             0.6666666666666666,
             "#ed7953"
            ],
            [
             0.7777777777777778,
             "#fb9f3a"
            ],
            [
             0.8888888888888888,
             "#fdca26"
            ],
            [
             1,
             "#f0f921"
            ]
           ]
          },
          "colorway": [
           "#636efa",
           "#EF553B",
           "#00cc96",
           "#ab63fa",
           "#FFA15A",
           "#19d3f3",
           "#FF6692",
           "#B6E880",
           "#FF97FF",
           "#FECB52"
          ],
          "font": {
           "color": "#2a3f5f"
          },
          "geo": {
           "bgcolor": "white",
           "lakecolor": "white",
           "landcolor": "#E5ECF6",
           "showlakes": true,
           "showland": true,
           "subunitcolor": "white"
          },
          "hoverlabel": {
           "align": "left"
          },
          "hovermode": "closest",
          "mapbox": {
           "style": "light"
          },
          "paper_bgcolor": "white",
          "plot_bgcolor": "#E5ECF6",
          "polar": {
           "angularaxis": {
            "gridcolor": "white",
            "linecolor": "white",
            "ticks": ""
           },
           "bgcolor": "#E5ECF6",
           "radialaxis": {
            "gridcolor": "white",
            "linecolor": "white",
            "ticks": ""
           }
          },
          "scene": {
           "xaxis": {
            "backgroundcolor": "#E5ECF6",
            "gridcolor": "white",
            "gridwidth": 2,
            "linecolor": "white",
            "showbackground": true,
            "ticks": "",
            "zerolinecolor": "white"
           },
           "yaxis": {
            "backgroundcolor": "#E5ECF6",
            "gridcolor": "white",
            "gridwidth": 2,
            "linecolor": "white",
            "showbackground": true,
            "ticks": "",
            "zerolinecolor": "white"
           },
           "zaxis": {
            "backgroundcolor": "#E5ECF6",
            "gridcolor": "white",
            "gridwidth": 2,
            "linecolor": "white",
            "showbackground": true,
            "ticks": "",
            "zerolinecolor": "white"
           }
          },
          "shapedefaults": {
           "line": {
            "color": "#2a3f5f"
           }
          },
          "ternary": {
           "aaxis": {
            "gridcolor": "white",
            "linecolor": "white",
            "ticks": ""
           },
           "baxis": {
            "gridcolor": "white",
            "linecolor": "white",
            "ticks": ""
           },
           "bgcolor": "#E5ECF6",
           "caxis": {
            "gridcolor": "white",
            "linecolor": "white",
            "ticks": ""
           }
          },
          "title": {
           "x": 0.05
          },
          "xaxis": {
           "automargin": true,
           "gridcolor": "white",
           "linecolor": "white",
           "ticks": "",
           "title": {
            "standoff": 15
           },
           "zerolinecolor": "white",
           "zerolinewidth": 2
          },
          "yaxis": {
           "automargin": true,
           "gridcolor": "white",
           "linecolor": "white",
           "ticks": "",
           "title": {
            "standoff": 15
           },
           "zerolinecolor": "white",
           "zerolinewidth": 2
          }
         }
        },
        "title": {
         "text": "Behavioural Performance"
        },
        "violingap": 0.3,
        "violingroupgap": 0,
        "violinmode": "overlay",
        "width": 700,
        "yaxis": {
         "title": {
          "text": "RT (ms)"
         }
        }
       }
      }
     },
     "metadata": {},
     "output_type": "display_data"
    }
   ],
   "source": [
    "show_legend = [True,True,False,False]\n",
    "\n",
    "for ii in range(2):\n",
    "    fig = go.Figure()\n",
    "    i = ii # For accuracy::if ii = 0 ; RT:: ii = 1 for accuracy\n",
    "    fig.add_trace(go.Violin(x=df_plot['ROI'][(df_plot['cond'] == 'Fixed') &\n",
    "                                    (df_plot['ROI'] == pd.unique(df_plot['ROI'])[i])],\n",
    "                        y=df_plot['data'][(df_plot['cond'] == 'Fixed')&\n",
    "                                            (df_plot['ROI'] == pd.unique(df_plot['ROI'])[i])],\n",
    "                        legendgroup='Fixed', scalegroup='Fixed', name='Fixed',\n",
    "                        side='negative',\n",
    "                        pointpos=-1.07, # where to position points\n",
    "                        line_color='lightseagreen',\n",
    "                        showlegend=show_legend[i],\n",
    "                        xaxis = \"x2\"))\n",
    "            \n",
    "\n",
    "    fig.add_trace(go.Violin(x=df_plot['ROI'][(df_plot['cond'] == 'Individualised') &\n",
    "                                    (df_plot['ROI'] == pd.unique(df_plot['ROI'])[i])],\n",
    "                        y=df_plot['data'][(df_plot['cond'] == 'Individualised')&\n",
    "                                            (df_plot['ROI'] == pd.unique(df_plot['ROI'])[i])],\n",
    "                        legendgroup='Individualised', scalegroup='Individualised', name='Individualised',\n",
    "                        side='positive',\n",
    "                        pointpos=1.1, # where to position points\n",
    "                        line_color='mediumpurple',\n",
    "                        showlegend=show_legend[i],\n",
    "                        xaxis=\"x2\"\n",
    "                        ))\n",
    "                        \n",
    "\n",
    "\n",
    "    # update characteristics shared by all traces\n",
    "    fig.update_traces(meanline_visible=True,\n",
    "                    points='all', # show all points\n",
    "                    jitter=0.05,  # add some jitter on points for better visibility\n",
    "                    scalemode='count') #scale violin plot area with total count\n",
    "    if ii == 1:\n",
    "        fig.update_layout(\n",
    "            title_text=\"Behavioural Performance\",\n",
    "            # xaxis_title = \"ROI\",\n",
    "            yaxis_title = 'RT (ms)', #\"Rt (ms)\" if i =0 ## change for Accuracy and RT\n",
    "            violingap=0.3, violingroupgap=0, violinmode='overlay',\n",
    "            autosize = False,\n",
    "            width = 700, \n",
    "            height = 500,\n",
    "            font_size = 20,\n",
    "            plot_bgcolor = '#f0f9ff')\n",
    "    else:\n",
    "        fig.update_layout(\n",
    "            title_text=\"Behavioural Performance\",\n",
    "            # xaxis_title = \"ROI\",\n",
    "            yaxis_title = 'Accuracy(%)',\n",
    "            violingap=0.3, violingroupgap=0, violinmode='overlay',\n",
    "            autosize = False,\n",
    "            width = 700, \n",
    "            height = 500,\n",
    "            font_size = 20,\n",
    "            plot_bgcolor = '#f0f9ff')\n",
    "    # fig.write_image(\"/RT.jpg\", scale = 12)\n",
    "    fig.show()"
   ]
  },
  {
   "cell_type": "code",
   "execution_count": 51,
   "metadata": {},
   "outputs": [],
   "source": [
    "# dPrime \n",
    "data_fix = pd.DataFrame()\n",
    "data_ind = pd.DataFrame()\n",
    "data_fix[\"dprime\"] = dprime_dictt['Fixed dose']\n",
    "data_fix[\"cond\"] = [\"Fixed\"]*len(data_fix) \n",
    "data_ind[\"dprime\"] = dprime_dictt['Individualised dose']\n",
    "data_ind[\"cond\"] = [\"Individualised\"]*len(data_ind)\n",
    "\n",
    "df_dprime_violin = pd.concat([data_fix, data_ind])\n",
    "df_dprime_violin[\"label\"] = [\"_\"]*len(df_dprime_violin)\n"
   ]
  },
  {
   "cell_type": "code",
   "execution_count": 52,
   "metadata": {},
   "outputs": [
    {
     "data": {
      "application/vnd.plotly.v1+json": {
       "config": {
        "plotlyServerURL": "https://plot.ly"
       },
       "data": [
        {
         "jitter": 0.05,
         "legendgroup": "Fixed",
         "line": {
          "color": "lightseagreen"
         },
         "meanline": {
          "visible": true
         },
         "name": "Fixed",
         "pointpos": -1.07,
         "points": "all",
         "scalegroup": "Fixed",
         "scalemode": "count",
         "showlegend": true,
         "side": "negative",
         "type": "violin",
         "x": [
          "_",
          "_",
          "_",
          "_",
          "_",
          "_",
          "_",
          "_",
          "_",
          "_",
          "_",
          "_",
          "_",
          "_",
          "_",
          "_",
          "_",
          "_",
          "_",
          "_",
          "_",
          "_",
          "_",
          "_",
          "_",
          "_",
          "_",
          "_",
          "_",
          "_",
          "_",
          "_",
          "_",
          "_",
          "_"
         ],
         "y": [
          2.2556423897736737,
          1.8008396547169037,
          5.042728457501706,
          3.6214440817541043,
          1.1459896666109268,
          3.1810243536894482,
          4.801069664890202,
          2.2732765823876067,
          1.6533024975128594,
          2.8310054120671255,
          2.157711581211096,
          3.4287531741103248,
          3.0125260291352802,
          1.6279135193934215,
          3.6085225052286765,
          1.6069650394514836,
          2.8283770094706755,
          2.1923779195121162,
          1.6133614650017332,
          2.906154928508555,
          3.3372782486299575,
          1.9811850030170213,
          3.083138663167788,
          2.906154928508555,
          3.2287357026979135,
          2.7600514734719104,
          2.853053894924246,
          2.9142384670758785,
          1.4552251437743666,
          2.9598451549064864,
          1.8829663792436753,
          3.8044349818839924,
          1.1811178450331306,
          3.4287531741103248,
          3.6828927595724936
         ]
        },
        {
         "jitter": 0.05,
         "legendgroup": "Individualised",
         "line": {
          "color": "mediumpurple"
         },
         "meanline": {
          "visible": true
         },
         "name": "Individualised",
         "pointpos": 1.1,
         "points": "all",
         "scalegroup": "Individualised",
         "scalemode": "count",
         "showlegend": true,
         "side": "positive",
         "type": "violin",
         "x": [
          "_",
          "_",
          "_",
          "_",
          "_",
          "_",
          "_",
          "_",
          "_",
          "_",
          "_",
          "_",
          "_",
          "_",
          "_",
          "_",
          "_",
          "_",
          "_",
          "_",
          "_",
          "_",
          "_",
          "_",
          "_",
          "_",
          "_",
          "_",
          "_",
          "_",
          "_",
          "_",
          "_",
          "_",
          "_"
         ],
         "y": [
          2.1113741231497203,
          2.7583864436731114,
          3.2966918622594275,
          4.270121432076294,
          4.7701294940926875,
          3.731816013489978,
          1.2946035578301522,
          1.7029768473407727,
          1.8081206977326532,
          2.469719624580271,
          1.5185346217046094,
          3.6214440817541043,
          2.053748910631823,
          2.6755403598338368,
          2.5492314778066065,
          3.305459665849023,
          2.693680805816689,
          2.1598150622082324,
          3.134068251446779,
          2.740773034152512,
          2.275086583960211,
          2.137761977709774,
          0.9690098238424136,
          2.7826349337435223,
          2.2463822557023274,
          1.3317051490093341,
          1.879960582000006,
          2.8614592363071596,
          2.69709431602474,
          2.3214125082510724,
          2.5492314778066065,
          2.892974859584559,
          2.853053894924246,
          3.2966918622594275,
          3.213758253864925
         ]
        }
       ],
       "layout": {
        "autosize": false,
        "font": {
         "size": 20
        },
        "height": 500,
        "plot_bgcolor": "#f0f9ff",
        "template": {
         "data": {
          "bar": [
           {
            "error_x": {
             "color": "#2a3f5f"
            },
            "error_y": {
             "color": "#2a3f5f"
            },
            "marker": {
             "line": {
              "color": "#E5ECF6",
              "width": 0.5
             },
             "pattern": {
              "fillmode": "overlay",
              "size": 10,
              "solidity": 0.2
             }
            },
            "type": "bar"
           }
          ],
          "barpolar": [
           {
            "marker": {
             "line": {
              "color": "#E5ECF6",
              "width": 0.5
             },
             "pattern": {
              "fillmode": "overlay",
              "size": 10,
              "solidity": 0.2
             }
            },
            "type": "barpolar"
           }
          ],
          "carpet": [
           {
            "aaxis": {
             "endlinecolor": "#2a3f5f",
             "gridcolor": "white",
             "linecolor": "white",
             "minorgridcolor": "white",
             "startlinecolor": "#2a3f5f"
            },
            "baxis": {
             "endlinecolor": "#2a3f5f",
             "gridcolor": "white",
             "linecolor": "white",
             "minorgridcolor": "white",
             "startlinecolor": "#2a3f5f"
            },
            "type": "carpet"
           }
          ],
          "choropleth": [
           {
            "colorbar": {
             "outlinewidth": 0,
             "ticks": ""
            },
            "type": "choropleth"
           }
          ],
          "contour": [
           {
            "colorbar": {
             "outlinewidth": 0,
             "ticks": ""
            },
            "colorscale": [
             [
              0,
              "#0d0887"
             ],
             [
              0.1111111111111111,
              "#46039f"
             ],
             [
              0.2222222222222222,
              "#7201a8"
             ],
             [
              0.3333333333333333,
              "#9c179e"
             ],
             [
              0.4444444444444444,
              "#bd3786"
             ],
             [
              0.5555555555555556,
              "#d8576b"
             ],
             [
              0.6666666666666666,
              "#ed7953"
             ],
             [
              0.7777777777777778,
              "#fb9f3a"
             ],
             [
              0.8888888888888888,
              "#fdca26"
             ],
             [
              1,
              "#f0f921"
             ]
            ],
            "type": "contour"
           }
          ],
          "contourcarpet": [
           {
            "colorbar": {
             "outlinewidth": 0,
             "ticks": ""
            },
            "type": "contourcarpet"
           }
          ],
          "heatmap": [
           {
            "colorbar": {
             "outlinewidth": 0,
             "ticks": ""
            },
            "colorscale": [
             [
              0,
              "#0d0887"
             ],
             [
              0.1111111111111111,
              "#46039f"
             ],
             [
              0.2222222222222222,
              "#7201a8"
             ],
             [
              0.3333333333333333,
              "#9c179e"
             ],
             [
              0.4444444444444444,
              "#bd3786"
             ],
             [
              0.5555555555555556,
              "#d8576b"
             ],
             [
              0.6666666666666666,
              "#ed7953"
             ],
             [
              0.7777777777777778,
              "#fb9f3a"
             ],
             [
              0.8888888888888888,
              "#fdca26"
             ],
             [
              1,
              "#f0f921"
             ]
            ],
            "type": "heatmap"
           }
          ],
          "heatmapgl": [
           {
            "colorbar": {
             "outlinewidth": 0,
             "ticks": ""
            },
            "colorscale": [
             [
              0,
              "#0d0887"
             ],
             [
              0.1111111111111111,
              "#46039f"
             ],
             [
              0.2222222222222222,
              "#7201a8"
             ],
             [
              0.3333333333333333,
              "#9c179e"
             ],
             [
              0.4444444444444444,
              "#bd3786"
             ],
             [
              0.5555555555555556,
              "#d8576b"
             ],
             [
              0.6666666666666666,
              "#ed7953"
             ],
             [
              0.7777777777777778,
              "#fb9f3a"
             ],
             [
              0.8888888888888888,
              "#fdca26"
             ],
             [
              1,
              "#f0f921"
             ]
            ],
            "type": "heatmapgl"
           }
          ],
          "histogram": [
           {
            "marker": {
             "pattern": {
              "fillmode": "overlay",
              "size": 10,
              "solidity": 0.2
             }
            },
            "type": "histogram"
           }
          ],
          "histogram2d": [
           {
            "colorbar": {
             "outlinewidth": 0,
             "ticks": ""
            },
            "colorscale": [
             [
              0,
              "#0d0887"
             ],
             [
              0.1111111111111111,
              "#46039f"
             ],
             [
              0.2222222222222222,
              "#7201a8"
             ],
             [
              0.3333333333333333,
              "#9c179e"
             ],
             [
              0.4444444444444444,
              "#bd3786"
             ],
             [
              0.5555555555555556,
              "#d8576b"
             ],
             [
              0.6666666666666666,
              "#ed7953"
             ],
             [
              0.7777777777777778,
              "#fb9f3a"
             ],
             [
              0.8888888888888888,
              "#fdca26"
             ],
             [
              1,
              "#f0f921"
             ]
            ],
            "type": "histogram2d"
           }
          ],
          "histogram2dcontour": [
           {
            "colorbar": {
             "outlinewidth": 0,
             "ticks": ""
            },
            "colorscale": [
             [
              0,
              "#0d0887"
             ],
             [
              0.1111111111111111,
              "#46039f"
             ],
             [
              0.2222222222222222,
              "#7201a8"
             ],
             [
              0.3333333333333333,
              "#9c179e"
             ],
             [
              0.4444444444444444,
              "#bd3786"
             ],
             [
              0.5555555555555556,
              "#d8576b"
             ],
             [
              0.6666666666666666,
              "#ed7953"
             ],
             [
              0.7777777777777778,
              "#fb9f3a"
             ],
             [
              0.8888888888888888,
              "#fdca26"
             ],
             [
              1,
              "#f0f921"
             ]
            ],
            "type": "histogram2dcontour"
           }
          ],
          "mesh3d": [
           {
            "colorbar": {
             "outlinewidth": 0,
             "ticks": ""
            },
            "type": "mesh3d"
           }
          ],
          "parcoords": [
           {
            "line": {
             "colorbar": {
              "outlinewidth": 0,
              "ticks": ""
             }
            },
            "type": "parcoords"
           }
          ],
          "pie": [
           {
            "automargin": true,
            "type": "pie"
           }
          ],
          "scatter": [
           {
            "marker": {
             "colorbar": {
              "outlinewidth": 0,
              "ticks": ""
             }
            },
            "type": "scatter"
           }
          ],
          "scatter3d": [
           {
            "line": {
             "colorbar": {
              "outlinewidth": 0,
              "ticks": ""
             }
            },
            "marker": {
             "colorbar": {
              "outlinewidth": 0,
              "ticks": ""
             }
            },
            "type": "scatter3d"
           }
          ],
          "scattercarpet": [
           {
            "marker": {
             "colorbar": {
              "outlinewidth": 0,
              "ticks": ""
             }
            },
            "type": "scattercarpet"
           }
          ],
          "scattergeo": [
           {
            "marker": {
             "colorbar": {
              "outlinewidth": 0,
              "ticks": ""
             }
            },
            "type": "scattergeo"
           }
          ],
          "scattergl": [
           {
            "marker": {
             "colorbar": {
              "outlinewidth": 0,
              "ticks": ""
             }
            },
            "type": "scattergl"
           }
          ],
          "scattermapbox": [
           {
            "marker": {
             "colorbar": {
              "outlinewidth": 0,
              "ticks": ""
             }
            },
            "type": "scattermapbox"
           }
          ],
          "scatterpolar": [
           {
            "marker": {
             "colorbar": {
              "outlinewidth": 0,
              "ticks": ""
             }
            },
            "type": "scatterpolar"
           }
          ],
          "scatterpolargl": [
           {
            "marker": {
             "colorbar": {
              "outlinewidth": 0,
              "ticks": ""
             }
            },
            "type": "scatterpolargl"
           }
          ],
          "scatterternary": [
           {
            "marker": {
             "colorbar": {
              "outlinewidth": 0,
              "ticks": ""
             }
            },
            "type": "scatterternary"
           }
          ],
          "surface": [
           {
            "colorbar": {
             "outlinewidth": 0,
             "ticks": ""
            },
            "colorscale": [
             [
              0,
              "#0d0887"
             ],
             [
              0.1111111111111111,
              "#46039f"
             ],
             [
              0.2222222222222222,
              "#7201a8"
             ],
             [
              0.3333333333333333,
              "#9c179e"
             ],
             [
              0.4444444444444444,
              "#bd3786"
             ],
             [
              0.5555555555555556,
              "#d8576b"
             ],
             [
              0.6666666666666666,
              "#ed7953"
             ],
             [
              0.7777777777777778,
              "#fb9f3a"
             ],
             [
              0.8888888888888888,
              "#fdca26"
             ],
             [
              1,
              "#f0f921"
             ]
            ],
            "type": "surface"
           }
          ],
          "table": [
           {
            "cells": {
             "fill": {
              "color": "#EBF0F8"
             },
             "line": {
              "color": "white"
             }
            },
            "header": {
             "fill": {
              "color": "#C8D4E3"
             },
             "line": {
              "color": "white"
             }
            },
            "type": "table"
           }
          ]
         },
         "layout": {
          "annotationdefaults": {
           "arrowcolor": "#2a3f5f",
           "arrowhead": 0,
           "arrowwidth": 1
          },
          "autotypenumbers": "strict",
          "coloraxis": {
           "colorbar": {
            "outlinewidth": 0,
            "ticks": ""
           }
          },
          "colorscale": {
           "diverging": [
            [
             0,
             "#8e0152"
            ],
            [
             0.1,
             "#c51b7d"
            ],
            [
             0.2,
             "#de77ae"
            ],
            [
             0.3,
             "#f1b6da"
            ],
            [
             0.4,
             "#fde0ef"
            ],
            [
             0.5,
             "#f7f7f7"
            ],
            [
             0.6,
             "#e6f5d0"
            ],
            [
             0.7,
             "#b8e186"
            ],
            [
             0.8,
             "#7fbc41"
            ],
            [
             0.9,
             "#4d9221"
            ],
            [
             1,
             "#276419"
            ]
           ],
           "sequential": [
            [
             0,
             "#0d0887"
            ],
            [
             0.1111111111111111,
             "#46039f"
            ],
            [
             0.2222222222222222,
             "#7201a8"
            ],
            [
             0.3333333333333333,
             "#9c179e"
            ],
            [
             0.4444444444444444,
             "#bd3786"
            ],
            [
             0.5555555555555556,
             "#d8576b"
            ],
            [
             0.6666666666666666,
             "#ed7953"
            ],
            [
             0.7777777777777778,
             "#fb9f3a"
            ],
            [
             0.8888888888888888,
             "#fdca26"
            ],
            [
             1,
             "#f0f921"
            ]
           ],
           "sequentialminus": [
            [
             0,
             "#0d0887"
            ],
            [
             0.1111111111111111,
             "#46039f"
            ],
            [
             0.2222222222222222,
             "#7201a8"
            ],
            [
             0.3333333333333333,
             "#9c179e"
            ],
            [
             0.4444444444444444,
             "#bd3786"
            ],
            [
             0.5555555555555556,
             "#d8576b"
            ],
            [
             0.6666666666666666,
             "#ed7953"
            ],
            [
             0.7777777777777778,
             "#fb9f3a"
            ],
            [
             0.8888888888888888,
             "#fdca26"
            ],
            [
             1,
             "#f0f921"
            ]
           ]
          },
          "colorway": [
           "#636efa",
           "#EF553B",
           "#00cc96",
           "#ab63fa",
           "#FFA15A",
           "#19d3f3",
           "#FF6692",
           "#B6E880",
           "#FF97FF",
           "#FECB52"
          ],
          "font": {
           "color": "#2a3f5f"
          },
          "geo": {
           "bgcolor": "white",
           "lakecolor": "white",
           "landcolor": "#E5ECF6",
           "showlakes": true,
           "showland": true,
           "subunitcolor": "white"
          },
          "hoverlabel": {
           "align": "left"
          },
          "hovermode": "closest",
          "mapbox": {
           "style": "light"
          },
          "paper_bgcolor": "white",
          "plot_bgcolor": "#E5ECF6",
          "polar": {
           "angularaxis": {
            "gridcolor": "white",
            "linecolor": "white",
            "ticks": ""
           },
           "bgcolor": "#E5ECF6",
           "radialaxis": {
            "gridcolor": "white",
            "linecolor": "white",
            "ticks": ""
           }
          },
          "scene": {
           "xaxis": {
            "backgroundcolor": "#E5ECF6",
            "gridcolor": "white",
            "gridwidth": 2,
            "linecolor": "white",
            "showbackground": true,
            "ticks": "",
            "zerolinecolor": "white"
           },
           "yaxis": {
            "backgroundcolor": "#E5ECF6",
            "gridcolor": "white",
            "gridwidth": 2,
            "linecolor": "white",
            "showbackground": true,
            "ticks": "",
            "zerolinecolor": "white"
           },
           "zaxis": {
            "backgroundcolor": "#E5ECF6",
            "gridcolor": "white",
            "gridwidth": 2,
            "linecolor": "white",
            "showbackground": true,
            "ticks": "",
            "zerolinecolor": "white"
           }
          },
          "shapedefaults": {
           "line": {
            "color": "#2a3f5f"
           }
          },
          "ternary": {
           "aaxis": {
            "gridcolor": "white",
            "linecolor": "white",
            "ticks": ""
           },
           "baxis": {
            "gridcolor": "white",
            "linecolor": "white",
            "ticks": ""
           },
           "bgcolor": "#E5ECF6",
           "caxis": {
            "gridcolor": "white",
            "linecolor": "white",
            "ticks": ""
           }
          },
          "title": {
           "x": 0.05
          },
          "xaxis": {
           "automargin": true,
           "gridcolor": "white",
           "linecolor": "white",
           "ticks": "",
           "title": {
            "standoff": 15
           },
           "zerolinecolor": "white",
           "zerolinewidth": 2
          },
          "yaxis": {
           "automargin": true,
           "gridcolor": "white",
           "linecolor": "white",
           "ticks": "",
           "title": {
            "standoff": 15
           },
           "zerolinecolor": "white",
           "zerolinewidth": 2
          }
         }
        },
        "title": {
         "text": "Behavioural Performance"
        },
        "violingap": 0.3,
        "violingroupgap": 0,
        "violinmode": "overlay",
        "width": 700,
        "yaxis": {
         "title": {
          "text": "d'"
         }
        }
       }
      }
     },
     "metadata": {},
     "output_type": "display_data"
    }
   ],
   "source": [
    "show_legend = [True,True,False,False]\n",
    "\n",
    "fig = go.Figure()\n",
    "\n",
    "# for i in range(0,len(pd.unique(df_plot['ROI']))):\n",
    "i = 0\n",
    "fig.add_trace(go.Violin(x= df_dprime_violin['label'][(df_dprime_violin['cond'] == 'Fixed') &\n",
    "                                (df_dprime_violin['label'] == pd.unique(df_dprime_violin['label'])[i])],\n",
    "                    y=df_dprime_violin['dprime'][(df_dprime_violin['cond'] == 'Fixed')&\n",
    "                                        (df_dprime_violin['label'] == pd.unique(df_dprime_violin['label'])[i])],\n",
    "                                        \n",
    "                                        legendgroup='Fixed', scalegroup='Fixed', name='Fixed',\n",
    "                    side='negative',\n",
    "                    pointpos=-1.07, # where to position points\n",
    "                    line_color='lightseagreen',\n",
    "                    showlegend=show_legend[i],\n",
    "                    ))\n",
    "        \n",
    "\n",
    "fig.add_trace(go.Violin(x=df_dprime_violin['label'][(df_dprime_violin['cond'] == 'Individualised') &\n",
    "                                (df_dprime_violin['label'] == pd.unique(df_dprime_violin['label'])[i])],\n",
    "                    y=df_dprime_violin['dprime'][(df_dprime_violin['cond'] == 'Individualised')&\n",
    "                                        (df_dprime_violin['label'] == pd.unique(df_dprime_violin['label'])[i])],\n",
    "                    legendgroup='Individualised', scalegroup='Individualised', name='Individualised',\n",
    "                    side='positive',\n",
    "                    pointpos=1.1, # where to position points\n",
    "                    line_color='mediumpurple',\n",
    "                    showlegend=show_legend[i],\n",
    "                    \n",
    "                    ))                    \n",
    "\n",
    "\n",
    "# update characteristics shared by all traces\n",
    "fig.update_traces(meanline_visible=True,\n",
    "                  points='all', # show all points\n",
    "                  jitter=0.05,  # add some jitter on points for better visibility\n",
    "                  scalemode='count') #scale violin plot area with total count\n",
    "fig.update_layout(\n",
    "    title_text=\"Behavioural Performance\",\n",
    "    # xaxis_title = \"ROI\",\n",
    "    yaxis_title = \"d'\",\n",
    "    violingap=0.3, violingroupgap=0, violinmode='overlay',\n",
    "    autosize = False,\n",
    "    width = 700, \n",
    "    height = 500,\n",
    "    font_size = 20,\n",
    "    plot_bgcolor = '#f0f9ff' )\n",
    "# fig.write_image(\"/dPrime.jpg\", scale = 12)\n",
    "fig.show()"
   ]
  }
 ],
 "metadata": {
  "kernelspec": {
   "display_name": "base",
   "language": "python",
   "name": "python3"
  },
  "language_info": {
   "codemirror_mode": {
    "name": "ipython",
    "version": 3
   },
   "file_extension": ".py",
   "mimetype": "text/x-python",
   "name": "python",
   "nbconvert_exporter": "python",
   "pygments_lexer": "ipython3",
   "version": "3.9.7"
  },
  "orig_nbformat": 4,
  "vscode": {
   "interpreter": {
    "hash": "46a609785b0e23c8ca00ec6d45903a2d9b87cdc5c6159144bba0d5fc4116e711"
   }
  }
 },
 "nbformat": 4,
 "nbformat_minor": 2
}
